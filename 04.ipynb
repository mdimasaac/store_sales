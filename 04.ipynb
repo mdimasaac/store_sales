{
 "cells": [
  {
   "attachments": {},
   "cell_type": "markdown",
   "metadata": {},
   "source": [
    "### upload images to snowflake"
   ]
  },
  {
   "cell_type": "code",
   "execution_count": null,
   "metadata": {},
   "outputs": [],
   "source": [
    "# upload images to snowflake\n",
    "import snowflake.connector\n",
    "\n",
    "# Open the image file and read it as bytes\n",
    "with open('my_image.jpg', 'rb') as f:\n",
    "    image_bytes = f.read()\n",
    "\n",
    "# Connect to Snowflake\n",
    "conn = snowflake.connector.connect(\n",
    "    user='my_user',\n",
    "    password='my_password',\n",
    "    account='my_account',\n",
    "    warehouse='my_warehouse',\n",
    "    database='my_database',\n",
    "    schema='my_schema'\n",
    ")\n",
    "\n",
    "# Create a table to store the image\n",
    "cur = conn.cursor()\n",
    "cur.execute('CREATE TABLE image_table (image_data BINARY)')\n",
    "\n",
    "# Insert the image into the table\n",
    "cur.execute('INSERT INTO image_table (image_data) VALUES (%s)', (image_bytes,))\n",
    "conn.commit()\n",
    "\n",
    "# Close the connection\n",
    "conn.close()\n"
   ]
  },
  {
   "attachments": {},
   "cell_type": "markdown",
   "metadata": {},
   "source": [
    "### fetch image from snowflake; display image on streamlit"
   ]
  },
  {
   "cell_type": "code",
   "execution_count": null,
   "metadata": {},
   "outputs": [],
   "source": [
    "# fetch image from snowflake; display image on streamlit\n",
    "import snowflake.connector\n",
    "import streamlit as st\n",
    "from PIL import Image\n",
    "import io\n",
    "\n",
    "# Connect to Snowflake\n",
    "conn = snowflake.connector.connect(\n",
    "    user='<your_username>',\n",
    "    password='<your_password>',\n",
    "    account='<your_account>',\n",
    "    warehouse='<your_warehouse>',\n",
    "    database='<your_database>',\n",
    "    schema='<your_schema>'\n",
    ")\n",
    "\n",
    "# Execute a SQL query to fetch the image\n",
    "cursor = conn.cursor()\n",
    "cursor.execute('SELECT image_data FROM my_table WHERE id = 123')\n",
    "\n",
    "# Retrieve the image data from the cursor\n",
    "image_data = cursor.fetchone()[0]\n",
    "\n",
    "# Create an in-memory file object and load the image data\n",
    "image_file = io.BytesIO(image_data)\n",
    "image = Image.open(image_file)\n",
    "\n",
    "# Display the image in Streamlit\n",
    "st.image(image, caption='My Image')\n"
   ]
  }
 ],
 "metadata": {
  "language_info": {
   "name": "python"
  },
  "orig_nbformat": 4
 },
 "nbformat": 4,
 "nbformat_minor": 2
}
