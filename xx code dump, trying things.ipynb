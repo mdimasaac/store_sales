{
 "cells": [
  {
   "cell_type": "code",
   "execution_count": 55,
   "metadata": {},
   "outputs": [],
   "source": [
    "import pandas as pd\n",
    "import snowflake.connector"
   ]
  },
  {
   "cell_type": "code",
   "execution_count": 56,
   "metadata": {},
   "outputs": [],
   "source": [
    "conn = snowflake.connector.connect(user = \"mdimasaac\", password = \"Snowflake123\", account = \"vliobpf-yr09142\",\n",
    "                                    database = \"store_it\", schema = \"store_schema\")\n",
    "cur = conn.cursor()"
   ]
  },
  {
   "cell_type": "code",
   "execution_count": 83,
   "metadata": {},
   "outputs": [
    {
     "name": "stdout",
     "output_type": "stream",
     "text": [
      "(10000, 12)\n"
     ]
    },
    {
     "data": {
      "text/html": [
       "<div>\n",
       "<style scoped>\n",
       "    .dataframe tbody tr th:only-of-type {\n",
       "        vertical-align: middle;\n",
       "    }\n",
       "\n",
       "    .dataframe tbody tr th {\n",
       "        vertical-align: top;\n",
       "    }\n",
       "\n",
       "    .dataframe thead th {\n",
       "        text-align: right;\n",
       "    }\n",
       "</style>\n",
       "<table border=\"1\" class=\"dataframe\">\n",
       "  <thead>\n",
       "    <tr style=\"text-align: right;\">\n",
       "      <th></th>\n",
       "      <th>DATE</th>\n",
       "      <th>MONTH</th>\n",
       "      <th>YEAR</th>\n",
       "      <th>PRODUCT_ID</th>\n",
       "      <th>PRODUCT_NAME</th>\n",
       "      <th>CATEGORY</th>\n",
       "      <th>BUY_PRICE</th>\n",
       "      <th>SELL_PRICE</th>\n",
       "      <th>QUANTITY</th>\n",
       "      <th>SALES</th>\n",
       "      <th>PROFIT_PER_ITEM</th>\n",
       "      <th>PROFIT</th>\n",
       "    </tr>\n",
       "  </thead>\n",
       "  <tbody>\n",
       "    <tr>\n",
       "      <th>0</th>\n",
       "      <td>2022-11-02</td>\n",
       "      <td>11</td>\n",
       "      <td>2022</td>\n",
       "      <td>OFF-ST-10000988</td>\n",
       "      <td>Fellowes Folders, Blue</td>\n",
       "      <td>Storage</td>\n",
       "      <td>25.99</td>\n",
       "      <td>33.53</td>\n",
       "      <td>3</td>\n",
       "      <td>77.97</td>\n",
       "      <td>7.54</td>\n",
       "      <td>22.62</td>\n",
       "    </tr>\n",
       "  </tbody>\n",
       "</table>\n",
       "</div>"
      ],
      "text/plain": [
       "         DATE MONTH  YEAR       PRODUCT_ID            PRODUCT_NAME CATEGORY  \\\n",
       "0  2022-11-02    11  2022  OFF-ST-10000988  Fellowes Folders, Blue  Storage   \n",
       "\n",
       "   BUY_PRICE  SELL_PRICE  QUANTITY  SALES  PROFIT_PER_ITEM  PROFIT  \n",
       "0      25.99       33.53         3  77.97             7.54   22.62  "
      ]
     },
     "execution_count": 83,
     "metadata": {},
     "output_type": "execute_result"
    }
   ],
   "source": [
    "qdf = \"select * from store_data\"\n",
    "cur.execute(qdf)\n",
    "df = cur.fetch_pandas_all()\n",
    "print(df.shape)\n",
    "df.head(1)"
   ]
  },
  {
   "cell_type": "code",
   "execution_count": 5,
   "metadata": {},
   "outputs": [
    {
     "data": {
      "text/plain": [
       "17"
      ]
     },
     "execution_count": 5,
     "metadata": {},
     "output_type": "execute_result"
    }
   ],
   "source": [
    "len(df[\"CATEGORY\"].unique().tolist())"
   ]
  },
  {
   "attachments": {},
   "cell_type": "markdown",
   "metadata": {},
   "source": [
    "### skip this\n"
   ]
  },
  {
   "cell_type": "code",
   "execution_count": 3,
   "metadata": {},
   "outputs": [
    {
     "name": "stdout",
     "output_type": "stream",
     "text": [
      "(1856, 7)\n"
     ]
    },
    {
     "data": {
      "text/html": [
       "<div>\n",
       "<style scoped>\n",
       "    .dataframe tbody tr th:only-of-type {\n",
       "        vertical-align: middle;\n",
       "    }\n",
       "\n",
       "    .dataframe tbody tr th {\n",
       "        vertical-align: top;\n",
       "    }\n",
       "\n",
       "    .dataframe thead th {\n",
       "        text-align: right;\n",
       "    }\n",
       "</style>\n",
       "<table border=\"1\" class=\"dataframe\">\n",
       "  <thead>\n",
       "    <tr style=\"text-align: right;\">\n",
       "      <th></th>\n",
       "      <th>PRODUCT_NAME</th>\n",
       "      <th>PRODUCT_ID</th>\n",
       "      <th>CATEGORY</th>\n",
       "      <th>BUY_PRICE</th>\n",
       "      <th>SELL_PRICE</th>\n",
       "      <th>STOCK</th>\n",
       "      <th>PROFIT_PER_ITEM</th>\n",
       "    </tr>\n",
       "  </thead>\n",
       "  <tbody>\n",
       "    <tr>\n",
       "      <th>0</th>\n",
       "      <td>Fellowes Folders, Blue</td>\n",
       "      <td>OFF-ST-10000988</td>\n",
       "      <td>Storage</td>\n",
       "      <td>25.99</td>\n",
       "      <td>28.59</td>\n",
       "      <td>3</td>\n",
       "      <td>2.60</td>\n",
       "    </tr>\n",
       "    <tr>\n",
       "      <th>1</th>\n",
       "      <td>SanDisk Numeric Keypad, Bluetooth</td>\n",
       "      <td>TEC-AC-10004144</td>\n",
       "      <td>Accessories</td>\n",
       "      <td>55.99</td>\n",
       "      <td>68.87</td>\n",
       "      <td>15</td>\n",
       "      <td>12.88</td>\n",
       "    </tr>\n",
       "    <tr>\n",
       "      <th>2</th>\n",
       "      <td>Avery Legal Exhibit Labels, 5000 Label Set</td>\n",
       "      <td>OFF-LA-10001915</td>\n",
       "      <td>Labels</td>\n",
       "      <td>11.99</td>\n",
       "      <td>14.75</td>\n",
       "      <td>7</td>\n",
       "      <td>2.76</td>\n",
       "    </tr>\n",
       "    <tr>\n",
       "      <th>3</th>\n",
       "      <td>Fellowes Folders, Wire Frame</td>\n",
       "      <td>OFF-ST-10004550</td>\n",
       "      <td>Storage</td>\n",
       "      <td>24.99</td>\n",
       "      <td>29.24</td>\n",
       "      <td>13</td>\n",
       "      <td>4.25</td>\n",
       "    </tr>\n",
       "    <tr>\n",
       "      <th>4</th>\n",
       "      <td>Memorex Memory Card, USB</td>\n",
       "      <td>TEC-AC-10004068</td>\n",
       "      <td>Accessories</td>\n",
       "      <td>101.99</td>\n",
       "      <td>128.51</td>\n",
       "      <td>6</td>\n",
       "      <td>26.52</td>\n",
       "    </tr>\n",
       "  </tbody>\n",
       "</table>\n",
       "</div>"
      ],
      "text/plain": [
       "                                 PRODUCT_NAME       PRODUCT_ID     CATEGORY  \\\n",
       "0                      Fellowes Folders, Blue  OFF-ST-10000988      Storage   \n",
       "1           SanDisk Numeric Keypad, Bluetooth  TEC-AC-10004144  Accessories   \n",
       "2  Avery Legal Exhibit Labels, 5000 Label Set  OFF-LA-10001915       Labels   \n",
       "3                Fellowes Folders, Wire Frame  OFF-ST-10004550      Storage   \n",
       "4                    Memorex Memory Card, USB  TEC-AC-10004068  Accessories   \n",
       "\n",
       "   BUY_PRICE  SELL_PRICE  STOCK  PROFIT_PER_ITEM  \n",
       "0      25.99       28.59      3             2.60  \n",
       "1      55.99       68.87     15            12.88  \n",
       "2      11.99       14.75      7             2.76  \n",
       "3      24.99       29.24     13             4.25  \n",
       "4     101.99      128.51      6            26.52  "
      ]
     },
     "execution_count": 3,
     "metadata": {},
     "output_type": "execute_result"
    }
   ],
   "source": [
    "qdflog = \"select * from logistics\"\n",
    "cur.execute(qdflog)\n",
    "dflog = cur.fetch_pandas_all()\n",
    "print(dflog.shape)\n",
    "dflog.head()"
   ]
  },
  {
   "cell_type": "code",
   "execution_count": 22,
   "metadata": {},
   "outputs": [],
   "source": [
    "dfcart = pd.DataFrame(columns=[\"Product Name\",\"Price\",\"Qty\",\"Total\"])\n",
    "dfcart.to_csv(\"cart.csv\",index = False)"
   ]
  },
  {
   "cell_type": "code",
   "execution_count": 23,
   "metadata": {},
   "outputs": [
    {
     "data": {
      "text/html": [
       "<div>\n",
       "<style scoped>\n",
       "    .dataframe tbody tr th:only-of-type {\n",
       "        vertical-align: middle;\n",
       "    }\n",
       "\n",
       "    .dataframe tbody tr th {\n",
       "        vertical-align: top;\n",
       "    }\n",
       "\n",
       "    .dataframe thead th {\n",
       "        text-align: right;\n",
       "    }\n",
       "</style>\n",
       "<table border=\"1\" class=\"dataframe\">\n",
       "  <thead>\n",
       "    <tr style=\"text-align: right;\">\n",
       "      <th></th>\n",
       "      <th>Product Name</th>\n",
       "      <th>Price</th>\n",
       "      <th>Qty</th>\n",
       "      <th>Total</th>\n",
       "    </tr>\n",
       "  </thead>\n",
       "  <tbody>\n",
       "  </tbody>\n",
       "</table>\n",
       "</div>"
      ],
      "text/plain": [
       "Empty DataFrame\n",
       "Columns: [Product Name, Price, Qty, Total]\n",
       "Index: []"
      ]
     },
     "execution_count": 23,
     "metadata": {},
     "output_type": "execute_result"
    }
   ],
   "source": [
    "cart = pd.read_csv(\"cart.csv\")\n",
    "cart.head()"
   ]
  },
  {
   "cell_type": "code",
   "execution_count": 19,
   "metadata": {},
   "outputs": [
    {
     "name": "stderr",
     "output_type": "stream",
     "text": [
      "C:\\Users\\mdima\\AppData\\Local\\Temp\\ipykernel_6928\\4046239720.py:2: SettingWithCopyWarning: \n",
      "A value is trying to be set on a copy of a slice from a DataFrame\n",
      "\n",
      "See the caveats in the documentation: https://pandas.pydata.org/pandas-docs/stable/user_guide/indexing.html#returning-a-view-versus-a-copy\n",
      "  dfcopy[\"STOCK\"][dfcopy[\"PRODUCT_NAME\"] == \"Fellowes Folders, Blue\"] = dfcopy[\"STOCK\"][dfcopy[\"PRODUCT_NAME\"] == \"Fellowes Folders, Blue\"] - 1\n"
     ]
    }
   ],
   "source": [
    "\n",
    "dfcopy = dflog.copy()\n",
    "dfcopy[\"STOCK\"][dfcopy[\"PRODUCT_NAME\"] == \"Fellowes Folders, Blue\"] = dfcopy[\"STOCK\"][dfcopy[\"PRODUCT_NAME\"] == \"Fellowes Folders, Blue\"] - 1"
   ]
  },
  {
   "cell_type": "code",
   "execution_count": 20,
   "metadata": {},
   "outputs": [
    {
     "data": {
      "text/plain": [
       "2"
      ]
     },
     "execution_count": 20,
     "metadata": {},
     "output_type": "execute_result"
    }
   ],
   "source": [
    "dfcopy[\"STOCK\"][dfcopy[\"PRODUCT_NAME\"] == \"Fellowes Folders, Blue\"].values[0]"
   ]
  },
  {
   "cell_type": "code",
   "execution_count": 31,
   "metadata": {},
   "outputs": [
    {
     "data": {
      "text/html": [
       "<div>\n",
       "<style scoped>\n",
       "    .dataframe tbody tr th:only-of-type {\n",
       "        vertical-align: middle;\n",
       "    }\n",
       "\n",
       "    .dataframe tbody tr th {\n",
       "        vertical-align: top;\n",
       "    }\n",
       "\n",
       "    .dataframe thead th {\n",
       "        text-align: right;\n",
       "    }\n",
       "</style>\n",
       "<table border=\"1\" class=\"dataframe\">\n",
       "  <thead>\n",
       "    <tr style=\"text-align: right;\">\n",
       "      <th></th>\n",
       "      <th>DATE</th>\n",
       "      <th>MONTH</th>\n",
       "      <th>YEAR</th>\n",
       "      <th>PRODUCT_ID</th>\n",
       "      <th>PRODUCT_NAME</th>\n",
       "      <th>CATEGORY</th>\n",
       "      <th>BUY_PRICE</th>\n",
       "      <th>SELL_PRICE</th>\n",
       "      <th>QUANTITY</th>\n",
       "      <th>SALES</th>\n",
       "      <th>PROFIT_PER_ITEM</th>\n",
       "      <th>PROFIT</th>\n",
       "    </tr>\n",
       "  </thead>\n",
       "  <tbody>\n",
       "    <tr>\n",
       "      <th>0</th>\n",
       "      <td>2022-10-02</td>\n",
       "      <td>October</td>\n",
       "      <td>2022</td>\n",
       "      <td>OFF-ST-10000988</td>\n",
       "      <td>Fellowes Folders, Blue</td>\n",
       "      <td>Storage</td>\n",
       "      <td>25.99</td>\n",
       "      <td>28.59</td>\n",
       "      <td>2</td>\n",
       "      <td>57.18</td>\n",
       "      <td>2.6</td>\n",
       "      <td>5.2</td>\n",
       "    </tr>\n",
       "  </tbody>\n",
       "</table>\n",
       "</div>"
      ],
      "text/plain": [
       "         DATE    MONTH  YEAR       PRODUCT_ID            PRODUCT_NAME  \\\n",
       "0  2022-10-02  October  2022  OFF-ST-10000988  Fellowes Folders, Blue   \n",
       "\n",
       "  CATEGORY  BUY_PRICE  SELL_PRICE  QUANTITY  SALES  PROFIT_PER_ITEM  PROFIT  \n",
       "0  Storage      25.99       28.59         2  57.18              2.6     5.2  "
      ]
     },
     "execution_count": 31,
     "metadata": {},
     "output_type": "execute_result"
    }
   ],
   "source": [
    "df1 = df[df[\"PRODUCT_NAME\"] == \"Fellowes Folders, Blue\"].head(1)\n",
    "df1[\"QUANTITY\"][df1[\"PRODUCT_NAME\"]==\"Fellowes Folders, Blue\"] = df1[\"QUANTITY\"][df1[\"PRODUCT_NAME\"]==\"Fellowes Folders, Blue\"]-1\n",
    "df1[\"SALES\"]=df1[\"QUANTITY\"]*df1[\"SELL_PRICE\"]\n",
    "df1[\"PROFIT\"]=df1[\"PROFIT_PER_ITEM\"]*df1[\"QUANTITY\"]\n",
    "df1"
   ]
  },
  {
   "cell_type": "code",
   "execution_count": 38,
   "metadata": {},
   "outputs": [
    {
     "name": "stderr",
     "output_type": "stream",
     "text": [
      "2023-04-07 21:39:55.700 INFO    snowflake.connector.connection: Snowflake Connector for Python Version: 3.0.2, Python Version: 3.8.0, Platform: Windows-10-10.0.19041-SP0\n",
      "2023-04-07 21:39:55.703 INFO    snowflake.connector.connection: This connection is in OCSP Fail Open Mode. TLS Certificates would be checked for validity and revocation status. Any other Certificate Revocation related exceptions or OCSP Responder failures would be disregarded in favor of connectivity.\n",
      "2023-04-07 21:39:57.154 INFO    snowflake.connector.cursor: query: [SELECT * FROM STORE_DATA WHERE CATEGORY = 'Storage' LIMIT 1]\n",
      "2023-04-07 21:39:57.352 INFO    snowflake.connector.cursor: query execution done\n",
      "2023-04-07 21:39:57.355 INFO    snowflake.connector.cursor: Number of results in first chunk: 1\n",
      "2023-04-07 21:39:57.359 INFO    snowflake.connector.cursor: query: [SELECT * FROM STORE_DATA WHERE CATEGORY = 'Accessories' LIMIT 1]\n",
      "2023-04-07 21:39:57.512 INFO    snowflake.connector.cursor: query execution done\n",
      "2023-04-07 21:39:57.513 INFO    snowflake.connector.cursor: Number of results in first chunk: 1\n",
      "2023-04-07 21:39:57.517 INFO    snowflake.connector.cursor: query: [SELECT * FROM STORE_DATA WHERE CATEGORY = 'Labels' LIMIT 1]\n",
      "2023-04-07 21:39:57.672 INFO    snowflake.connector.cursor: query execution done\n",
      "2023-04-07 21:39:57.673 INFO    snowflake.connector.cursor: Number of results in first chunk: 1\n",
      "2023-04-07 21:39:57.677 INFO    snowflake.connector.cursor: query: [SELECT * FROM STORE_DATA WHERE CATEGORY = 'Phones' LIMIT 1]\n",
      "2023-04-07 21:39:57.839 INFO    snowflake.connector.cursor: query execution done\n",
      "2023-04-07 21:39:57.840 INFO    snowflake.connector.cursor: Number of results in first chunk: 1\n",
      "2023-04-07 21:39:57.844 INFO    snowflake.connector.cursor: query: [SELECT * FROM STORE_DATA WHERE CATEGORY = 'Copiers' LIMIT 1]\n",
      "2023-04-07 21:39:58.042 INFO    snowflake.connector.cursor: query execution done\n",
      "2023-04-07 21:39:58.043 INFO    snowflake.connector.cursor: Number of results in first chunk: 1\n",
      "2023-04-07 21:39:58.047 INFO    snowflake.connector.cursor: query: [SELECT * FROM STORE_DATA WHERE CATEGORY = 'Appliances' LIMIT 1]\n",
      "2023-04-07 21:39:58.195 INFO    snowflake.connector.cursor: query execution done\n",
      "2023-04-07 21:39:58.196 INFO    snowflake.connector.cursor: Number of results in first chunk: 1\n",
      "2023-04-07 21:39:58.204 INFO    snowflake.connector.cursor: query: [SELECT * FROM STORE_DATA WHERE CATEGORY = 'Fasteners' LIMIT 1]\n",
      "2023-04-07 21:39:58.395 INFO    snowflake.connector.cursor: query execution done\n",
      "2023-04-07 21:39:58.396 INFO    snowflake.connector.cursor: Number of results in first chunk: 1\n",
      "2023-04-07 21:39:58.401 INFO    snowflake.connector.cursor: query: [SELECT * FROM STORE_DATA WHERE CATEGORY = 'Art' LIMIT 1]\n",
      "2023-04-07 21:39:58.592 INFO    snowflake.connector.cursor: query execution done\n",
      "2023-04-07 21:39:58.593 INFO    snowflake.connector.cursor: Number of results in first chunk: 1\n",
      "2023-04-07 21:39:58.597 INFO    snowflake.connector.cursor: query: [SELECT * FROM STORE_DATA WHERE CATEGORY = 'Machines' LIMIT 1]\n",
      "2023-04-07 21:39:58.752 INFO    snowflake.connector.cursor: query execution done\n",
      "2023-04-07 21:39:58.755 INFO    snowflake.connector.cursor: Number of results in first chunk: 1\n",
      "2023-04-07 21:39:58.760 INFO    snowflake.connector.cursor: query: [SELECT * FROM STORE_DATA WHERE CATEGORY = 'Binders' LIMIT 1]\n",
      "2023-04-07 21:39:58.914 INFO    snowflake.connector.cursor: query execution done\n",
      "2023-04-07 21:39:58.916 INFO    snowflake.connector.cursor: Number of results in first chunk: 1\n",
      "2023-04-07 21:39:58.924 INFO    snowflake.connector.cursor: query: [SELECT * FROM STORE_DATA WHERE CATEGORY = 'Bookcases' LIMIT 1]\n",
      "2023-04-07 21:39:59.111 INFO    snowflake.connector.cursor: query execution done\n",
      "2023-04-07 21:39:59.113 INFO    snowflake.connector.cursor: Number of results in first chunk: 1\n",
      "2023-04-07 21:39:59.118 INFO    snowflake.connector.cursor: query: [SELECT * FROM STORE_DATA WHERE CATEGORY = 'Paper' LIMIT 1]\n",
      "2023-04-07 21:39:59.285 INFO    snowflake.connector.cursor: query execution done\n",
      "2023-04-07 21:39:59.286 INFO    snowflake.connector.cursor: Number of results in first chunk: 1\n",
      "2023-04-07 21:39:59.290 INFO    snowflake.connector.cursor: query: [SELECT * FROM STORE_DATA WHERE CATEGORY = 'Supplies' LIMIT 1]\n",
      "2023-04-07 21:39:59.480 INFO    snowflake.connector.cursor: query execution done\n",
      "2023-04-07 21:39:59.481 INFO    snowflake.connector.cursor: Number of results in first chunk: 1\n",
      "2023-04-07 21:39:59.489 INFO    snowflake.connector.cursor: query: [SELECT * FROM STORE_DATA WHERE CATEGORY = 'Tables' LIMIT 1]\n",
      "2023-04-07 21:39:59.672 INFO    snowflake.connector.cursor: query execution done\n",
      "2023-04-07 21:39:59.673 INFO    snowflake.connector.cursor: Number of results in first chunk: 1\n",
      "2023-04-07 21:39:59.677 INFO    snowflake.connector.cursor: query: [SELECT * FROM STORE_DATA WHERE CATEGORY = 'Chairs' LIMIT 1]\n",
      "2023-04-07 21:39:59.831 INFO    snowflake.connector.cursor: query execution done\n",
      "2023-04-07 21:39:59.833 INFO    snowflake.connector.cursor: Number of results in first chunk: 1\n",
      "2023-04-07 21:39:59.837 INFO    snowflake.connector.cursor: query: [SELECT * FROM STORE_DATA WHERE CATEGORY = 'Furnishings' LIMIT 1]\n",
      "2023-04-07 21:39:59.993 INFO    snowflake.connector.cursor: query execution done\n",
      "2023-04-07 21:39:59.994 INFO    snowflake.connector.cursor: Number of results in first chunk: 1\n",
      "2023-04-07 21:39:59.998 INFO    snowflake.connector.cursor: query: [SELECT * FROM STORE_DATA WHERE CATEGORY = 'Envelopes' LIMIT 1]\n",
      "2023-04-07 21:40:00.160 INFO    snowflake.connector.cursor: query execution done\n",
      "2023-04-07 21:40:00.161 INFO    snowflake.connector.cursor: Number of results in first chunk: 1\n"
     ]
    },
    {
     "data": {
      "text/html": [
       "<div>\n",
       "<style scoped>\n",
       "    .dataframe tbody tr th:only-of-type {\n",
       "        vertical-align: middle;\n",
       "    }\n",
       "\n",
       "    .dataframe tbody tr th {\n",
       "        vertical-align: top;\n",
       "    }\n",
       "\n",
       "    .dataframe thead th {\n",
       "        text-align: right;\n",
       "    }\n",
       "</style>\n",
       "<table border=\"1\" class=\"dataframe\">\n",
       "  <thead>\n",
       "    <tr style=\"text-align: right;\">\n",
       "      <th></th>\n",
       "      <th>DATE</th>\n",
       "      <th>MONTH</th>\n",
       "      <th>YEAR</th>\n",
       "      <th>PRODUCT_ID</th>\n",
       "      <th>PRODUCT_NAME</th>\n",
       "      <th>CATEGORY</th>\n",
       "      <th>BUY_PRICE</th>\n",
       "      <th>SELL_PRICE</th>\n",
       "      <th>QUANTITY</th>\n",
       "      <th>SALES</th>\n",
       "      <th>PROFIT_PER_ITEM</th>\n",
       "      <th>PROFIT</th>\n",
       "    </tr>\n",
       "  </thead>\n",
       "  <tbody>\n",
       "    <tr>\n",
       "      <th>0</th>\n",
       "      <td>2022-10-02</td>\n",
       "      <td>October</td>\n",
       "      <td>2022</td>\n",
       "      <td>OFF-ST-10000988</td>\n",
       "      <td>Fellowes Folders, Blue</td>\n",
       "      <td>Storage</td>\n",
       "      <td>25.99</td>\n",
       "      <td>28.59</td>\n",
       "      <td>3</td>\n",
       "      <td>77.97</td>\n",
       "      <td>2.60</td>\n",
       "      <td>7.80</td>\n",
       "    </tr>\n",
       "    <tr>\n",
       "      <th>0</th>\n",
       "      <td>2022-10-02</td>\n",
       "      <td>October</td>\n",
       "      <td>2022</td>\n",
       "      <td>TEC-AC-10004144</td>\n",
       "      <td>SanDisk Numeric Keypad, Bluetooth</td>\n",
       "      <td>Accessories</td>\n",
       "      <td>55.99</td>\n",
       "      <td>68.87</td>\n",
       "      <td>7</td>\n",
       "      <td>391.93</td>\n",
       "      <td>12.88</td>\n",
       "      <td>90.16</td>\n",
       "    </tr>\n",
       "    <tr>\n",
       "      <th>0</th>\n",
       "      <td>2022-10-02</td>\n",
       "      <td>October</td>\n",
       "      <td>2022</td>\n",
       "      <td>OFF-LA-10001915</td>\n",
       "      <td>Avery Legal Exhibit Labels, 5000 Label Set</td>\n",
       "      <td>Labels</td>\n",
       "      <td>11.99</td>\n",
       "      <td>14.75</td>\n",
       "      <td>3</td>\n",
       "      <td>35.97</td>\n",
       "      <td>2.76</td>\n",
       "      <td>8.28</td>\n",
       "    </tr>\n",
       "    <tr>\n",
       "      <th>0</th>\n",
       "      <td>2022-10-02</td>\n",
       "      <td>October</td>\n",
       "      <td>2022</td>\n",
       "      <td>TEC-PH-10003963</td>\n",
       "      <td>Apple Signal Booster, Full Size</td>\n",
       "      <td>Phones</td>\n",
       "      <td>137.99</td>\n",
       "      <td>157.31</td>\n",
       "      <td>3</td>\n",
       "      <td>413.97</td>\n",
       "      <td>19.32</td>\n",
       "      <td>57.96</td>\n",
       "    </tr>\n",
       "    <tr>\n",
       "      <th>0</th>\n",
       "      <td>2020-05-08</td>\n",
       "      <td>May</td>\n",
       "      <td>2020</td>\n",
       "      <td>TEC-CO-10004325</td>\n",
       "      <td>Canon Personal Copier, Laser</td>\n",
       "      <td>Copiers</td>\n",
       "      <td>142.99</td>\n",
       "      <td>174.45</td>\n",
       "      <td>3</td>\n",
       "      <td>428.97</td>\n",
       "      <td>31.46</td>\n",
       "      <td>94.38</td>\n",
       "    </tr>\n",
       "  </tbody>\n",
       "</table>\n",
       "</div>"
      ],
      "text/plain": [
       "         DATE    MONTH  YEAR       PRODUCT_ID  \\\n",
       "0  2022-10-02  October  2022  OFF-ST-10000988   \n",
       "0  2022-10-02  October  2022  TEC-AC-10004144   \n",
       "0  2022-10-02  October  2022  OFF-LA-10001915   \n",
       "0  2022-10-02  October  2022  TEC-PH-10003963   \n",
       "0  2020-05-08      May  2020  TEC-CO-10004325   \n",
       "\n",
       "                                 PRODUCT_NAME     CATEGORY  BUY_PRICE  \\\n",
       "0                      Fellowes Folders, Blue      Storage      25.99   \n",
       "0           SanDisk Numeric Keypad, Bluetooth  Accessories      55.99   \n",
       "0  Avery Legal Exhibit Labels, 5000 Label Set       Labels      11.99   \n",
       "0             Apple Signal Booster, Full Size       Phones     137.99   \n",
       "0                Canon Personal Copier, Laser      Copiers     142.99   \n",
       "\n",
       "   SELL_PRICE  QUANTITY   SALES  PROFIT_PER_ITEM  PROFIT  \n",
       "0       28.59         3   77.97             2.60    7.80  \n",
       "0       68.87         7  391.93            12.88   90.16  \n",
       "0       14.75         3   35.97             2.76    8.28  \n",
       "0      157.31         3  413.97            19.32   57.96  \n",
       "0      174.45         3  428.97            31.46   94.38  "
      ]
     },
     "execution_count": 38,
     "metadata": {},
     "output_type": "execute_result"
    }
   ],
   "source": [
    "conn = snowflake.connector.connect(user = \"mdimasaac\", password = \"Snowflake123\", account = \"vliobpf-yr09142\",\n",
    "                                    database = \"store_it\", schema = \"store_schema\")\n",
    "cur = conn.cursor()\n",
    "qdf = pd.DataFrame()\n",
    "for name in dfcopy[\"CATEGORY\"].unique().tolist():\n",
    "# name = 'Fellowes Folders, Blue'\n",
    "    q_df = \"SELECT * FROM STORE_DATA WHERE CATEGORY = '\"+name+\"' LIMIT 1\"\n",
    "    cur.execute(q_df)\n",
    "    qdf1 = cur.fetch_pandas_all()\n",
    "    qdf = pd.concat([qdf,qdf1], axis = 0)\n",
    "qdf.head()"
   ]
  },
  {
   "attachments": {},
   "cell_type": "markdown",
   "metadata": {},
   "source": [
    "----------"
   ]
  },
  {
   "cell_type": "code",
   "execution_count": null,
   "metadata": {},
   "outputs": [],
   "source": [
    "df.to_csv(\"store_data_snowflake.csv\")"
   ]
  },
  {
   "attachments": {},
   "cell_type": "markdown",
   "metadata": {},
   "source": [
    "### and start from this"
   ]
  },
  {
   "cell_type": "code",
   "execution_count": 58,
   "metadata": {},
   "outputs": [],
   "source": [
    "import plotly.express as px\n"
   ]
  },
  {
   "cell_type": "code",
   "execution_count": 85,
   "metadata": {},
   "outputs": [
    {
     "data": {
      "text/html": [
       "<div>\n",
       "<style scoped>\n",
       "    .dataframe tbody tr th:only-of-type {\n",
       "        vertical-align: middle;\n",
       "    }\n",
       "\n",
       "    .dataframe tbody tr th {\n",
       "        vertical-align: top;\n",
       "    }\n",
       "\n",
       "    .dataframe thead th {\n",
       "        text-align: right;\n",
       "    }\n",
       "</style>\n",
       "<table border=\"1\" class=\"dataframe\">\n",
       "  <thead>\n",
       "    <tr style=\"text-align: right;\">\n",
       "      <th></th>\n",
       "      <th>DATE</th>\n",
       "      <th>MONTH</th>\n",
       "      <th>YEAR</th>\n",
       "      <th>PRODUCT_ID</th>\n",
       "      <th>PRODUCT_NAME</th>\n",
       "      <th>CATEGORY</th>\n",
       "      <th>BUY_PRICE</th>\n",
       "      <th>SELL_PRICE</th>\n",
       "      <th>QUANTITY</th>\n",
       "      <th>SALES</th>\n",
       "      <th>PROFIT_PER_ITEM</th>\n",
       "      <th>PROFIT</th>\n",
       "    </tr>\n",
       "  </thead>\n",
       "  <tbody>\n",
       "    <tr>\n",
       "      <th>0</th>\n",
       "      <td>2020-04-01</td>\n",
       "      <td>4</td>\n",
       "      <td>2020</td>\n",
       "      <td>OFF-AR-10001759</td>\n",
       "      <td>Sanford Sketch Pad, Fluorescent</td>\n",
       "      <td>Art</td>\n",
       "      <td>46.99</td>\n",
       "      <td>54.51</td>\n",
       "      <td>5</td>\n",
       "      <td>234.95</td>\n",
       "      <td>7.52</td>\n",
       "      <td>37.6</td>\n",
       "    </tr>\n",
       "  </tbody>\n",
       "</table>\n",
       "</div>"
      ],
      "text/plain": [
       "        DATE MONTH  YEAR       PRODUCT_ID                     PRODUCT_NAME  \\\n",
       "0 2020-04-01     4  2020  OFF-AR-10001759  Sanford Sketch Pad, Fluorescent   \n",
       "\n",
       "  CATEGORY  BUY_PRICE  SELL_PRICE  QUANTITY   SALES  PROFIT_PER_ITEM  PROFIT  \n",
       "0      Art      46.99       54.51         5  234.95             7.52    37.6  "
      ]
     },
     "execution_count": 85,
     "metadata": {},
     "output_type": "execute_result"
    }
   ],
   "source": [
    "# df[\"Y-M\"] = pd.to_datetime(df.YEAR.astype(str) + '-' + df.MONTH.astype(str))\n",
    "# df['MONTH'] = pd.to_datetime(df['MONTH'], format='%m').dt.strftime('%B')\n",
    "\n",
    "df['DATE'] = pd.to_datetime(df['DATE']).dt.strftime('%b %Y')\n",
    "df = df.sort_values(by=\"DATE\")\n",
    "df['DATE'] = pd.to_datetime(df['DATE'], format='%b %Y')\n",
    "df = df.reset_index(drop=True)\n",
    "df.head(1)"
   ]
  },
  {
   "cell_type": "code",
   "execution_count": null,
   "metadata": {},
   "outputs": [],
   "source": [
    "# profit sum, quantity sum, sales sum"
   ]
  },
  {
   "cell_type": "code",
   "execution_count": 11,
   "metadata": {},
   "outputs": [
    {
     "data": {
      "text/plain": [
       "CATEGORY\n",
       "Accessories     104.94\n",
       "Appliances       27.70\n",
       "Art             404.87\n",
       "Binders         294.68\n",
       "Bookcases      1096.42\n",
       "Chairs          254.00\n",
       "Copiers        1192.20\n",
       "Envelopes        23.79\n",
       "Fasteners        32.88\n",
       "Furnishings      89.92\n",
       "Labels           38.08\n",
       "Machines        107.64\n",
       "Paper            79.06\n",
       "Phones           66.20\n",
       "Storage         979.42\n",
       "Supplies        150.01\n",
       "Name: PROFIT, dtype: float64"
      ]
     },
     "execution_count": 11,
     "metadata": {},
     "output_type": "execute_result"
    }
   ],
   "source": [
    "df[[\"CATEGORY\",\"PROFIT\"]][(df[\"MONTH\"] == \"4\") & (df[\"YEAR\"] == 2019)].groupby([\"CATEGORY\"]).sum()[\"PROFIT\"]"
   ]
  },
  {
   "cell_type": "code",
   "execution_count": 60,
   "metadata": {},
   "outputs": [
    {
     "data": {
      "application/vnd.plotly.v1+json": {
       "config": {
        "plotlyServerURL": "https://plot.ly"
       },
       "data": [
        {
         "name": "Apr 2019",
         "type": "bar",
         "x": [
          "Accessories",
          "Appliances",
          "Art",
          "Binders",
          "Bookcases",
          "Chairs",
          "Copiers",
          "Envelopes",
          "Fasteners",
          "Furnishings",
          "Labels",
          "Machines",
          "Paper",
          "Phones",
          "Storage",
          "Supplies",
          "Tables"
         ],
         "y": []
        },
        {
         "name": "May 2019",
         "type": "bar",
         "x": [
          "Accessories",
          "Appliances",
          "Art",
          "Binders",
          "Bookcases",
          "Chairs",
          "Copiers",
          "Envelopes",
          "Fasteners",
          "Furnishings",
          "Labels",
          "Machines",
          "Paper",
          "Phones",
          "Storage",
          "Supplies",
          "Tables"
         ],
         "y": [
          96.5,
          77.56,
          403.36,
          318.71,
          1163.93,
          275.52,
          862.52,
          22.380000000000003,
          31.2,
          109.36000000000001,
          28.14,
          45.54,
          115.56,
          42.81999999999999,
          1057.93,
          189.02
         ]
        },
        {
         "name": "Jun 2019",
         "type": "bar",
         "x": [
          "Accessories",
          "Appliances",
          "Art",
          "Binders",
          "Bookcases",
          "Chairs",
          "Copiers",
          "Envelopes",
          "Fasteners",
          "Furnishings",
          "Labels",
          "Machines",
          "Paper",
          "Phones",
          "Storage",
          "Supplies",
          "Tables"
         ],
         "y": [
          764.4000000000001,
          204.26,
          289.12,
          421.42,
          1971.47,
          1109.1599999999999,
          1294.92,
          65.16,
          47.06,
          161.4,
          10.68,
          421.86,
          65.77,
          825.72,
          967.65,
          30.64,
          180.54000000000002
         ]
        }
       ],
       "layout": {
        "barmode": "group",
        "template": {
         "data": {
          "bar": [
           {
            "error_x": {
             "color": "#f2f5fa"
            },
            "error_y": {
             "color": "#f2f5fa"
            },
            "marker": {
             "line": {
              "color": "rgb(17,17,17)",
              "width": 0.5
             },
             "pattern": {
              "fillmode": "overlay",
              "size": 10,
              "solidity": 0.2
             }
            },
            "type": "bar"
           }
          ],
          "barpolar": [
           {
            "marker": {
             "line": {
              "color": "rgb(17,17,17)",
              "width": 0.5
             },
             "pattern": {
              "fillmode": "overlay",
              "size": 10,
              "solidity": 0.2
             }
            },
            "type": "barpolar"
           }
          ],
          "carpet": [
           {
            "aaxis": {
             "endlinecolor": "#A2B1C6",
             "gridcolor": "#506784",
             "linecolor": "#506784",
             "minorgridcolor": "#506784",
             "startlinecolor": "#A2B1C6"
            },
            "baxis": {
             "endlinecolor": "#A2B1C6",
             "gridcolor": "#506784",
             "linecolor": "#506784",
             "minorgridcolor": "#506784",
             "startlinecolor": "#A2B1C6"
            },
            "type": "carpet"
           }
          ],
          "choropleth": [
           {
            "colorbar": {
             "outlinewidth": 0,
             "ticks": ""
            },
            "type": "choropleth"
           }
          ],
          "contour": [
           {
            "colorbar": {
             "outlinewidth": 0,
             "ticks": ""
            },
            "colorscale": [
             [
              0,
              "#0d0887"
             ],
             [
              0.1111111111111111,
              "#46039f"
             ],
             [
              0.2222222222222222,
              "#7201a8"
             ],
             [
              0.3333333333333333,
              "#9c179e"
             ],
             [
              0.4444444444444444,
              "#bd3786"
             ],
             [
              0.5555555555555556,
              "#d8576b"
             ],
             [
              0.6666666666666666,
              "#ed7953"
             ],
             [
              0.7777777777777778,
              "#fb9f3a"
             ],
             [
              0.8888888888888888,
              "#fdca26"
             ],
             [
              1,
              "#f0f921"
             ]
            ],
            "type": "contour"
           }
          ],
          "contourcarpet": [
           {
            "colorbar": {
             "outlinewidth": 0,
             "ticks": ""
            },
            "type": "contourcarpet"
           }
          ],
          "heatmap": [
           {
            "colorbar": {
             "outlinewidth": 0,
             "ticks": ""
            },
            "colorscale": [
             [
              0,
              "#0d0887"
             ],
             [
              0.1111111111111111,
              "#46039f"
             ],
             [
              0.2222222222222222,
              "#7201a8"
             ],
             [
              0.3333333333333333,
              "#9c179e"
             ],
             [
              0.4444444444444444,
              "#bd3786"
             ],
             [
              0.5555555555555556,
              "#d8576b"
             ],
             [
              0.6666666666666666,
              "#ed7953"
             ],
             [
              0.7777777777777778,
              "#fb9f3a"
             ],
             [
              0.8888888888888888,
              "#fdca26"
             ],
             [
              1,
              "#f0f921"
             ]
            ],
            "type": "heatmap"
           }
          ],
          "heatmapgl": [
           {
            "colorbar": {
             "outlinewidth": 0,
             "ticks": ""
            },
            "colorscale": [
             [
              0,
              "#0d0887"
             ],
             [
              0.1111111111111111,
              "#46039f"
             ],
             [
              0.2222222222222222,
              "#7201a8"
             ],
             [
              0.3333333333333333,
              "#9c179e"
             ],
             [
              0.4444444444444444,
              "#bd3786"
             ],
             [
              0.5555555555555556,
              "#d8576b"
             ],
             [
              0.6666666666666666,
              "#ed7953"
             ],
             [
              0.7777777777777778,
              "#fb9f3a"
             ],
             [
              0.8888888888888888,
              "#fdca26"
             ],
             [
              1,
              "#f0f921"
             ]
            ],
            "type": "heatmapgl"
           }
          ],
          "histogram": [
           {
            "marker": {
             "pattern": {
              "fillmode": "overlay",
              "size": 10,
              "solidity": 0.2
             }
            },
            "type": "histogram"
           }
          ],
          "histogram2d": [
           {
            "colorbar": {
             "outlinewidth": 0,
             "ticks": ""
            },
            "colorscale": [
             [
              0,
              "#0d0887"
             ],
             [
              0.1111111111111111,
              "#46039f"
             ],
             [
              0.2222222222222222,
              "#7201a8"
             ],
             [
              0.3333333333333333,
              "#9c179e"
             ],
             [
              0.4444444444444444,
              "#bd3786"
             ],
             [
              0.5555555555555556,
              "#d8576b"
             ],
             [
              0.6666666666666666,
              "#ed7953"
             ],
             [
              0.7777777777777778,
              "#fb9f3a"
             ],
             [
              0.8888888888888888,
              "#fdca26"
             ],
             [
              1,
              "#f0f921"
             ]
            ],
            "type": "histogram2d"
           }
          ],
          "histogram2dcontour": [
           {
            "colorbar": {
             "outlinewidth": 0,
             "ticks": ""
            },
            "colorscale": [
             [
              0,
              "#0d0887"
             ],
             [
              0.1111111111111111,
              "#46039f"
             ],
             [
              0.2222222222222222,
              "#7201a8"
             ],
             [
              0.3333333333333333,
              "#9c179e"
             ],
             [
              0.4444444444444444,
              "#bd3786"
             ],
             [
              0.5555555555555556,
              "#d8576b"
             ],
             [
              0.6666666666666666,
              "#ed7953"
             ],
             [
              0.7777777777777778,
              "#fb9f3a"
             ],
             [
              0.8888888888888888,
              "#fdca26"
             ],
             [
              1,
              "#f0f921"
             ]
            ],
            "type": "histogram2dcontour"
           }
          ],
          "mesh3d": [
           {
            "colorbar": {
             "outlinewidth": 0,
             "ticks": ""
            },
            "type": "mesh3d"
           }
          ],
          "parcoords": [
           {
            "line": {
             "colorbar": {
              "outlinewidth": 0,
              "ticks": ""
             }
            },
            "type": "parcoords"
           }
          ],
          "pie": [
           {
            "automargin": true,
            "type": "pie"
           }
          ],
          "scatter": [
           {
            "marker": {
             "line": {
              "color": "#283442"
             }
            },
            "type": "scatter"
           }
          ],
          "scatter3d": [
           {
            "line": {
             "colorbar": {
              "outlinewidth": 0,
              "ticks": ""
             }
            },
            "marker": {
             "colorbar": {
              "outlinewidth": 0,
              "ticks": ""
             }
            },
            "type": "scatter3d"
           }
          ],
          "scattercarpet": [
           {
            "marker": {
             "colorbar": {
              "outlinewidth": 0,
              "ticks": ""
             }
            },
            "type": "scattercarpet"
           }
          ],
          "scattergeo": [
           {
            "marker": {
             "colorbar": {
              "outlinewidth": 0,
              "ticks": ""
             }
            },
            "type": "scattergeo"
           }
          ],
          "scattergl": [
           {
            "marker": {
             "line": {
              "color": "#283442"
             }
            },
            "type": "scattergl"
           }
          ],
          "scattermapbox": [
           {
            "marker": {
             "colorbar": {
              "outlinewidth": 0,
              "ticks": ""
             }
            },
            "type": "scattermapbox"
           }
          ],
          "scatterpolar": [
           {
            "marker": {
             "colorbar": {
              "outlinewidth": 0,
              "ticks": ""
             }
            },
            "type": "scatterpolar"
           }
          ],
          "scatterpolargl": [
           {
            "marker": {
             "colorbar": {
              "outlinewidth": 0,
              "ticks": ""
             }
            },
            "type": "scatterpolargl"
           }
          ],
          "scatterternary": [
           {
            "marker": {
             "colorbar": {
              "outlinewidth": 0,
              "ticks": ""
             }
            },
            "type": "scatterternary"
           }
          ],
          "surface": [
           {
            "colorbar": {
             "outlinewidth": 0,
             "ticks": ""
            },
            "colorscale": [
             [
              0,
              "#0d0887"
             ],
             [
              0.1111111111111111,
              "#46039f"
             ],
             [
              0.2222222222222222,
              "#7201a8"
             ],
             [
              0.3333333333333333,
              "#9c179e"
             ],
             [
              0.4444444444444444,
              "#bd3786"
             ],
             [
              0.5555555555555556,
              "#d8576b"
             ],
             [
              0.6666666666666666,
              "#ed7953"
             ],
             [
              0.7777777777777778,
              "#fb9f3a"
             ],
             [
              0.8888888888888888,
              "#fdca26"
             ],
             [
              1,
              "#f0f921"
             ]
            ],
            "type": "surface"
           }
          ],
          "table": [
           {
            "cells": {
             "fill": {
              "color": "#506784"
             },
             "line": {
              "color": "rgb(17,17,17)"
             }
            },
            "header": {
             "fill": {
              "color": "#2a3f5f"
             },
             "line": {
              "color": "rgb(17,17,17)"
             }
            },
            "type": "table"
           }
          ]
         },
         "layout": {
          "annotationdefaults": {
           "arrowcolor": "#f2f5fa",
           "arrowhead": 0,
           "arrowwidth": 1
          },
          "autotypenumbers": "strict",
          "coloraxis": {
           "colorbar": {
            "outlinewidth": 0,
            "ticks": ""
           }
          },
          "colorscale": {
           "diverging": [
            [
             0,
             "#8e0152"
            ],
            [
             0.1,
             "#c51b7d"
            ],
            [
             0.2,
             "#de77ae"
            ],
            [
             0.3,
             "#f1b6da"
            ],
            [
             0.4,
             "#fde0ef"
            ],
            [
             0.5,
             "#f7f7f7"
            ],
            [
             0.6,
             "#e6f5d0"
            ],
            [
             0.7,
             "#b8e186"
            ],
            [
             0.8,
             "#7fbc41"
            ],
            [
             0.9,
             "#4d9221"
            ],
            [
             1,
             "#276419"
            ]
           ],
           "sequential": [
            [
             0,
             "#0d0887"
            ],
            [
             0.1111111111111111,
             "#46039f"
            ],
            [
             0.2222222222222222,
             "#7201a8"
            ],
            [
             0.3333333333333333,
             "#9c179e"
            ],
            [
             0.4444444444444444,
             "#bd3786"
            ],
            [
             0.5555555555555556,
             "#d8576b"
            ],
            [
             0.6666666666666666,
             "#ed7953"
            ],
            [
             0.7777777777777778,
             "#fb9f3a"
            ],
            [
             0.8888888888888888,
             "#fdca26"
            ],
            [
             1,
             "#f0f921"
            ]
           ],
           "sequentialminus": [
            [
             0,
             "#0d0887"
            ],
            [
             0.1111111111111111,
             "#46039f"
            ],
            [
             0.2222222222222222,
             "#7201a8"
            ],
            [
             0.3333333333333333,
             "#9c179e"
            ],
            [
             0.4444444444444444,
             "#bd3786"
            ],
            [
             0.5555555555555556,
             "#d8576b"
            ],
            [
             0.6666666666666666,
             "#ed7953"
            ],
            [
             0.7777777777777778,
             "#fb9f3a"
            ],
            [
             0.8888888888888888,
             "#fdca26"
            ],
            [
             1,
             "#f0f921"
            ]
           ]
          },
          "colorway": [
           "#636efa",
           "#EF553B",
           "#00cc96",
           "#ab63fa",
           "#FFA15A",
           "#19d3f3",
           "#FF6692",
           "#B6E880",
           "#FF97FF",
           "#FECB52"
          ],
          "font": {
           "color": "#f2f5fa"
          },
          "geo": {
           "bgcolor": "rgb(17,17,17)",
           "lakecolor": "rgb(17,17,17)",
           "landcolor": "rgb(17,17,17)",
           "showlakes": true,
           "showland": true,
           "subunitcolor": "#506784"
          },
          "hoverlabel": {
           "align": "left"
          },
          "hovermode": "closest",
          "mapbox": {
           "style": "dark"
          },
          "paper_bgcolor": "rgb(17,17,17)",
          "plot_bgcolor": "rgb(17,17,17)",
          "polar": {
           "angularaxis": {
            "gridcolor": "#506784",
            "linecolor": "#506784",
            "ticks": ""
           },
           "bgcolor": "rgb(17,17,17)",
           "radialaxis": {
            "gridcolor": "#506784",
            "linecolor": "#506784",
            "ticks": ""
           }
          },
          "scene": {
           "xaxis": {
            "backgroundcolor": "rgb(17,17,17)",
            "gridcolor": "#506784",
            "gridwidth": 2,
            "linecolor": "#506784",
            "showbackground": true,
            "ticks": "",
            "zerolinecolor": "#C8D4E3"
           },
           "yaxis": {
            "backgroundcolor": "rgb(17,17,17)",
            "gridcolor": "#506784",
            "gridwidth": 2,
            "linecolor": "#506784",
            "showbackground": true,
            "ticks": "",
            "zerolinecolor": "#C8D4E3"
           },
           "zaxis": {
            "backgroundcolor": "rgb(17,17,17)",
            "gridcolor": "#506784",
            "gridwidth": 2,
            "linecolor": "#506784",
            "showbackground": true,
            "ticks": "",
            "zerolinecolor": "#C8D4E3"
           }
          },
          "shapedefaults": {
           "line": {
            "color": "#f2f5fa"
           }
          },
          "sliderdefaults": {
           "bgcolor": "#C8D4E3",
           "bordercolor": "rgb(17,17,17)",
           "borderwidth": 1,
           "tickwidth": 0
          },
          "ternary": {
           "aaxis": {
            "gridcolor": "#506784",
            "linecolor": "#506784",
            "ticks": ""
           },
           "baxis": {
            "gridcolor": "#506784",
            "linecolor": "#506784",
            "ticks": ""
           },
           "bgcolor": "rgb(17,17,17)",
           "caxis": {
            "gridcolor": "#506784",
            "linecolor": "#506784",
            "ticks": ""
           }
          },
          "title": {
           "x": 0.05
          },
          "updatemenudefaults": {
           "bgcolor": "#506784",
           "borderwidth": 0
          },
          "xaxis": {
           "automargin": true,
           "gridcolor": "#283442",
           "linecolor": "#506784",
           "ticks": "",
           "title": {
            "standoff": 15
           },
           "zerolinecolor": "#283442",
           "zerolinewidth": 2
          },
          "yaxis": {
           "automargin": true,
           "gridcolor": "#283442",
           "linecolor": "#506784",
           "ticks": "",
           "title": {
            "standoff": 15
           },
           "zerolinecolor": "#283442",
           "zerolinewidth": 2
          }
         }
        }
       }
      }
     },
     "metadata": {},
     "output_type": "display_data"
    }
   ],
   "source": [
    "import plotly.express as px\n",
    "import plotly.graph_objects as go\n",
    "\n",
    "data = []\n",
    "month = [\"4\",\"5\",\"6\"]\n",
    "year = [2019]\n",
    "m_name = [\"Apr\",\"May\",\"Jun\"]\n",
    "x = df[\"CATEGORY\"].sort_values().unique().tolist()\n",
    "for i in year:\n",
    "    for j,k in list(zip(month,m_name)):\n",
    "        data.append(go.Bar(name=k+\" \"+str(i), x=x,\n",
    "             y=df[[\"CATEGORY\",\"PROFIT\"]][(df[\"MONTH\"] == j) & (df[\"YEAR\"] == i)].groupby([\"CATEGORY\"]).sum()[\"PROFIT\"]))\n",
    "\n",
    "fig = go.Figure(data=data)\n",
    "fig.update_layout(barmode='group', template=\"plotly_dark\")\n",
    "\n",
    "fig.show()"
   ]
  },
  {
   "cell_type": "code",
   "execution_count": 61,
   "metadata": {},
   "outputs": [
    {
     "data": {
      "text/html": [
       "<div>\n",
       "<style scoped>\n",
       "    .dataframe tbody tr th:only-of-type {\n",
       "        vertical-align: middle;\n",
       "    }\n",
       "\n",
       "    .dataframe tbody tr th {\n",
       "        vertical-align: top;\n",
       "    }\n",
       "\n",
       "    .dataframe thead th {\n",
       "        text-align: right;\n",
       "    }\n",
       "</style>\n",
       "<table border=\"1\" class=\"dataframe\">\n",
       "  <thead>\n",
       "    <tr style=\"text-align: right;\">\n",
       "      <th></th>\n",
       "      <th>YEAR</th>\n",
       "      <th>BUY_PRICE</th>\n",
       "      <th>SELL_PRICE</th>\n",
       "      <th>QUANTITY</th>\n",
       "      <th>SALES</th>\n",
       "      <th>PROFIT_PER_ITEM</th>\n",
       "      <th>PROFIT</th>\n",
       "    </tr>\n",
       "    <tr>\n",
       "      <th>PRODUCT_NAME</th>\n",
       "      <th></th>\n",
       "      <th></th>\n",
       "      <th></th>\n",
       "      <th></th>\n",
       "      <th></th>\n",
       "      <th></th>\n",
       "      <th></th>\n",
       "    </tr>\n",
       "  </thead>\n",
       "  <tbody>\n",
       "    <tr>\n",
       "      <th>Others</th>\n",
       "      <td>40440</td>\n",
       "      <td>537.80</td>\n",
       "      <td>633.60</td>\n",
       "      <td>62</td>\n",
       "      <td>1659.38</td>\n",
       "      <td>95.80</td>\n",
       "      <td>303.81</td>\n",
       "    </tr>\n",
       "    <tr>\n",
       "      <th>Stanley Canvas, Fluorescent</th>\n",
       "      <td>4044</td>\n",
       "      <td>91.98</td>\n",
       "      <td>118.66</td>\n",
       "      <td>9</td>\n",
       "      <td>413.91</td>\n",
       "      <td>26.68</td>\n",
       "      <td>120.06</td>\n",
       "    </tr>\n",
       "    <tr>\n",
       "      <th>BIC Sketch Pad, Easy-Erase</th>\n",
       "      <td>4044</td>\n",
       "      <td>97.98</td>\n",
       "      <td>117.58</td>\n",
       "      <td>9</td>\n",
       "      <td>440.91</td>\n",
       "      <td>19.60</td>\n",
       "      <td>88.20</td>\n",
       "    </tr>\n",
       "    <tr>\n",
       "      <th>Stanley Canvas, Easy-Erase</th>\n",
       "      <td>4044</td>\n",
       "      <td>99.98</td>\n",
       "      <td>123.98</td>\n",
       "      <td>7</td>\n",
       "      <td>349.93</td>\n",
       "      <td>24.00</td>\n",
       "      <td>84.00</td>\n",
       "    </tr>\n",
       "    <tr>\n",
       "      <th>BIC Canvas, Easy-Erase</th>\n",
       "      <td>2022</td>\n",
       "      <td>53.99</td>\n",
       "      <td>69.11</td>\n",
       "      <td>3</td>\n",
       "      <td>161.97</td>\n",
       "      <td>15.12</td>\n",
       "      <td>45.36</td>\n",
       "    </tr>\n",
       "    <tr>\n",
       "      <th>Stanley Canvas, Blue</th>\n",
       "      <td>2022</td>\n",
       "      <td>48.99</td>\n",
       "      <td>63.69</td>\n",
       "      <td>3</td>\n",
       "      <td>146.97</td>\n",
       "      <td>14.70</td>\n",
       "      <td>44.10</td>\n",
       "    </tr>\n",
       "    <tr>\n",
       "      <th>Stanley Pencil Sharpener, Water Color</th>\n",
       "      <td>6066</td>\n",
       "      <td>74.97</td>\n",
       "      <td>93.72</td>\n",
       "      <td>7</td>\n",
       "      <td>174.93</td>\n",
       "      <td>18.75</td>\n",
       "      <td>43.75</td>\n",
       "    </tr>\n",
       "  </tbody>\n",
       "</table>\n",
       "</div>"
      ],
      "text/plain": [
       "                                        YEAR  BUY_PRICE  SELL_PRICE  QUANTITY  \\\n",
       "PRODUCT_NAME                                                                    \n",
       "Others                                 40440     537.80      633.60        62   \n",
       "Stanley Canvas, Fluorescent             4044      91.98      118.66         9   \n",
       "BIC Sketch Pad, Easy-Erase              4044      97.98      117.58         9   \n",
       "Stanley Canvas, Easy-Erase              4044      99.98      123.98         7   \n",
       "BIC Canvas, Easy-Erase                  2022      53.99       69.11         3   \n",
       "Stanley Canvas, Blue                    2022      48.99       63.69         3   \n",
       "Stanley Pencil Sharpener, Water Color   6066      74.97       93.72         7   \n",
       "\n",
       "                                         SALES  PROFIT_PER_ITEM  PROFIT  \n",
       "PRODUCT_NAME                                                             \n",
       "Others                                 1659.38            95.80  303.81  \n",
       "Stanley Canvas, Fluorescent             413.91            26.68  120.06  \n",
       "BIC Sketch Pad, Easy-Erase              440.91            19.60   88.20  \n",
       "Stanley Canvas, Easy-Erase              349.93            24.00   84.00  \n",
       "BIC Canvas, Easy-Erase                  161.97            15.12   45.36  \n",
       "Stanley Canvas, Blue                    146.97            14.70   44.10  \n",
       "Stanley Pencil Sharpener, Water Color   174.93            18.75   43.75  "
      ]
     },
     "execution_count": 61,
     "metadata": {},
     "output_type": "execute_result"
    }
   ],
   "source": [
    "sel = df[(df[\"CATEGORY\"]==\"Art\") & (df[\"YEAR\"]==2022) & (df[\"MONTH\"]==\"9\")].sort_values(by=\"PROFIT\", ascending = False)\n",
    "top6 = sel.groupby([\"PRODUCT_NAME\"]).sum().sort_values(by=\"PROFIT\", ascending = False).head(6).index.values.tolist()\n",
    "prod = []\n",
    "for i in sel[\"PRODUCT_NAME\"]:\n",
    "    if (i in top6):\n",
    "        prod.append(i)\n",
    "    else:\n",
    "        prod.append(\"Others\")\n",
    "sel[\"PRODUCT_NAME\"] = prod\n",
    "selected = sel.groupby([\"PRODUCT_NAME\"]).sum().sort_values(by=\"PROFIT\", ascending = False)\n",
    "selected"
   ]
  },
  {
   "cell_type": "code",
   "execution_count": 14,
   "metadata": {},
   "outputs": [
    {
     "data": {
      "text/plain": [
       "[613.26, 85.8, 84.24, 84.24, 84.0, 79.38, 74.88]"
      ]
     },
     "execution_count": 14,
     "metadata": {},
     "output_type": "execute_result"
    }
   ],
   "source": [
    "selected.PROFIT.values.round(2).tolist()"
   ]
  },
  {
   "cell_type": "code",
   "execution_count": 62,
   "metadata": {},
   "outputs": [
    {
     "data": {
      "application/vnd.plotly.v1+json": {
       "config": {
        "plotlyServerURL": "https://plot.ly"
       },
       "data": [
        {
         "hole": 0.7,
         "hovertemplate": "%{label}<br>%{percent} <extra></extra>",
         "labels": [
          "Motorola Signal Booster, VoIP",
          "Apple Signal Booster, Cordless",
          "Apple Speaker Phone, Cordless",
          "Nokia Headset, VoIP",
          "Samsung Headset, VoIP"
         ],
         "marker": {
          "line": {
           "color": "white",
           "width": 1.25
          }
         },
         "pull": [
          0.1,
          0.1,
          0.1,
          0.1,
          0.1
         ],
         "textinfo": "label+percent",
         "type": "pie",
         "values": [
          163.02,
          84,
          40.32,
          25.16,
          13.32
         ]
        }
       ],
       "layout": {
        "autosize": true,
        "font": {
         "size": 16
        },
        "margin": {
         "b": 0,
         "l": 0,
         "r": 0,
         "t": 0
        },
        "showlegend": false,
        "template": {
         "data": {
          "bar": [
           {
            "error_x": {
             "color": "#f2f5fa"
            },
            "error_y": {
             "color": "#f2f5fa"
            },
            "marker": {
             "line": {
              "color": "rgb(17,17,17)",
              "width": 0.5
             },
             "pattern": {
              "fillmode": "overlay",
              "size": 10,
              "solidity": 0.2
             }
            },
            "type": "bar"
           }
          ],
          "barpolar": [
           {
            "marker": {
             "line": {
              "color": "rgb(17,17,17)",
              "width": 0.5
             },
             "pattern": {
              "fillmode": "overlay",
              "size": 10,
              "solidity": 0.2
             }
            },
            "type": "barpolar"
           }
          ],
          "carpet": [
           {
            "aaxis": {
             "endlinecolor": "#A2B1C6",
             "gridcolor": "#506784",
             "linecolor": "#506784",
             "minorgridcolor": "#506784",
             "startlinecolor": "#A2B1C6"
            },
            "baxis": {
             "endlinecolor": "#A2B1C6",
             "gridcolor": "#506784",
             "linecolor": "#506784",
             "minorgridcolor": "#506784",
             "startlinecolor": "#A2B1C6"
            },
            "type": "carpet"
           }
          ],
          "choropleth": [
           {
            "colorbar": {
             "outlinewidth": 0,
             "ticks": ""
            },
            "type": "choropleth"
           }
          ],
          "contour": [
           {
            "colorbar": {
             "outlinewidth": 0,
             "ticks": ""
            },
            "colorscale": [
             [
              0,
              "#0d0887"
             ],
             [
              0.1111111111111111,
              "#46039f"
             ],
             [
              0.2222222222222222,
              "#7201a8"
             ],
             [
              0.3333333333333333,
              "#9c179e"
             ],
             [
              0.4444444444444444,
              "#bd3786"
             ],
             [
              0.5555555555555556,
              "#d8576b"
             ],
             [
              0.6666666666666666,
              "#ed7953"
             ],
             [
              0.7777777777777778,
              "#fb9f3a"
             ],
             [
              0.8888888888888888,
              "#fdca26"
             ],
             [
              1,
              "#f0f921"
             ]
            ],
            "type": "contour"
           }
          ],
          "contourcarpet": [
           {
            "colorbar": {
             "outlinewidth": 0,
             "ticks": ""
            },
            "type": "contourcarpet"
           }
          ],
          "heatmap": [
           {
            "colorbar": {
             "outlinewidth": 0,
             "ticks": ""
            },
            "colorscale": [
             [
              0,
              "#0d0887"
             ],
             [
              0.1111111111111111,
              "#46039f"
             ],
             [
              0.2222222222222222,
              "#7201a8"
             ],
             [
              0.3333333333333333,
              "#9c179e"
             ],
             [
              0.4444444444444444,
              "#bd3786"
             ],
             [
              0.5555555555555556,
              "#d8576b"
             ],
             [
              0.6666666666666666,
              "#ed7953"
             ],
             [
              0.7777777777777778,
              "#fb9f3a"
             ],
             [
              0.8888888888888888,
              "#fdca26"
             ],
             [
              1,
              "#f0f921"
             ]
            ],
            "type": "heatmap"
           }
          ],
          "heatmapgl": [
           {
            "colorbar": {
             "outlinewidth": 0,
             "ticks": ""
            },
            "colorscale": [
             [
              0,
              "#0d0887"
             ],
             [
              0.1111111111111111,
              "#46039f"
             ],
             [
              0.2222222222222222,
              "#7201a8"
             ],
             [
              0.3333333333333333,
              "#9c179e"
             ],
             [
              0.4444444444444444,
              "#bd3786"
             ],
             [
              0.5555555555555556,
              "#d8576b"
             ],
             [
              0.6666666666666666,
              "#ed7953"
             ],
             [
              0.7777777777777778,
              "#fb9f3a"
             ],
             [
              0.8888888888888888,
              "#fdca26"
             ],
             [
              1,
              "#f0f921"
             ]
            ],
            "type": "heatmapgl"
           }
          ],
          "histogram": [
           {
            "marker": {
             "pattern": {
              "fillmode": "overlay",
              "size": 10,
              "solidity": 0.2
             }
            },
            "type": "histogram"
           }
          ],
          "histogram2d": [
           {
            "colorbar": {
             "outlinewidth": 0,
             "ticks": ""
            },
            "colorscale": [
             [
              0,
              "#0d0887"
             ],
             [
              0.1111111111111111,
              "#46039f"
             ],
             [
              0.2222222222222222,
              "#7201a8"
             ],
             [
              0.3333333333333333,
              "#9c179e"
             ],
             [
              0.4444444444444444,
              "#bd3786"
             ],
             [
              0.5555555555555556,
              "#d8576b"
             ],
             [
              0.6666666666666666,
              "#ed7953"
             ],
             [
              0.7777777777777778,
              "#fb9f3a"
             ],
             [
              0.8888888888888888,
              "#fdca26"
             ],
             [
              1,
              "#f0f921"
             ]
            ],
            "type": "histogram2d"
           }
          ],
          "histogram2dcontour": [
           {
            "colorbar": {
             "outlinewidth": 0,
             "ticks": ""
            },
            "colorscale": [
             [
              0,
              "#0d0887"
             ],
             [
              0.1111111111111111,
              "#46039f"
             ],
             [
              0.2222222222222222,
              "#7201a8"
             ],
             [
              0.3333333333333333,
              "#9c179e"
             ],
             [
              0.4444444444444444,
              "#bd3786"
             ],
             [
              0.5555555555555556,
              "#d8576b"
             ],
             [
              0.6666666666666666,
              "#ed7953"
             ],
             [
              0.7777777777777778,
              "#fb9f3a"
             ],
             [
              0.8888888888888888,
              "#fdca26"
             ],
             [
              1,
              "#f0f921"
             ]
            ],
            "type": "histogram2dcontour"
           }
          ],
          "mesh3d": [
           {
            "colorbar": {
             "outlinewidth": 0,
             "ticks": ""
            },
            "type": "mesh3d"
           }
          ],
          "parcoords": [
           {
            "line": {
             "colorbar": {
              "outlinewidth": 0,
              "ticks": ""
             }
            },
            "type": "parcoords"
           }
          ],
          "pie": [
           {
            "automargin": true,
            "type": "pie"
           }
          ],
          "scatter": [
           {
            "marker": {
             "line": {
              "color": "#283442"
             }
            },
            "type": "scatter"
           }
          ],
          "scatter3d": [
           {
            "line": {
             "colorbar": {
              "outlinewidth": 0,
              "ticks": ""
             }
            },
            "marker": {
             "colorbar": {
              "outlinewidth": 0,
              "ticks": ""
             }
            },
            "type": "scatter3d"
           }
          ],
          "scattercarpet": [
           {
            "marker": {
             "colorbar": {
              "outlinewidth": 0,
              "ticks": ""
             }
            },
            "type": "scattercarpet"
           }
          ],
          "scattergeo": [
           {
            "marker": {
             "colorbar": {
              "outlinewidth": 0,
              "ticks": ""
             }
            },
            "type": "scattergeo"
           }
          ],
          "scattergl": [
           {
            "marker": {
             "line": {
              "color": "#283442"
             }
            },
            "type": "scattergl"
           }
          ],
          "scattermapbox": [
           {
            "marker": {
             "colorbar": {
              "outlinewidth": 0,
              "ticks": ""
             }
            },
            "type": "scattermapbox"
           }
          ],
          "scatterpolar": [
           {
            "marker": {
             "colorbar": {
              "outlinewidth": 0,
              "ticks": ""
             }
            },
            "type": "scatterpolar"
           }
          ],
          "scatterpolargl": [
           {
            "marker": {
             "colorbar": {
              "outlinewidth": 0,
              "ticks": ""
             }
            },
            "type": "scatterpolargl"
           }
          ],
          "scatterternary": [
           {
            "marker": {
             "colorbar": {
              "outlinewidth": 0,
              "ticks": ""
             }
            },
            "type": "scatterternary"
           }
          ],
          "surface": [
           {
            "colorbar": {
             "outlinewidth": 0,
             "ticks": ""
            },
            "colorscale": [
             [
              0,
              "#0d0887"
             ],
             [
              0.1111111111111111,
              "#46039f"
             ],
             [
              0.2222222222222222,
              "#7201a8"
             ],
             [
              0.3333333333333333,
              "#9c179e"
             ],
             [
              0.4444444444444444,
              "#bd3786"
             ],
             [
              0.5555555555555556,
              "#d8576b"
             ],
             [
              0.6666666666666666,
              "#ed7953"
             ],
             [
              0.7777777777777778,
              "#fb9f3a"
             ],
             [
              0.8888888888888888,
              "#fdca26"
             ],
             [
              1,
              "#f0f921"
             ]
            ],
            "type": "surface"
           }
          ],
          "table": [
           {
            "cells": {
             "fill": {
              "color": "#506784"
             },
             "line": {
              "color": "rgb(17,17,17)"
             }
            },
            "header": {
             "fill": {
              "color": "#2a3f5f"
             },
             "line": {
              "color": "rgb(17,17,17)"
             }
            },
            "type": "table"
           }
          ]
         },
         "layout": {
          "annotationdefaults": {
           "arrowcolor": "#f2f5fa",
           "arrowhead": 0,
           "arrowwidth": 1
          },
          "autotypenumbers": "strict",
          "coloraxis": {
           "colorbar": {
            "outlinewidth": 0,
            "ticks": ""
           }
          },
          "colorscale": {
           "diverging": [
            [
             0,
             "#8e0152"
            ],
            [
             0.1,
             "#c51b7d"
            ],
            [
             0.2,
             "#de77ae"
            ],
            [
             0.3,
             "#f1b6da"
            ],
            [
             0.4,
             "#fde0ef"
            ],
            [
             0.5,
             "#f7f7f7"
            ],
            [
             0.6,
             "#e6f5d0"
            ],
            [
             0.7,
             "#b8e186"
            ],
            [
             0.8,
             "#7fbc41"
            ],
            [
             0.9,
             "#4d9221"
            ],
            [
             1,
             "#276419"
            ]
           ],
           "sequential": [
            [
             0,
             "#0d0887"
            ],
            [
             0.1111111111111111,
             "#46039f"
            ],
            [
             0.2222222222222222,
             "#7201a8"
            ],
            [
             0.3333333333333333,
             "#9c179e"
            ],
            [
             0.4444444444444444,
             "#bd3786"
            ],
            [
             0.5555555555555556,
             "#d8576b"
            ],
            [
             0.6666666666666666,
             "#ed7953"
            ],
            [
             0.7777777777777778,
             "#fb9f3a"
            ],
            [
             0.8888888888888888,
             "#fdca26"
            ],
            [
             1,
             "#f0f921"
            ]
           ],
           "sequentialminus": [
            [
             0,
             "#0d0887"
            ],
            [
             0.1111111111111111,
             "#46039f"
            ],
            [
             0.2222222222222222,
             "#7201a8"
            ],
            [
             0.3333333333333333,
             "#9c179e"
            ],
            [
             0.4444444444444444,
             "#bd3786"
            ],
            [
             0.5555555555555556,
             "#d8576b"
            ],
            [
             0.6666666666666666,
             "#ed7953"
            ],
            [
             0.7777777777777778,
             "#fb9f3a"
            ],
            [
             0.8888888888888888,
             "#fdca26"
            ],
            [
             1,
             "#f0f921"
            ]
           ]
          },
          "colorway": [
           "#636efa",
           "#EF553B",
           "#00cc96",
           "#ab63fa",
           "#FFA15A",
           "#19d3f3",
           "#FF6692",
           "#B6E880",
           "#FF97FF",
           "#FECB52"
          ],
          "font": {
           "color": "#f2f5fa"
          },
          "geo": {
           "bgcolor": "rgb(17,17,17)",
           "lakecolor": "rgb(17,17,17)",
           "landcolor": "rgb(17,17,17)",
           "showlakes": true,
           "showland": true,
           "subunitcolor": "#506784"
          },
          "hoverlabel": {
           "align": "left"
          },
          "hovermode": "closest",
          "mapbox": {
           "style": "dark"
          },
          "paper_bgcolor": "rgb(17,17,17)",
          "plot_bgcolor": "rgb(17,17,17)",
          "polar": {
           "angularaxis": {
            "gridcolor": "#506784",
            "linecolor": "#506784",
            "ticks": ""
           },
           "bgcolor": "rgb(17,17,17)",
           "radialaxis": {
            "gridcolor": "#506784",
            "linecolor": "#506784",
            "ticks": ""
           }
          },
          "scene": {
           "xaxis": {
            "backgroundcolor": "rgb(17,17,17)",
            "gridcolor": "#506784",
            "gridwidth": 2,
            "linecolor": "#506784",
            "showbackground": true,
            "ticks": "",
            "zerolinecolor": "#C8D4E3"
           },
           "yaxis": {
            "backgroundcolor": "rgb(17,17,17)",
            "gridcolor": "#506784",
            "gridwidth": 2,
            "linecolor": "#506784",
            "showbackground": true,
            "ticks": "",
            "zerolinecolor": "#C8D4E3"
           },
           "zaxis": {
            "backgroundcolor": "rgb(17,17,17)",
            "gridcolor": "#506784",
            "gridwidth": 2,
            "linecolor": "#506784",
            "showbackground": true,
            "ticks": "",
            "zerolinecolor": "#C8D4E3"
           }
          },
          "shapedefaults": {
           "line": {
            "color": "#f2f5fa"
           }
          },
          "sliderdefaults": {
           "bgcolor": "#C8D4E3",
           "bordercolor": "rgb(17,17,17)",
           "borderwidth": 1,
           "tickwidth": 0
          },
          "ternary": {
           "aaxis": {
            "gridcolor": "#506784",
            "linecolor": "#506784",
            "ticks": ""
           },
           "baxis": {
            "gridcolor": "#506784",
            "linecolor": "#506784",
            "ticks": ""
           },
           "bgcolor": "rgb(17,17,17)",
           "caxis": {
            "gridcolor": "#506784",
            "linecolor": "#506784",
            "ticks": ""
           }
          },
          "title": {
           "x": 0.05
          },
          "updatemenudefaults": {
           "bgcolor": "#506784",
           "borderwidth": 0
          },
          "xaxis": {
           "automargin": true,
           "gridcolor": "#283442",
           "linecolor": "#506784",
           "ticks": "",
           "title": {
            "standoff": 15
           },
           "zerolinecolor": "#283442",
           "zerolinewidth": 2
          },
          "yaxis": {
           "automargin": true,
           "gridcolor": "#283442",
           "linecolor": "#506784",
           "ticks": "",
           "title": {
            "standoff": 15
           },
           "zerolinecolor": "#283442",
           "zerolinewidth": 2
          }
         }
        }
       }
      }
     },
     "metadata": {},
     "output_type": "display_data"
    }
   ],
   "source": [
    "import plotly.express as px\n",
    "import plotly.graph_objects as go\n",
    "\n",
    "sel = df[(df[\"CATEGORY\"]==\"Phones\") & (df[\"YEAR\"]==2021) & (df[\"MONTH\"]==\"7\")].sort_values(by=\"PROFIT\", ascending = False)\n",
    "top = sel.groupby([\"PRODUCT_NAME\"]).sum().sort_values(by=\"PROFIT\", ascending = False).head(10).index.values.tolist()\n",
    "prod = []\n",
    "for i in sel[\"PRODUCT_NAME\"]:\n",
    "    if (i in top):\n",
    "        prod.append(i)\n",
    "    else:\n",
    "        prod.append(\"Others\")\n",
    "sel[\"PRODUCT_NAME\"] = prod\n",
    "selected = sel.groupby([\"PRODUCT_NAME\"]).sum().sort_values(by=\"PROFIT\", ascending = False)\n",
    "labels = selected.index.values.tolist()\n",
    "pull = []\n",
    "for i in range(len(labels)):\n",
    "    pull.append(0.1)\n",
    "fig2 = go.Figure(go.Pie(\n",
    "                    labels = labels,\n",
    "                    values = selected.PROFIT.values.round(2).tolist(),hovertemplate = \"%{label}<br>%{percent} <extra></extra>\",\n",
    "                    hole=.7,\n",
    "                    marker_line_color='white',\n",
    "                    marker_line_width=1.25,\n",
    "                    pull= pull,\n",
    "                    textinfo=\"label+percent\"\n",
    "                ))\n",
    "fig2.update_layout(\n",
    "                    autosize=True,  # Automatically adjust size to fit entire layout\n",
    "                    margin=dict(l=0, r=0, t=0, b=0),)  # Remove margin around chart\n",
    "fig2.update_layout(showlegend=False, template=\"plotly_dark\")\n",
    "fig2.update_layout(\n",
    "font=dict(\n",
    "size=16,))\n",
    "\n",
    "fig2.show()\n",
    "# selected = plotly_events(fig)"
   ]
  },
  {
   "cell_type": "code",
   "execution_count": 82,
   "metadata": {},
   "outputs": [
    {
     "data": {
      "text/plain": [
       "152.64"
      ]
     },
     "execution_count": 82,
     "metadata": {},
     "output_type": "execute_result"
    }
   ],
   "source": [
    "selected[\"PROFIT_PER_ITEM\"][selected.index.values == \"Samsung Smart Phone, VoIP\"].values.tolist()[0]"
   ]
  },
  {
   "cell_type": "code",
   "execution_count": 63,
   "metadata": {},
   "outputs": [
    {
     "data": {
      "text/html": [
       "<div>\n",
       "<style scoped>\n",
       "    .dataframe tbody tr th:only-of-type {\n",
       "        vertical-align: middle;\n",
       "    }\n",
       "\n",
       "    .dataframe tbody tr th {\n",
       "        vertical-align: top;\n",
       "    }\n",
       "\n",
       "    .dataframe thead th {\n",
       "        text-align: right;\n",
       "    }\n",
       "</style>\n",
       "<table border=\"1\" class=\"dataframe\">\n",
       "  <thead>\n",
       "    <tr style=\"text-align: right;\">\n",
       "      <th></th>\n",
       "      <th>DATE</th>\n",
       "      <th>MONTH</th>\n",
       "      <th>YEAR</th>\n",
       "      <th>PRODUCT_ID</th>\n",
       "      <th>PRODUCT_NAME</th>\n",
       "      <th>CATEGORY</th>\n",
       "      <th>BUY_PRICE</th>\n",
       "      <th>SELL_PRICE</th>\n",
       "      <th>QUANTITY</th>\n",
       "      <th>SALES</th>\n",
       "      <th>PROFIT_PER_ITEM</th>\n",
       "      <th>PROFIT</th>\n",
       "    </tr>\n",
       "  </thead>\n",
       "  <tbody>\n",
       "    <tr>\n",
       "      <th>782</th>\n",
       "      <td>2019-11-22</td>\n",
       "      <td>11</td>\n",
       "      <td>2019</td>\n",
       "      <td>OFF-AR-10003633</td>\n",
       "      <td>Binney &amp; Smith Canvas, Easy-Erase</td>\n",
       "      <td>Art</td>\n",
       "      <td>51.99</td>\n",
       "      <td>65.51</td>\n",
       "      <td>2</td>\n",
       "      <td>103.98</td>\n",
       "      <td>13.52</td>\n",
       "      <td>27.04</td>\n",
       "    </tr>\n",
       "    <tr>\n",
       "      <th>3796</th>\n",
       "      <td>2021-04-21</td>\n",
       "      <td>4</td>\n",
       "      <td>2021</td>\n",
       "      <td>OFF-AR-10003633</td>\n",
       "      <td>Binney &amp; Smith Canvas, Easy-Erase</td>\n",
       "      <td>Art</td>\n",
       "      <td>51.99</td>\n",
       "      <td>65.51</td>\n",
       "      <td>3</td>\n",
       "      <td>155.97</td>\n",
       "      <td>13.52</td>\n",
       "      <td>40.56</td>\n",
       "    </tr>\n",
       "    <tr>\n",
       "      <th>3813</th>\n",
       "      <td>2021-04-22</td>\n",
       "      <td>4</td>\n",
       "      <td>2021</td>\n",
       "      <td>OFF-AR-10003633</td>\n",
       "      <td>Binney &amp; Smith Canvas, Easy-Erase</td>\n",
       "      <td>Art</td>\n",
       "      <td>51.99</td>\n",
       "      <td>65.51</td>\n",
       "      <td>2</td>\n",
       "      <td>103.98</td>\n",
       "      <td>13.52</td>\n",
       "      <td>27.04</td>\n",
       "    </tr>\n",
       "    <tr>\n",
       "      <th>3956</th>\n",
       "      <td>2021-05-11</td>\n",
       "      <td>5</td>\n",
       "      <td>2021</td>\n",
       "      <td>OFF-AR-10003633</td>\n",
       "      <td>Binney &amp; Smith Canvas, Easy-Erase</td>\n",
       "      <td>Art</td>\n",
       "      <td>51.99</td>\n",
       "      <td>65.51</td>\n",
       "      <td>3</td>\n",
       "      <td>155.97</td>\n",
       "      <td>13.52</td>\n",
       "      <td>40.56</td>\n",
       "    </tr>\n",
       "    <tr>\n",
       "      <th>4686</th>\n",
       "      <td>2021-09-18</td>\n",
       "      <td>9</td>\n",
       "      <td>2021</td>\n",
       "      <td>OFF-AR-10003633</td>\n",
       "      <td>Binney &amp; Smith Canvas, Easy-Erase</td>\n",
       "      <td>Art</td>\n",
       "      <td>51.99</td>\n",
       "      <td>65.51</td>\n",
       "      <td>4</td>\n",
       "      <td>207.96</td>\n",
       "      <td>13.52</td>\n",
       "      <td>54.08</td>\n",
       "    </tr>\n",
       "    <tr>\n",
       "      <th>5583</th>\n",
       "      <td>2022-01-14</td>\n",
       "      <td>1</td>\n",
       "      <td>2022</td>\n",
       "      <td>OFF-AR-10003633</td>\n",
       "      <td>Binney &amp; Smith Canvas, Easy-Erase</td>\n",
       "      <td>Art</td>\n",
       "      <td>51.99</td>\n",
       "      <td>65.51</td>\n",
       "      <td>5</td>\n",
       "      <td>259.95</td>\n",
       "      <td>13.52</td>\n",
       "      <td>67.60</td>\n",
       "    </tr>\n",
       "    <tr>\n",
       "      <th>6719</th>\n",
       "      <td>2022-06-05</td>\n",
       "      <td>6</td>\n",
       "      <td>2022</td>\n",
       "      <td>OFF-AR-10003633</td>\n",
       "      <td>Binney &amp; Smith Canvas, Easy-Erase</td>\n",
       "      <td>Art</td>\n",
       "      <td>51.99</td>\n",
       "      <td>65.51</td>\n",
       "      <td>3</td>\n",
       "      <td>155.97</td>\n",
       "      <td>13.52</td>\n",
       "      <td>40.56</td>\n",
       "    </tr>\n",
       "    <tr>\n",
       "      <th>7731</th>\n",
       "      <td>2022-10-11</td>\n",
       "      <td>10</td>\n",
       "      <td>2022</td>\n",
       "      <td>OFF-AR-10003633</td>\n",
       "      <td>Binney &amp; Smith Canvas, Easy-Erase</td>\n",
       "      <td>Art</td>\n",
       "      <td>51.99</td>\n",
       "      <td>65.51</td>\n",
       "      <td>2</td>\n",
       "      <td>103.98</td>\n",
       "      <td>13.52</td>\n",
       "      <td>27.04</td>\n",
       "    </tr>\n",
       "    <tr>\n",
       "      <th>7943</th>\n",
       "      <td>2022-10-30</td>\n",
       "      <td>10</td>\n",
       "      <td>2022</td>\n",
       "      <td>OFF-AR-10003633</td>\n",
       "      <td>Binney &amp; Smith Canvas, Easy-Erase</td>\n",
       "      <td>Art</td>\n",
       "      <td>51.99</td>\n",
       "      <td>65.51</td>\n",
       "      <td>9</td>\n",
       "      <td>467.91</td>\n",
       "      <td>13.52</td>\n",
       "      <td>121.68</td>\n",
       "    </tr>\n",
       "    <tr>\n",
       "      <th>9029</th>\n",
       "      <td>2023-02-12</td>\n",
       "      <td>2</td>\n",
       "      <td>2023</td>\n",
       "      <td>OFF-AR-10003633</td>\n",
       "      <td>Binney &amp; Smith Canvas, Easy-Erase</td>\n",
       "      <td>Art</td>\n",
       "      <td>51.99</td>\n",
       "      <td>65.51</td>\n",
       "      <td>1</td>\n",
       "      <td>51.99</td>\n",
       "      <td>13.52</td>\n",
       "      <td>13.52</td>\n",
       "    </tr>\n",
       "    <tr>\n",
       "      <th>9499</th>\n",
       "      <td>2023-03-25</td>\n",
       "      <td>3</td>\n",
       "      <td>2023</td>\n",
       "      <td>OFF-AR-10003633</td>\n",
       "      <td>Binney &amp; Smith Canvas, Easy-Erase</td>\n",
       "      <td>Art</td>\n",
       "      <td>51.99</td>\n",
       "      <td>65.51</td>\n",
       "      <td>1</td>\n",
       "      <td>51.99</td>\n",
       "      <td>13.52</td>\n",
       "      <td>13.52</td>\n",
       "    </tr>\n",
       "    <tr>\n",
       "      <th>9618</th>\n",
       "      <td>2023-04-08</td>\n",
       "      <td>4</td>\n",
       "      <td>2023</td>\n",
       "      <td>OFF-AR-10003633</td>\n",
       "      <td>Binney &amp; Smith Canvas, Easy-Erase</td>\n",
       "      <td>Art</td>\n",
       "      <td>51.99</td>\n",
       "      <td>65.51</td>\n",
       "      <td>3</td>\n",
       "      <td>155.97</td>\n",
       "      <td>13.52</td>\n",
       "      <td>40.56</td>\n",
       "    </tr>\n",
       "  </tbody>\n",
       "</table>\n",
       "</div>"
      ],
      "text/plain": [
       "            DATE MONTH  YEAR       PRODUCT_ID  \\\n",
       "782   2019-11-22    11  2019  OFF-AR-10003633   \n",
       "3796  2021-04-21     4  2021  OFF-AR-10003633   \n",
       "3813  2021-04-22     4  2021  OFF-AR-10003633   \n",
       "3956  2021-05-11     5  2021  OFF-AR-10003633   \n",
       "4686  2021-09-18     9  2021  OFF-AR-10003633   \n",
       "5583  2022-01-14     1  2022  OFF-AR-10003633   \n",
       "6719  2022-06-05     6  2022  OFF-AR-10003633   \n",
       "7731  2022-10-11    10  2022  OFF-AR-10003633   \n",
       "7943  2022-10-30    10  2022  OFF-AR-10003633   \n",
       "9029  2023-02-12     2  2023  OFF-AR-10003633   \n",
       "9499  2023-03-25     3  2023  OFF-AR-10003633   \n",
       "9618  2023-04-08     4  2023  OFF-AR-10003633   \n",
       "\n",
       "                           PRODUCT_NAME CATEGORY  BUY_PRICE  SELL_PRICE  \\\n",
       "782   Binney & Smith Canvas, Easy-Erase      Art      51.99       65.51   \n",
       "3796  Binney & Smith Canvas, Easy-Erase      Art      51.99       65.51   \n",
       "3813  Binney & Smith Canvas, Easy-Erase      Art      51.99       65.51   \n",
       "3956  Binney & Smith Canvas, Easy-Erase      Art      51.99       65.51   \n",
       "4686  Binney & Smith Canvas, Easy-Erase      Art      51.99       65.51   \n",
       "5583  Binney & Smith Canvas, Easy-Erase      Art      51.99       65.51   \n",
       "6719  Binney & Smith Canvas, Easy-Erase      Art      51.99       65.51   \n",
       "7731  Binney & Smith Canvas, Easy-Erase      Art      51.99       65.51   \n",
       "7943  Binney & Smith Canvas, Easy-Erase      Art      51.99       65.51   \n",
       "9029  Binney & Smith Canvas, Easy-Erase      Art      51.99       65.51   \n",
       "9499  Binney & Smith Canvas, Easy-Erase      Art      51.99       65.51   \n",
       "9618  Binney & Smith Canvas, Easy-Erase      Art      51.99       65.51   \n",
       "\n",
       "      QUANTITY   SALES  PROFIT_PER_ITEM  PROFIT  \n",
       "782          2  103.98            13.52   27.04  \n",
       "3796         3  155.97            13.52   40.56  \n",
       "3813         2  103.98            13.52   27.04  \n",
       "3956         3  155.97            13.52   40.56  \n",
       "4686         4  207.96            13.52   54.08  \n",
       "5583         5  259.95            13.52   67.60  \n",
       "6719         3  155.97            13.52   40.56  \n",
       "7731         2  103.98            13.52   27.04  \n",
       "7943         9  467.91            13.52  121.68  \n",
       "9029         1   51.99            13.52   13.52  \n",
       "9499         1   51.99            13.52   13.52  \n",
       "9618         3  155.97            13.52   40.56  "
      ]
     },
     "execution_count": 63,
     "metadata": {},
     "output_type": "execute_result"
    }
   ],
   "source": [
    "dfline = df[df[\"PRODUCT_NAME\"] == \"Binney & Smith Canvas, Easy-Erase\"].sort_values(by=\"DATE\", ascending = True)\n",
    "dfline"
   ]
  },
  {
   "cell_type": "code",
   "execution_count": 64,
   "metadata": {},
   "outputs": [
    {
     "data": {
      "application/vnd.plotly.v1+json": {
       "config": {
        "plotlyServerURL": "https://plot.ly"
       },
       "data": [
        {
         "hovertemplate": "DATE=%{x}<br>PROFIT=%{y}<extra></extra>",
         "legendgroup": "",
         "line": {
          "color": "#636efa",
          "dash": "solid"
         },
         "marker": {
          "symbol": "circle"
         },
         "mode": "lines",
         "name": "",
         "orientation": "v",
         "showlegend": false,
         "type": "scatter",
         "x": [
          "2019-11-22",
          "2021-04-21",
          "2021-04-22",
          "2021-05-11",
          "2021-09-18",
          "2022-01-14",
          "2022-06-05",
          "2022-10-11",
          "2022-10-30",
          "2023-02-12",
          "2023-03-25",
          "2023-04-08"
         ],
         "xaxis": "x",
         "y": [
          27.04,
          40.56,
          27.04,
          40.56,
          54.08,
          67.6,
          40.56,
          27.04,
          121.68,
          13.52,
          13.52,
          40.56
         ],
         "yaxis": "y"
        }
       ],
       "layout": {
        "legend": {
         "tracegroupgap": 0
        },
        "template": {
         "data": {
          "bar": [
           {
            "error_x": {
             "color": "#f2f5fa"
            },
            "error_y": {
             "color": "#f2f5fa"
            },
            "marker": {
             "line": {
              "color": "rgb(17,17,17)",
              "width": 0.5
             },
             "pattern": {
              "fillmode": "overlay",
              "size": 10,
              "solidity": 0.2
             }
            },
            "type": "bar"
           }
          ],
          "barpolar": [
           {
            "marker": {
             "line": {
              "color": "rgb(17,17,17)",
              "width": 0.5
             },
             "pattern": {
              "fillmode": "overlay",
              "size": 10,
              "solidity": 0.2
             }
            },
            "type": "barpolar"
           }
          ],
          "carpet": [
           {
            "aaxis": {
             "endlinecolor": "#A2B1C6",
             "gridcolor": "#506784",
             "linecolor": "#506784",
             "minorgridcolor": "#506784",
             "startlinecolor": "#A2B1C6"
            },
            "baxis": {
             "endlinecolor": "#A2B1C6",
             "gridcolor": "#506784",
             "linecolor": "#506784",
             "minorgridcolor": "#506784",
             "startlinecolor": "#A2B1C6"
            },
            "type": "carpet"
           }
          ],
          "choropleth": [
           {
            "colorbar": {
             "outlinewidth": 0,
             "ticks": ""
            },
            "type": "choropleth"
           }
          ],
          "contour": [
           {
            "colorbar": {
             "outlinewidth": 0,
             "ticks": ""
            },
            "colorscale": [
             [
              0,
              "#0d0887"
             ],
             [
              0.1111111111111111,
              "#46039f"
             ],
             [
              0.2222222222222222,
              "#7201a8"
             ],
             [
              0.3333333333333333,
              "#9c179e"
             ],
             [
              0.4444444444444444,
              "#bd3786"
             ],
             [
              0.5555555555555556,
              "#d8576b"
             ],
             [
              0.6666666666666666,
              "#ed7953"
             ],
             [
              0.7777777777777778,
              "#fb9f3a"
             ],
             [
              0.8888888888888888,
              "#fdca26"
             ],
             [
              1,
              "#f0f921"
             ]
            ],
            "type": "contour"
           }
          ],
          "contourcarpet": [
           {
            "colorbar": {
             "outlinewidth": 0,
             "ticks": ""
            },
            "type": "contourcarpet"
           }
          ],
          "heatmap": [
           {
            "colorbar": {
             "outlinewidth": 0,
             "ticks": ""
            },
            "colorscale": [
             [
              0,
              "#0d0887"
             ],
             [
              0.1111111111111111,
              "#46039f"
             ],
             [
              0.2222222222222222,
              "#7201a8"
             ],
             [
              0.3333333333333333,
              "#9c179e"
             ],
             [
              0.4444444444444444,
              "#bd3786"
             ],
             [
              0.5555555555555556,
              "#d8576b"
             ],
             [
              0.6666666666666666,
              "#ed7953"
             ],
             [
              0.7777777777777778,
              "#fb9f3a"
             ],
             [
              0.8888888888888888,
              "#fdca26"
             ],
             [
              1,
              "#f0f921"
             ]
            ],
            "type": "heatmap"
           }
          ],
          "heatmapgl": [
           {
            "colorbar": {
             "outlinewidth": 0,
             "ticks": ""
            },
            "colorscale": [
             [
              0,
              "#0d0887"
             ],
             [
              0.1111111111111111,
              "#46039f"
             ],
             [
              0.2222222222222222,
              "#7201a8"
             ],
             [
              0.3333333333333333,
              "#9c179e"
             ],
             [
              0.4444444444444444,
              "#bd3786"
             ],
             [
              0.5555555555555556,
              "#d8576b"
             ],
             [
              0.6666666666666666,
              "#ed7953"
             ],
             [
              0.7777777777777778,
              "#fb9f3a"
             ],
             [
              0.8888888888888888,
              "#fdca26"
             ],
             [
              1,
              "#f0f921"
             ]
            ],
            "type": "heatmapgl"
           }
          ],
          "histogram": [
           {
            "marker": {
             "pattern": {
              "fillmode": "overlay",
              "size": 10,
              "solidity": 0.2
             }
            },
            "type": "histogram"
           }
          ],
          "histogram2d": [
           {
            "colorbar": {
             "outlinewidth": 0,
             "ticks": ""
            },
            "colorscale": [
             [
              0,
              "#0d0887"
             ],
             [
              0.1111111111111111,
              "#46039f"
             ],
             [
              0.2222222222222222,
              "#7201a8"
             ],
             [
              0.3333333333333333,
              "#9c179e"
             ],
             [
              0.4444444444444444,
              "#bd3786"
             ],
             [
              0.5555555555555556,
              "#d8576b"
             ],
             [
              0.6666666666666666,
              "#ed7953"
             ],
             [
              0.7777777777777778,
              "#fb9f3a"
             ],
             [
              0.8888888888888888,
              "#fdca26"
             ],
             [
              1,
              "#f0f921"
             ]
            ],
            "type": "histogram2d"
           }
          ],
          "histogram2dcontour": [
           {
            "colorbar": {
             "outlinewidth": 0,
             "ticks": ""
            },
            "colorscale": [
             [
              0,
              "#0d0887"
             ],
             [
              0.1111111111111111,
              "#46039f"
             ],
             [
              0.2222222222222222,
              "#7201a8"
             ],
             [
              0.3333333333333333,
              "#9c179e"
             ],
             [
              0.4444444444444444,
              "#bd3786"
             ],
             [
              0.5555555555555556,
              "#d8576b"
             ],
             [
              0.6666666666666666,
              "#ed7953"
             ],
             [
              0.7777777777777778,
              "#fb9f3a"
             ],
             [
              0.8888888888888888,
              "#fdca26"
             ],
             [
              1,
              "#f0f921"
             ]
            ],
            "type": "histogram2dcontour"
           }
          ],
          "mesh3d": [
           {
            "colorbar": {
             "outlinewidth": 0,
             "ticks": ""
            },
            "type": "mesh3d"
           }
          ],
          "parcoords": [
           {
            "line": {
             "colorbar": {
              "outlinewidth": 0,
              "ticks": ""
             }
            },
            "type": "parcoords"
           }
          ],
          "pie": [
           {
            "automargin": true,
            "type": "pie"
           }
          ],
          "scatter": [
           {
            "marker": {
             "line": {
              "color": "#283442"
             }
            },
            "type": "scatter"
           }
          ],
          "scatter3d": [
           {
            "line": {
             "colorbar": {
              "outlinewidth": 0,
              "ticks": ""
             }
            },
            "marker": {
             "colorbar": {
              "outlinewidth": 0,
              "ticks": ""
             }
            },
            "type": "scatter3d"
           }
          ],
          "scattercarpet": [
           {
            "marker": {
             "colorbar": {
              "outlinewidth": 0,
              "ticks": ""
             }
            },
            "type": "scattercarpet"
           }
          ],
          "scattergeo": [
           {
            "marker": {
             "colorbar": {
              "outlinewidth": 0,
              "ticks": ""
             }
            },
            "type": "scattergeo"
           }
          ],
          "scattergl": [
           {
            "marker": {
             "line": {
              "color": "#283442"
             }
            },
            "type": "scattergl"
           }
          ],
          "scattermapbox": [
           {
            "marker": {
             "colorbar": {
              "outlinewidth": 0,
              "ticks": ""
             }
            },
            "type": "scattermapbox"
           }
          ],
          "scatterpolar": [
           {
            "marker": {
             "colorbar": {
              "outlinewidth": 0,
              "ticks": ""
             }
            },
            "type": "scatterpolar"
           }
          ],
          "scatterpolargl": [
           {
            "marker": {
             "colorbar": {
              "outlinewidth": 0,
              "ticks": ""
             }
            },
            "type": "scatterpolargl"
           }
          ],
          "scatterternary": [
           {
            "marker": {
             "colorbar": {
              "outlinewidth": 0,
              "ticks": ""
             }
            },
            "type": "scatterternary"
           }
          ],
          "surface": [
           {
            "colorbar": {
             "outlinewidth": 0,
             "ticks": ""
            },
            "colorscale": [
             [
              0,
              "#0d0887"
             ],
             [
              0.1111111111111111,
              "#46039f"
             ],
             [
              0.2222222222222222,
              "#7201a8"
             ],
             [
              0.3333333333333333,
              "#9c179e"
             ],
             [
              0.4444444444444444,
              "#bd3786"
             ],
             [
              0.5555555555555556,
              "#d8576b"
             ],
             [
              0.6666666666666666,
              "#ed7953"
             ],
             [
              0.7777777777777778,
              "#fb9f3a"
             ],
             [
              0.8888888888888888,
              "#fdca26"
             ],
             [
              1,
              "#f0f921"
             ]
            ],
            "type": "surface"
           }
          ],
          "table": [
           {
            "cells": {
             "fill": {
              "color": "#506784"
             },
             "line": {
              "color": "rgb(17,17,17)"
             }
            },
            "header": {
             "fill": {
              "color": "#2a3f5f"
             },
             "line": {
              "color": "rgb(17,17,17)"
             }
            },
            "type": "table"
           }
          ]
         },
         "layout": {
          "annotationdefaults": {
           "arrowcolor": "#f2f5fa",
           "arrowhead": 0,
           "arrowwidth": 1
          },
          "autotypenumbers": "strict",
          "coloraxis": {
           "colorbar": {
            "outlinewidth": 0,
            "ticks": ""
           }
          },
          "colorscale": {
           "diverging": [
            [
             0,
             "#8e0152"
            ],
            [
             0.1,
             "#c51b7d"
            ],
            [
             0.2,
             "#de77ae"
            ],
            [
             0.3,
             "#f1b6da"
            ],
            [
             0.4,
             "#fde0ef"
            ],
            [
             0.5,
             "#f7f7f7"
            ],
            [
             0.6,
             "#e6f5d0"
            ],
            [
             0.7,
             "#b8e186"
            ],
            [
             0.8,
             "#7fbc41"
            ],
            [
             0.9,
             "#4d9221"
            ],
            [
             1,
             "#276419"
            ]
           ],
           "sequential": [
            [
             0,
             "#0d0887"
            ],
            [
             0.1111111111111111,
             "#46039f"
            ],
            [
             0.2222222222222222,
             "#7201a8"
            ],
            [
             0.3333333333333333,
             "#9c179e"
            ],
            [
             0.4444444444444444,
             "#bd3786"
            ],
            [
             0.5555555555555556,
             "#d8576b"
            ],
            [
             0.6666666666666666,
             "#ed7953"
            ],
            [
             0.7777777777777778,
             "#fb9f3a"
            ],
            [
             0.8888888888888888,
             "#fdca26"
            ],
            [
             1,
             "#f0f921"
            ]
           ],
           "sequentialminus": [
            [
             0,
             "#0d0887"
            ],
            [
             0.1111111111111111,
             "#46039f"
            ],
            [
             0.2222222222222222,
             "#7201a8"
            ],
            [
             0.3333333333333333,
             "#9c179e"
            ],
            [
             0.4444444444444444,
             "#bd3786"
            ],
            [
             0.5555555555555556,
             "#d8576b"
            ],
            [
             0.6666666666666666,
             "#ed7953"
            ],
            [
             0.7777777777777778,
             "#fb9f3a"
            ],
            [
             0.8888888888888888,
             "#fdca26"
            ],
            [
             1,
             "#f0f921"
            ]
           ]
          },
          "colorway": [
           "#636efa",
           "#EF553B",
           "#00cc96",
           "#ab63fa",
           "#FFA15A",
           "#19d3f3",
           "#FF6692",
           "#B6E880",
           "#FF97FF",
           "#FECB52"
          ],
          "font": {
           "color": "#f2f5fa"
          },
          "geo": {
           "bgcolor": "rgb(17,17,17)",
           "lakecolor": "rgb(17,17,17)",
           "landcolor": "rgb(17,17,17)",
           "showlakes": true,
           "showland": true,
           "subunitcolor": "#506784"
          },
          "hoverlabel": {
           "align": "left"
          },
          "hovermode": "closest",
          "mapbox": {
           "style": "dark"
          },
          "paper_bgcolor": "rgb(17,17,17)",
          "plot_bgcolor": "rgb(17,17,17)",
          "polar": {
           "angularaxis": {
            "gridcolor": "#506784",
            "linecolor": "#506784",
            "ticks": ""
           },
           "bgcolor": "rgb(17,17,17)",
           "radialaxis": {
            "gridcolor": "#506784",
            "linecolor": "#506784",
            "ticks": ""
           }
          },
          "scene": {
           "xaxis": {
            "backgroundcolor": "rgb(17,17,17)",
            "gridcolor": "#506784",
            "gridwidth": 2,
            "linecolor": "#506784",
            "showbackground": true,
            "ticks": "",
            "zerolinecolor": "#C8D4E3"
           },
           "yaxis": {
            "backgroundcolor": "rgb(17,17,17)",
            "gridcolor": "#506784",
            "gridwidth": 2,
            "linecolor": "#506784",
            "showbackground": true,
            "ticks": "",
            "zerolinecolor": "#C8D4E3"
           },
           "zaxis": {
            "backgroundcolor": "rgb(17,17,17)",
            "gridcolor": "#506784",
            "gridwidth": 2,
            "linecolor": "#506784",
            "showbackground": true,
            "ticks": "",
            "zerolinecolor": "#C8D4E3"
           }
          },
          "shapedefaults": {
           "line": {
            "color": "#f2f5fa"
           }
          },
          "sliderdefaults": {
           "bgcolor": "#C8D4E3",
           "bordercolor": "rgb(17,17,17)",
           "borderwidth": 1,
           "tickwidth": 0
          },
          "ternary": {
           "aaxis": {
            "gridcolor": "#506784",
            "linecolor": "#506784",
            "ticks": ""
           },
           "baxis": {
            "gridcolor": "#506784",
            "linecolor": "#506784",
            "ticks": ""
           },
           "bgcolor": "rgb(17,17,17)",
           "caxis": {
            "gridcolor": "#506784",
            "linecolor": "#506784",
            "ticks": ""
           }
          },
          "title": {
           "x": 0.05
          },
          "updatemenudefaults": {
           "bgcolor": "#506784",
           "borderwidth": 0
          },
          "xaxis": {
           "automargin": true,
           "gridcolor": "#283442",
           "linecolor": "#506784",
           "ticks": "",
           "title": {
            "standoff": 15
           },
           "zerolinecolor": "#283442",
           "zerolinewidth": 2
          },
          "yaxis": {
           "automargin": true,
           "gridcolor": "#283442",
           "linecolor": "#506784",
           "ticks": "",
           "title": {
            "standoff": 15
           },
           "zerolinecolor": "#283442",
           "zerolinewidth": 2
          }
         }
        },
        "title": {
         "text": "profit"
        },
        "xaxis": {
         "anchor": "y",
         "domain": [
          0,
          1
         ],
         "title": {
          "text": "DATE"
         }
        },
        "yaxis": {
         "anchor": "x",
         "domain": [
          0,
          1
         ],
         "title": {
          "text": "PROFIT"
         }
        }
       }
      }
     },
     "metadata": {},
     "output_type": "display_data"
    }
   ],
   "source": [
    "fig = px.line(dfline, x=\"DATE\", y=\"PROFIT\", title='profit')\n",
    "fig.update_layout(template = \"plotly_dark\")\n",
    "fig.show()"
   ]
  },
  {
   "cell_type": "code",
   "execution_count": 93,
   "metadata": {},
   "outputs": [
    {
     "data": {
      "text/plain": [
       "[15.6, 15.6, 23.4, 23.4, 31.2, 39.0, 23.4, 70.2, 15.6, 7.8, 7.8, 23.4]"
      ]
     },
     "execution_count": 93,
     "metadata": {},
     "output_type": "execute_result"
    }
   ],
   "source": [
    "dfline[\"PROFIT\"].tolist()"
   ]
  },
  {
   "attachments": {},
   "cell_type": "markdown",
   "metadata": {},
   "source": [
    "______"
   ]
  },
  {
   "cell_type": "code",
   "execution_count": 65,
   "metadata": {},
   "outputs": [],
   "source": [
    "import warnings\n",
    "warnings.simplefilter(action='ignore', category=FutureWarning)\n",
    "from warnings import simplefilter\n",
    "from sklearn.exceptions import ConvergenceWarning\n",
    "simplefilter(\"ignore\", category=ConvergenceWarning)"
   ]
  },
  {
   "cell_type": "code",
   "execution_count": 81,
   "metadata": {},
   "outputs": [
    {
     "name": "stderr",
     "output_type": "stream",
     "text": [
      "C:\\Users\\mdima\\AppData\\Local\\Temp\\ipykernel_10444\\296959859.py:9: SettingWithCopyWarning:\n",
      "\n",
      "\n",
      "A value is trying to be set on a copy of a slice from a DataFrame.\n",
      "Try using .loc[row_indexer,col_indexer] = value instead\n",
      "\n",
      "See the caveats in the documentation: https://pandas.pydata.org/pandas-docs/stable/user_guide/indexing.html#returning-a-view-versus-a-copy\n",
      "\n",
      "C:\\Users\\mdima\\AppData\\Local\\Temp\\ipykernel_10444\\296959859.py:10: SettingWithCopyWarning:\n",
      "\n",
      "\n",
      "A value is trying to be set on a copy of a slice from a DataFrame.\n",
      "Try using .loc[row_indexer,col_indexer] = value instead\n",
      "\n",
      "See the caveats in the documentation: https://pandas.pydata.org/pandas-docs/stable/user_guide/indexing.html#returning-a-view-versus-a-copy\n",
      "\n"
     ]
    },
    {
     "data": {
      "text/html": [
       "<div>\n",
       "<style scoped>\n",
       "    .dataframe tbody tr th:only-of-type {\n",
       "        vertical-align: middle;\n",
       "    }\n",
       "\n",
       "    .dataframe tbody tr th {\n",
       "        vertical-align: top;\n",
       "    }\n",
       "\n",
       "    .dataframe thead th {\n",
       "        text-align: right;\n",
       "    }\n",
       "</style>\n",
       "<table border=\"1\" class=\"dataframe\">\n",
       "  <thead>\n",
       "    <tr style=\"text-align: right;\">\n",
       "      <th></th>\n",
       "      <th>DATE</th>\n",
       "      <th>PRODUCT_NAME</th>\n",
       "      <th>CATEGORY</th>\n",
       "      <th>QUANTITY</th>\n",
       "      <th>PROFIT</th>\n",
       "      <th>MONTH</th>\n",
       "      <th>YEAR</th>\n",
       "      <th>TIME</th>\n",
       "    </tr>\n",
       "  </thead>\n",
       "  <tbody>\n",
       "    <tr>\n",
       "      <th>0</th>\n",
       "      <td>2022-11-02</td>\n",
       "      <td>Fellowes Folders, Blue</td>\n",
       "      <td>Storage</td>\n",
       "      <td>3</td>\n",
       "      <td>7.80</td>\n",
       "      <td>November</td>\n",
       "      <td>2022</td>\n",
       "      <td>2022/November</td>\n",
       "    </tr>\n",
       "    <tr>\n",
       "      <th>1</th>\n",
       "      <td>2022-11-02</td>\n",
       "      <td>SanDisk Numeric Keypad, Bluetooth</td>\n",
       "      <td>Accessories</td>\n",
       "      <td>7</td>\n",
       "      <td>58.80</td>\n",
       "      <td>November</td>\n",
       "      <td>2022</td>\n",
       "      <td>2022/November</td>\n",
       "    </tr>\n",
       "    <tr>\n",
       "      <th>2</th>\n",
       "      <td>2022-11-02</td>\n",
       "      <td>Avery Legal Exhibit Labels, 5000 Label Set</td>\n",
       "      <td>Labels</td>\n",
       "      <td>3</td>\n",
       "      <td>4.68</td>\n",
       "      <td>November</td>\n",
       "      <td>2022</td>\n",
       "      <td>2022/November</td>\n",
       "    </tr>\n",
       "    <tr>\n",
       "      <th>3</th>\n",
       "      <td>2022-11-02</td>\n",
       "      <td>Fellowes Folders, Wire Frame</td>\n",
       "      <td>Storage</td>\n",
       "      <td>2</td>\n",
       "      <td>8.50</td>\n",
       "      <td>November</td>\n",
       "      <td>2022</td>\n",
       "      <td>2022/November</td>\n",
       "    </tr>\n",
       "    <tr>\n",
       "      <th>4</th>\n",
       "      <td>2022-11-02</td>\n",
       "      <td>Memorex Memory Card, USB</td>\n",
       "      <td>Accessories</td>\n",
       "      <td>3</td>\n",
       "      <td>58.14</td>\n",
       "      <td>November</td>\n",
       "      <td>2022</td>\n",
       "      <td>2022/November</td>\n",
       "    </tr>\n",
       "  </tbody>\n",
       "</table>\n",
       "</div>"
      ],
      "text/plain": [
       "         DATE                                PRODUCT_NAME     CATEGORY  \\\n",
       "0  2022-11-02                      Fellowes Folders, Blue      Storage   \n",
       "1  2022-11-02           SanDisk Numeric Keypad, Bluetooth  Accessories   \n",
       "2  2022-11-02  Avery Legal Exhibit Labels, 5000 Label Set       Labels   \n",
       "3  2022-11-02                Fellowes Folders, Wire Frame      Storage   \n",
       "4  2022-11-02                    Memorex Memory Card, USB  Accessories   \n",
       "\n",
       "   QUANTITY  PROFIT     MONTH  YEAR           TIME  \n",
       "0         3    7.80  November  2022  2022/November  \n",
       "1         7   58.80  November  2022  2022/November  \n",
       "2         3    4.68  November  2022  2022/November  \n",
       "3         2    8.50  November  2022  2022/November  \n",
       "4         3   58.14  November  2022  2022/November  "
      ]
     },
     "execution_count": 81,
     "metadata": {},
     "output_type": "execute_result"
    }
   ],
   "source": [
    "ml = df[[\"DATE\",\"PRODUCT_NAME\",\"CATEGORY\",\"QUANTITY\",\"PROFIT\",\"MONTH\",\"YEAR\"]]\n",
    "mo = []\n",
    "for i in ml[\"MONTH\"]:\n",
    "    if len(str(i)) == 1:\n",
    "        i = \"0\"+str(i)\n",
    "        mo.append(i)\n",
    "    else:\n",
    "        mo.append(i)\n",
    "ml[\"MONTH\"] = mo\n",
    "ml[\"TIME\"] = ml[\"YEAR\"].astype(str) + \"/\" + ml[\"MONTH\"].astype(str)\n",
    "ml.head()"
   ]
  },
  {
   "cell_type": "code",
   "execution_count": null,
   "metadata": {},
   "outputs": [],
   "source": [
    "# index = product_name, category"
   ]
  },
  {
   "cell_type": "code",
   "execution_count": 82,
   "metadata": {},
   "outputs": [
    {
     "data": {
      "text/html": [
       "<div>\n",
       "<style scoped>\n",
       "    .dataframe tbody tr th:only-of-type {\n",
       "        vertical-align: middle;\n",
       "    }\n",
       "\n",
       "    .dataframe tbody tr th {\n",
       "        vertical-align: top;\n",
       "    }\n",
       "\n",
       "    .dataframe thead th {\n",
       "        text-align: right;\n",
       "    }\n",
       "</style>\n",
       "<table border=\"1\" class=\"dataframe\">\n",
       "  <thead>\n",
       "    <tr style=\"text-align: right;\">\n",
       "      <th></th>\n",
       "      <th>DATE</th>\n",
       "      <th>PRODUCT_NAME</th>\n",
       "      <th>CATEGORY</th>\n",
       "      <th>QUANTITY</th>\n",
       "      <th>PROFIT</th>\n",
       "      <th>MONTH</th>\n",
       "      <th>YEAR</th>\n",
       "      <th>TIME</th>\n",
       "    </tr>\n",
       "  </thead>\n",
       "  <tbody>\n",
       "    <tr>\n",
       "      <th>1</th>\n",
       "      <td>2022-11-02</td>\n",
       "      <td>SanDisk Numeric Keypad, Bluetooth</td>\n",
       "      <td>Accessories</td>\n",
       "      <td>7</td>\n",
       "      <td>58.80</td>\n",
       "      <td>November</td>\n",
       "      <td>2022</td>\n",
       "      <td>2022/November</td>\n",
       "    </tr>\n",
       "    <tr>\n",
       "      <th>4</th>\n",
       "      <td>2022-11-02</td>\n",
       "      <td>Memorex Memory Card, USB</td>\n",
       "      <td>Accessories</td>\n",
       "      <td>3</td>\n",
       "      <td>58.14</td>\n",
       "      <td>November</td>\n",
       "      <td>2022</td>\n",
       "      <td>2022/November</td>\n",
       "    </tr>\n",
       "    <tr>\n",
       "      <th>16</th>\n",
       "      <td>2021-06-16</td>\n",
       "      <td>Belkin Memory Card, USB</td>\n",
       "      <td>Accessories</td>\n",
       "      <td>6</td>\n",
       "      <td>110.40</td>\n",
       "      <td>June</td>\n",
       "      <td>2021</td>\n",
       "      <td>2021/June</td>\n",
       "    </tr>\n",
       "    <tr>\n",
       "      <th>23</th>\n",
       "      <td>2022-06-05</td>\n",
       "      <td>Memorex Mouse, Bluetooth</td>\n",
       "      <td>Accessories</td>\n",
       "      <td>1</td>\n",
       "      <td>7.56</td>\n",
       "      <td>June</td>\n",
       "      <td>2022</td>\n",
       "      <td>2022/June</td>\n",
       "    </tr>\n",
       "    <tr>\n",
       "      <th>29</th>\n",
       "      <td>2023-03-09</td>\n",
       "      <td>Belkin Mouse, Erganomic</td>\n",
       "      <td>Accessories</td>\n",
       "      <td>5</td>\n",
       "      <td>40.95</td>\n",
       "      <td>March</td>\n",
       "      <td>2023</td>\n",
       "      <td>2023/March</td>\n",
       "    </tr>\n",
       "    <tr>\n",
       "      <th>...</th>\n",
       "      <td>...</td>\n",
       "      <td>...</td>\n",
       "      <td>...</td>\n",
       "      <td>...</td>\n",
       "      <td>...</td>\n",
       "      <td>...</td>\n",
       "      <td>...</td>\n",
       "      <td>...</td>\n",
       "    </tr>\n",
       "    <tr>\n",
       "      <th>9926</th>\n",
       "      <td>2021-03-18</td>\n",
       "      <td>SanDisk Keyboard, USB</td>\n",
       "      <td>Accessories</td>\n",
       "      <td>1</td>\n",
       "      <td>11.48</td>\n",
       "      <td>March</td>\n",
       "      <td>2021</td>\n",
       "      <td>2021/March</td>\n",
       "    </tr>\n",
       "    <tr>\n",
       "      <th>9961</th>\n",
       "      <td>2020-11-08</td>\n",
       "      <td>Logitech Memory Card, USB</td>\n",
       "      <td>Accessories</td>\n",
       "      <td>2</td>\n",
       "      <td>56.16</td>\n",
       "      <td>November</td>\n",
       "      <td>2020</td>\n",
       "      <td>2020/November</td>\n",
       "    </tr>\n",
       "    <tr>\n",
       "      <th>9963</th>\n",
       "      <td>2020-11-08</td>\n",
       "      <td>Enermax Keyboard, Erganomic</td>\n",
       "      <td>Accessories</td>\n",
       "      <td>5</td>\n",
       "      <td>109.35</td>\n",
       "      <td>November</td>\n",
       "      <td>2020</td>\n",
       "      <td>2020/November</td>\n",
       "    </tr>\n",
       "    <tr>\n",
       "      <th>9972</th>\n",
       "      <td>2022-05-11</td>\n",
       "      <td>Logitech Mouse, USB</td>\n",
       "      <td>Accessories</td>\n",
       "      <td>2</td>\n",
       "      <td>15.08</td>\n",
       "      <td>May</td>\n",
       "      <td>2022</td>\n",
       "      <td>2022/May</td>\n",
       "    </tr>\n",
       "    <tr>\n",
       "      <th>9983</th>\n",
       "      <td>2020-08-08</td>\n",
       "      <td>Logitech Flash Drive, Bluetooth</td>\n",
       "      <td>Accessories</td>\n",
       "      <td>11</td>\n",
       "      <td>37.51</td>\n",
       "      <td>August</td>\n",
       "      <td>2020</td>\n",
       "      <td>2020/August</td>\n",
       "    </tr>\n",
       "  </tbody>\n",
       "</table>\n",
       "<p>452 rows × 8 columns</p>\n",
       "</div>"
      ],
      "text/plain": [
       "            DATE                       PRODUCT_NAME     CATEGORY  QUANTITY  \\\n",
       "1     2022-11-02  SanDisk Numeric Keypad, Bluetooth  Accessories         7   \n",
       "4     2022-11-02           Memorex Memory Card, USB  Accessories         3   \n",
       "16    2021-06-16            Belkin Memory Card, USB  Accessories         6   \n",
       "23    2022-06-05           Memorex Mouse, Bluetooth  Accessories         1   \n",
       "29    2023-03-09            Belkin Mouse, Erganomic  Accessories         5   \n",
       "...          ...                                ...          ...       ...   \n",
       "9926  2021-03-18              SanDisk Keyboard, USB  Accessories         1   \n",
       "9961  2020-11-08          Logitech Memory Card, USB  Accessories         2   \n",
       "9963  2020-11-08        Enermax Keyboard, Erganomic  Accessories         5   \n",
       "9972  2022-05-11                Logitech Mouse, USB  Accessories         2   \n",
       "9983  2020-08-08    Logitech Flash Drive, Bluetooth  Accessories        11   \n",
       "\n",
       "      PROFIT     MONTH  YEAR           TIME  \n",
       "1      58.80  November  2022  2022/November  \n",
       "4      58.14  November  2022  2022/November  \n",
       "16    110.40      June  2021      2021/June  \n",
       "23      7.56      June  2022      2022/June  \n",
       "29     40.95     March  2023     2023/March  \n",
       "...      ...       ...   ...            ...  \n",
       "9926   11.48     March  2021     2021/March  \n",
       "9961   56.16  November  2020  2020/November  \n",
       "9963  109.35  November  2020  2020/November  \n",
       "9972   15.08       May  2022       2022/May  \n",
       "9983   37.51    August  2020    2020/August  \n",
       "\n",
       "[452 rows x 8 columns]"
      ]
     },
     "execution_count": 82,
     "metadata": {},
     "output_type": "execute_result"
    }
   ],
   "source": [
    "ml_sel = ml[ml[\"CATEGORY\"]==\"Accessories\"]\n",
    "ml_sel"
   ]
  },
  {
   "cell_type": "code",
   "execution_count": 68,
   "metadata": {},
   "outputs": [
    {
     "data": {
      "text/plain": [
       "int"
      ]
     },
     "execution_count": 68,
     "metadata": {},
     "output_type": "execute_result"
    }
   ],
   "source": [
    "data = pd.DataFrame()\n",
    "data[\"profit\"] = ml_sel[\"PROFIT\"]\n",
    "from datetime import datetime\n",
    "month_now = datetime.now().month\n",
    "year_now = datetime.now().year\n",
    "today = datetime.today()\n",
    "if (pd.to_datetime(ml_sel[\"DATE\"]).max().month)-1 != 0:\n",
    "    ml_sel[ml_sel[\"DATE\"]]\n",
    "\n",
    "\n",
    "# shift1 = ml_sel[ml_sel[\"\"]]\n",
    "# data_shift1 = ml_sel.shift()\n",
    "# data[\"shifted_1\"] = "
   ]
  },
  {
   "cell_type": "code",
   "execution_count": 79,
   "metadata": {},
   "outputs": [
    {
     "data": {
      "text/plain": [
       "67      5\n",
       "93      5\n",
       "113     6\n",
       "131     6\n",
       "136     6\n",
       "       ..\n",
       "9878    4\n",
       "9899    4\n",
       "9915    4\n",
       "9917    4\n",
       "9936    4\n",
       "Name: DATE, Length: 452, dtype: int64"
      ]
     },
     "execution_count": 79,
     "metadata": {},
     "output_type": "execute_result"
    }
   ],
   "source": [
    "pd.to_datetime(ml_sel[\"DATE\"]).dt.month"
   ]
  },
  {
   "cell_type": "code",
   "execution_count": null,
   "metadata": {},
   "outputs": [],
   "source": []
  },
  {
   "cell_type": "code",
   "execution_count": 45,
   "metadata": {},
   "outputs": [],
   "source": [
    "ml_timely = ml_sel.pivot_table(columns=\"TIME\", values=\"PROFIT\", aggfunc=\"sum\", index=[\"PRODUCT_NAME\"]).fillna(0)\n"
   ]
  },
  {
   "cell_type": "code",
   "execution_count": 133,
   "metadata": {},
   "outputs": [
    {
     "data": {
      "text/plain": [
       "['Belkin Flash Drive, Bluetooth',\n",
       " 'Belkin Flash Drive, Erganomic',\n",
       " 'Belkin Flash Drive, Programmable',\n",
       " 'Belkin Flash Drive, USB',\n",
       " 'Belkin Keyboard, Bluetooth']"
      ]
     },
     "execution_count": 133,
     "metadata": {},
     "output_type": "execute_result"
    }
   ],
   "source": [
    "ml_timely.index.values.tolist()[:5]"
   ]
  },
  {
   "cell_type": "code",
   "execution_count": 44,
   "metadata": {},
   "outputs": [],
   "source": [
    "ml_name = ml_timely.index.values.tolist()"
   ]
  },
  {
   "cell_type": "code",
   "execution_count": 42,
   "metadata": {},
   "outputs": [
    {
     "ename": "NameError",
     "evalue": "name 'ml_name' is not defined",
     "output_type": "error",
     "traceback": [
      "\u001b[1;31m---------------------------------------------------------------------------\u001b[0m",
      "\u001b[1;31mNameError\u001b[0m                                 Traceback (most recent call last)",
      "Cell \u001b[1;32mIn[42], line 20\u001b[0m\n\u001b[0;32m     18\u001b[0m X_test_processed \u001b[39m=\u001b[39m num_test_scaled\u001b[39m.\u001b[39mcopy()\n\u001b[0;32m     19\u001b[0m \u001b[39mimport\u001b[39;00m \u001b[39mplotly\u001b[39;00m\u001b[39m.\u001b[39;00m\u001b[39mgraph_objs\u001b[39;00m \u001b[39mas\u001b[39;00m \u001b[39mgo\u001b[39;00m\n\u001b[1;32m---> 20\u001b[0m xvalues \u001b[39m=\u001b[39m ml_name\u001b[39m.\u001b[39mindex\u001b[39m.\u001b[39mvalues\u001b[39m.\u001b[39mtolist()\n\u001b[0;32m     21\u001b[0m yvalues \u001b[39m=\u001b[39m y_test\n\u001b[0;32m     22\u001b[0m trace1 \u001b[39m=\u001b[39m go\u001b[39m.\u001b[39mScatter(x\u001b[39m=\u001b[39mxvalues,y\u001b[39m=\u001b[39myvalues,\n\u001b[0;32m     23\u001b[0m                     mode \u001b[39m=\u001b[39m \u001b[39m\"\u001b[39m\u001b[39mlines\u001b[39m\u001b[39m\"\u001b[39m, name \u001b[39m=\u001b[39m \u001b[39m\"\u001b[39m\u001b[39mactual profit\u001b[39m\u001b[39m\"\u001b[39m)\n",
      "\u001b[1;31mNameError\u001b[0m: name 'ml_name' is not defined"
     ]
    }
   ],
   "source": [
    "X = ml_timely.drop(columns = \"2023/03\")\n",
    "y = ml_timely[\"2023/03\"]\n",
    "from sklearn.model_selection import train_test_split\n",
    "from sklearn.preprocessing import MinMaxScaler\n",
    "from sklearn.linear_model import LinearRegression\n",
    "from sklearn.model_selection import cross_val_score\n",
    "import numpy as np\n",
    "X_train, X_test, y_train, y_test = train_test_split(X,y, test_size = 0.4, random_state = 43)\n",
    "num_train = X_train.select_dtypes(np.number)\n",
    "num_test = X_test.select_dtypes(np.number)\n",
    "scaler = MinMaxScaler().fit(num_train)\n",
    "cols = scaler.get_feature_names_out(input_features = num_train.columns)\n",
    "num_train_scaled = scaler.transform(num_train)\n",
    "num_test_scaled = scaler.transform(num_test)\n",
    "num_train_scaled = pd.DataFrame(num_train_scaled, columns = cols)\n",
    "num_test_scaled = pd.DataFrame(num_test_scaled, columns = cols)\n",
    "X_train_processed = num_train_scaled.copy()\n",
    "X_test_processed = num_test_scaled.copy()\n",
    "import plotly.graph_objs as go\n",
    "\n",
    "xvalues = ml_name.index.values.tolist()\n",
    "yvalues = y_test\n",
    "trace1 = go.Scatter(x=xvalues,y=yvalues,\n",
    "                    mode = \"lines\", name = \"actual profit\")\n",
    "regr = LinearRegression()\n",
    "regr.fit(X_train_processed, y_train)\n",
    "pred_test = regr.predict(X_test_processed)\n",
    "mean_score_test = np.mean(cross_val_score(regr_left, X_test_processed, y_test, cv = 5))\n"
   ]
  }
 ],
 "metadata": {
  "kernelspec": {
   "display_name": "Python 3",
   "language": "python",
   "name": "python3"
  },
  "language_info": {
   "codemirror_mode": {
    "name": "ipython",
    "version": 3
   },
   "file_extension": ".py",
   "mimetype": "text/x-python",
   "name": "python",
   "nbconvert_exporter": "python",
   "pygments_lexer": "ipython3",
   "version": "3.8.0"
  },
  "orig_nbformat": 4
 },
 "nbformat": 4,
 "nbformat_minor": 2
}
