{
 "cells": [
  {
   "cell_type": "code",
   "execution_count": 1,
   "metadata": {},
   "outputs": [],
   "source": [
    "import pandas as pd\n",
    "import snowflake.connector"
   ]
  },
  {
   "cell_type": "code",
   "execution_count": 2,
   "metadata": {},
   "outputs": [],
   "source": [
    "conn = snowflake.connector.connect(user = \"mdimasaac\", password = \"Qaz1234.\", account = \"vliobpf-yr09142\",\n",
    "                                    database = \"store_it\", schema = \"store_schema\")\n",
    "cur = conn.cursor()"
   ]
  },
  {
   "cell_type": "code",
   "execution_count": 3,
   "metadata": {},
   "outputs": [
    {
     "name": "stdout",
     "output_type": "stream",
     "text": [
      "(10000, 12)\n"
     ]
    },
    {
     "data": {
      "text/html": [
       "<div>\n",
       "<style scoped>\n",
       "    .dataframe tbody tr th:only-of-type {\n",
       "        vertical-align: middle;\n",
       "    }\n",
       "\n",
       "    .dataframe tbody tr th {\n",
       "        vertical-align: top;\n",
       "    }\n",
       "\n",
       "    .dataframe thead th {\n",
       "        text-align: right;\n",
       "    }\n",
       "</style>\n",
       "<table border=\"1\" class=\"dataframe\">\n",
       "  <thead>\n",
       "    <tr style=\"text-align: right;\">\n",
       "      <th></th>\n",
       "      <th>DATE</th>\n",
       "      <th>MONTH</th>\n",
       "      <th>YEAR</th>\n",
       "      <th>PRODUCT_ID</th>\n",
       "      <th>PRODUCT_NAME</th>\n",
       "      <th>CATEGORY</th>\n",
       "      <th>BUY_PRICE</th>\n",
       "      <th>SELL_PRICE</th>\n",
       "      <th>QUANTITY</th>\n",
       "      <th>SALES</th>\n",
       "      <th>PROFIT_PER_ITEM</th>\n",
       "      <th>PROFIT</th>\n",
       "    </tr>\n",
       "  </thead>\n",
       "  <tbody>\n",
       "    <tr>\n",
       "      <th>0</th>\n",
       "      <td>2022-10-02</td>\n",
       "      <td>10</td>\n",
       "      <td>2022</td>\n",
       "      <td>OFF-ST-10000988</td>\n",
       "      <td>Fellowes Folders, Blue</td>\n",
       "      <td>Storage</td>\n",
       "      <td>25.99</td>\n",
       "      <td>31.97</td>\n",
       "      <td>3</td>\n",
       "      <td>77.97</td>\n",
       "      <td>5.98</td>\n",
       "      <td>17.94</td>\n",
       "    </tr>\n",
       "  </tbody>\n",
       "</table>\n",
       "</div>"
      ],
      "text/plain": [
       "         DATE MONTH  YEAR       PRODUCT_ID            PRODUCT_NAME CATEGORY  \\\n",
       "0  2022-10-02    10  2022  OFF-ST-10000988  Fellowes Folders, Blue  Storage   \n",
       "\n",
       "   BUY_PRICE  SELL_PRICE  QUANTITY  SALES  PROFIT_PER_ITEM  PROFIT  \n",
       "0      25.99       31.97         3  77.97             5.98   17.94  "
      ]
     },
     "execution_count": 3,
     "metadata": {},
     "output_type": "execute_result"
    }
   ],
   "source": [
    "qdf = \"select * from store_data\"\n",
    "cur.execute(qdf)\n",
    "df = cur.fetch_pandas_all()\n",
    "print(df.shape)\n",
    "df.head(1)"
   ]
  },
  {
   "cell_type": "code",
   "execution_count": 4,
   "metadata": {},
   "outputs": [
    {
     "data": {
      "text/plain": [
       "17"
      ]
     },
     "execution_count": 4,
     "metadata": {},
     "output_type": "execute_result"
    }
   ],
   "source": [
    "len(df[\"CATEGORY\"].unique().tolist())"
   ]
  },
  {
   "attachments": {},
   "cell_type": "markdown",
   "metadata": {},
   "source": [
    "### skip this\n"
   ]
  },
  {
   "cell_type": "code",
   "execution_count": 3,
   "metadata": {},
   "outputs": [
    {
     "name": "stdout",
     "output_type": "stream",
     "text": [
      "(1856, 7)\n"
     ]
    },
    {
     "data": {
      "text/html": [
       "<div>\n",
       "<style scoped>\n",
       "    .dataframe tbody tr th:only-of-type {\n",
       "        vertical-align: middle;\n",
       "    }\n",
       "\n",
       "    .dataframe tbody tr th {\n",
       "        vertical-align: top;\n",
       "    }\n",
       "\n",
       "    .dataframe thead th {\n",
       "        text-align: right;\n",
       "    }\n",
       "</style>\n",
       "<table border=\"1\" class=\"dataframe\">\n",
       "  <thead>\n",
       "    <tr style=\"text-align: right;\">\n",
       "      <th></th>\n",
       "      <th>PRODUCT_NAME</th>\n",
       "      <th>PRODUCT_ID</th>\n",
       "      <th>CATEGORY</th>\n",
       "      <th>BUY_PRICE</th>\n",
       "      <th>SELL_PRICE</th>\n",
       "      <th>STOCK</th>\n",
       "      <th>PROFIT_PER_ITEM</th>\n",
       "    </tr>\n",
       "  </thead>\n",
       "  <tbody>\n",
       "    <tr>\n",
       "      <th>0</th>\n",
       "      <td>Fellowes Folders, Blue</td>\n",
       "      <td>OFF-ST-10000988</td>\n",
       "      <td>Storage</td>\n",
       "      <td>25.99</td>\n",
       "      <td>28.59</td>\n",
       "      <td>3</td>\n",
       "      <td>2.60</td>\n",
       "    </tr>\n",
       "    <tr>\n",
       "      <th>1</th>\n",
       "      <td>SanDisk Numeric Keypad, Bluetooth</td>\n",
       "      <td>TEC-AC-10004144</td>\n",
       "      <td>Accessories</td>\n",
       "      <td>55.99</td>\n",
       "      <td>68.87</td>\n",
       "      <td>15</td>\n",
       "      <td>12.88</td>\n",
       "    </tr>\n",
       "    <tr>\n",
       "      <th>2</th>\n",
       "      <td>Avery Legal Exhibit Labels, 5000 Label Set</td>\n",
       "      <td>OFF-LA-10001915</td>\n",
       "      <td>Labels</td>\n",
       "      <td>11.99</td>\n",
       "      <td>14.75</td>\n",
       "      <td>7</td>\n",
       "      <td>2.76</td>\n",
       "    </tr>\n",
       "    <tr>\n",
       "      <th>3</th>\n",
       "      <td>Fellowes Folders, Wire Frame</td>\n",
       "      <td>OFF-ST-10004550</td>\n",
       "      <td>Storage</td>\n",
       "      <td>24.99</td>\n",
       "      <td>29.24</td>\n",
       "      <td>13</td>\n",
       "      <td>4.25</td>\n",
       "    </tr>\n",
       "    <tr>\n",
       "      <th>4</th>\n",
       "      <td>Memorex Memory Card, USB</td>\n",
       "      <td>TEC-AC-10004068</td>\n",
       "      <td>Accessories</td>\n",
       "      <td>101.99</td>\n",
       "      <td>128.51</td>\n",
       "      <td>6</td>\n",
       "      <td>26.52</td>\n",
       "    </tr>\n",
       "  </tbody>\n",
       "</table>\n",
       "</div>"
      ],
      "text/plain": [
       "                                 PRODUCT_NAME       PRODUCT_ID     CATEGORY  \\\n",
       "0                      Fellowes Folders, Blue  OFF-ST-10000988      Storage   \n",
       "1           SanDisk Numeric Keypad, Bluetooth  TEC-AC-10004144  Accessories   \n",
       "2  Avery Legal Exhibit Labels, 5000 Label Set  OFF-LA-10001915       Labels   \n",
       "3                Fellowes Folders, Wire Frame  OFF-ST-10004550      Storage   \n",
       "4                    Memorex Memory Card, USB  TEC-AC-10004068  Accessories   \n",
       "\n",
       "   BUY_PRICE  SELL_PRICE  STOCK  PROFIT_PER_ITEM  \n",
       "0      25.99       28.59      3             2.60  \n",
       "1      55.99       68.87     15            12.88  \n",
       "2      11.99       14.75      7             2.76  \n",
       "3      24.99       29.24     13             4.25  \n",
       "4     101.99      128.51      6            26.52  "
      ]
     },
     "execution_count": 3,
     "metadata": {},
     "output_type": "execute_result"
    }
   ],
   "source": [
    "qdflog = \"select * from logistics\"\n",
    "cur.execute(qdflog)\n",
    "dflog = cur.fetch_pandas_all()\n",
    "print(dflog.shape)\n",
    "dflog.head()"
   ]
  },
  {
   "cell_type": "code",
   "execution_count": 22,
   "metadata": {},
   "outputs": [],
   "source": [
    "dfcart = pd.DataFrame(columns=[\"Product Name\",\"Price\",\"Qty\",\"Total\"])\n",
    "dfcart.to_csv(\"cart.csv\",index = False)"
   ]
  },
  {
   "cell_type": "code",
   "execution_count": 23,
   "metadata": {},
   "outputs": [
    {
     "data": {
      "text/html": [
       "<div>\n",
       "<style scoped>\n",
       "    .dataframe tbody tr th:only-of-type {\n",
       "        vertical-align: middle;\n",
       "    }\n",
       "\n",
       "    .dataframe tbody tr th {\n",
       "        vertical-align: top;\n",
       "    }\n",
       "\n",
       "    .dataframe thead th {\n",
       "        text-align: right;\n",
       "    }\n",
       "</style>\n",
       "<table border=\"1\" class=\"dataframe\">\n",
       "  <thead>\n",
       "    <tr style=\"text-align: right;\">\n",
       "      <th></th>\n",
       "      <th>Product Name</th>\n",
       "      <th>Price</th>\n",
       "      <th>Qty</th>\n",
       "      <th>Total</th>\n",
       "    </tr>\n",
       "  </thead>\n",
       "  <tbody>\n",
       "  </tbody>\n",
       "</table>\n",
       "</div>"
      ],
      "text/plain": [
       "Empty DataFrame\n",
       "Columns: [Product Name, Price, Qty, Total]\n",
       "Index: []"
      ]
     },
     "execution_count": 23,
     "metadata": {},
     "output_type": "execute_result"
    }
   ],
   "source": [
    "cart = pd.read_csv(\"cart.csv\")\n",
    "cart.head()"
   ]
  },
  {
   "cell_type": "code",
   "execution_count": 19,
   "metadata": {},
   "outputs": [
    {
     "name": "stderr",
     "output_type": "stream",
     "text": [
      "C:\\Users\\mdima\\AppData\\Local\\Temp\\ipykernel_6928\\4046239720.py:2: SettingWithCopyWarning: \n",
      "A value is trying to be set on a copy of a slice from a DataFrame\n",
      "\n",
      "See the caveats in the documentation: https://pandas.pydata.org/pandas-docs/stable/user_guide/indexing.html#returning-a-view-versus-a-copy\n",
      "  dfcopy[\"STOCK\"][dfcopy[\"PRODUCT_NAME\"] == \"Fellowes Folders, Blue\"] = dfcopy[\"STOCK\"][dfcopy[\"PRODUCT_NAME\"] == \"Fellowes Folders, Blue\"] - 1\n"
     ]
    }
   ],
   "source": [
    "\n",
    "dfcopy = dflog.copy()\n",
    "dfcopy[\"STOCK\"][dfcopy[\"PRODUCT_NAME\"] == \"Fellowes Folders, Blue\"] = dfcopy[\"STOCK\"][dfcopy[\"PRODUCT_NAME\"] == \"Fellowes Folders, Blue\"] - 1"
   ]
  },
  {
   "cell_type": "code",
   "execution_count": 20,
   "metadata": {},
   "outputs": [
    {
     "data": {
      "text/plain": [
       "2"
      ]
     },
     "execution_count": 20,
     "metadata": {},
     "output_type": "execute_result"
    }
   ],
   "source": [
    "dfcopy[\"STOCK\"][dfcopy[\"PRODUCT_NAME\"] == \"Fellowes Folders, Blue\"].values[0]"
   ]
  },
  {
   "cell_type": "code",
   "execution_count": 31,
   "metadata": {},
   "outputs": [
    {
     "data": {
      "text/html": [
       "<div>\n",
       "<style scoped>\n",
       "    .dataframe tbody tr th:only-of-type {\n",
       "        vertical-align: middle;\n",
       "    }\n",
       "\n",
       "    .dataframe tbody tr th {\n",
       "        vertical-align: top;\n",
       "    }\n",
       "\n",
       "    .dataframe thead th {\n",
       "        text-align: right;\n",
       "    }\n",
       "</style>\n",
       "<table border=\"1\" class=\"dataframe\">\n",
       "  <thead>\n",
       "    <tr style=\"text-align: right;\">\n",
       "      <th></th>\n",
       "      <th>DATE</th>\n",
       "      <th>MONTH</th>\n",
       "      <th>YEAR</th>\n",
       "      <th>PRODUCT_ID</th>\n",
       "      <th>PRODUCT_NAME</th>\n",
       "      <th>CATEGORY</th>\n",
       "      <th>BUY_PRICE</th>\n",
       "      <th>SELL_PRICE</th>\n",
       "      <th>QUANTITY</th>\n",
       "      <th>SALES</th>\n",
       "      <th>PROFIT_PER_ITEM</th>\n",
       "      <th>PROFIT</th>\n",
       "    </tr>\n",
       "  </thead>\n",
       "  <tbody>\n",
       "    <tr>\n",
       "      <th>0</th>\n",
       "      <td>2022-10-02</td>\n",
       "      <td>October</td>\n",
       "      <td>2022</td>\n",
       "      <td>OFF-ST-10000988</td>\n",
       "      <td>Fellowes Folders, Blue</td>\n",
       "      <td>Storage</td>\n",
       "      <td>25.99</td>\n",
       "      <td>28.59</td>\n",
       "      <td>2</td>\n",
       "      <td>57.18</td>\n",
       "      <td>2.6</td>\n",
       "      <td>5.2</td>\n",
       "    </tr>\n",
       "  </tbody>\n",
       "</table>\n",
       "</div>"
      ],
      "text/plain": [
       "         DATE    MONTH  YEAR       PRODUCT_ID            PRODUCT_NAME  \\\n",
       "0  2022-10-02  October  2022  OFF-ST-10000988  Fellowes Folders, Blue   \n",
       "\n",
       "  CATEGORY  BUY_PRICE  SELL_PRICE  QUANTITY  SALES  PROFIT_PER_ITEM  PROFIT  \n",
       "0  Storage      25.99       28.59         2  57.18              2.6     5.2  "
      ]
     },
     "execution_count": 31,
     "metadata": {},
     "output_type": "execute_result"
    }
   ],
   "source": [
    "df1 = df[df[\"PRODUCT_NAME\"] == \"Fellowes Folders, Blue\"].head(1)\n",
    "df1[\"QUANTITY\"][df1[\"PRODUCT_NAME\"]==\"Fellowes Folders, Blue\"] = df1[\"QUANTITY\"][df1[\"PRODUCT_NAME\"]==\"Fellowes Folders, Blue\"]-1\n",
    "df1[\"SALES\"]=df1[\"QUANTITY\"]*df1[\"SELL_PRICE\"]\n",
    "df1[\"PROFIT\"]=df1[\"PROFIT_PER_ITEM\"]*df1[\"QUANTITY\"]\n",
    "df1"
   ]
  },
  {
   "cell_type": "code",
   "execution_count": 38,
   "metadata": {},
   "outputs": [
    {
     "name": "stderr",
     "output_type": "stream",
     "text": [
      "2023-04-07 21:39:55.700 INFO    snowflake.connector.connection: Snowflake Connector for Python Version: 3.0.2, Python Version: 3.8.0, Platform: Windows-10-10.0.19041-SP0\n",
      "2023-04-07 21:39:55.703 INFO    snowflake.connector.connection: This connection is in OCSP Fail Open Mode. TLS Certificates would be checked for validity and revocation status. Any other Certificate Revocation related exceptions or OCSP Responder failures would be disregarded in favor of connectivity.\n",
      "2023-04-07 21:39:57.154 INFO    snowflake.connector.cursor: query: [SELECT * FROM STORE_DATA WHERE CATEGORY = 'Storage' LIMIT 1]\n",
      "2023-04-07 21:39:57.352 INFO    snowflake.connector.cursor: query execution done\n",
      "2023-04-07 21:39:57.355 INFO    snowflake.connector.cursor: Number of results in first chunk: 1\n",
      "2023-04-07 21:39:57.359 INFO    snowflake.connector.cursor: query: [SELECT * FROM STORE_DATA WHERE CATEGORY = 'Accessories' LIMIT 1]\n",
      "2023-04-07 21:39:57.512 INFO    snowflake.connector.cursor: query execution done\n",
      "2023-04-07 21:39:57.513 INFO    snowflake.connector.cursor: Number of results in first chunk: 1\n",
      "2023-04-07 21:39:57.517 INFO    snowflake.connector.cursor: query: [SELECT * FROM STORE_DATA WHERE CATEGORY = 'Labels' LIMIT 1]\n",
      "2023-04-07 21:39:57.672 INFO    snowflake.connector.cursor: query execution done\n",
      "2023-04-07 21:39:57.673 INFO    snowflake.connector.cursor: Number of results in first chunk: 1\n",
      "2023-04-07 21:39:57.677 INFO    snowflake.connector.cursor: query: [SELECT * FROM STORE_DATA WHERE CATEGORY = 'Phones' LIMIT 1]\n",
      "2023-04-07 21:39:57.839 INFO    snowflake.connector.cursor: query execution done\n",
      "2023-04-07 21:39:57.840 INFO    snowflake.connector.cursor: Number of results in first chunk: 1\n",
      "2023-04-07 21:39:57.844 INFO    snowflake.connector.cursor: query: [SELECT * FROM STORE_DATA WHERE CATEGORY = 'Copiers' LIMIT 1]\n",
      "2023-04-07 21:39:58.042 INFO    snowflake.connector.cursor: query execution done\n",
      "2023-04-07 21:39:58.043 INFO    snowflake.connector.cursor: Number of results in first chunk: 1\n",
      "2023-04-07 21:39:58.047 INFO    snowflake.connector.cursor: query: [SELECT * FROM STORE_DATA WHERE CATEGORY = 'Appliances' LIMIT 1]\n",
      "2023-04-07 21:39:58.195 INFO    snowflake.connector.cursor: query execution done\n",
      "2023-04-07 21:39:58.196 INFO    snowflake.connector.cursor: Number of results in first chunk: 1\n",
      "2023-04-07 21:39:58.204 INFO    snowflake.connector.cursor: query: [SELECT * FROM STORE_DATA WHERE CATEGORY = 'Fasteners' LIMIT 1]\n",
      "2023-04-07 21:39:58.395 INFO    snowflake.connector.cursor: query execution done\n",
      "2023-04-07 21:39:58.396 INFO    snowflake.connector.cursor: Number of results in first chunk: 1\n",
      "2023-04-07 21:39:58.401 INFO    snowflake.connector.cursor: query: [SELECT * FROM STORE_DATA WHERE CATEGORY = 'Art' LIMIT 1]\n",
      "2023-04-07 21:39:58.592 INFO    snowflake.connector.cursor: query execution done\n",
      "2023-04-07 21:39:58.593 INFO    snowflake.connector.cursor: Number of results in first chunk: 1\n",
      "2023-04-07 21:39:58.597 INFO    snowflake.connector.cursor: query: [SELECT * FROM STORE_DATA WHERE CATEGORY = 'Machines' LIMIT 1]\n",
      "2023-04-07 21:39:58.752 INFO    snowflake.connector.cursor: query execution done\n",
      "2023-04-07 21:39:58.755 INFO    snowflake.connector.cursor: Number of results in first chunk: 1\n",
      "2023-04-07 21:39:58.760 INFO    snowflake.connector.cursor: query: [SELECT * FROM STORE_DATA WHERE CATEGORY = 'Binders' LIMIT 1]\n",
      "2023-04-07 21:39:58.914 INFO    snowflake.connector.cursor: query execution done\n",
      "2023-04-07 21:39:58.916 INFO    snowflake.connector.cursor: Number of results in first chunk: 1\n",
      "2023-04-07 21:39:58.924 INFO    snowflake.connector.cursor: query: [SELECT * FROM STORE_DATA WHERE CATEGORY = 'Bookcases' LIMIT 1]\n",
      "2023-04-07 21:39:59.111 INFO    snowflake.connector.cursor: query execution done\n",
      "2023-04-07 21:39:59.113 INFO    snowflake.connector.cursor: Number of results in first chunk: 1\n",
      "2023-04-07 21:39:59.118 INFO    snowflake.connector.cursor: query: [SELECT * FROM STORE_DATA WHERE CATEGORY = 'Paper' LIMIT 1]\n",
      "2023-04-07 21:39:59.285 INFO    snowflake.connector.cursor: query execution done\n",
      "2023-04-07 21:39:59.286 INFO    snowflake.connector.cursor: Number of results in first chunk: 1\n",
      "2023-04-07 21:39:59.290 INFO    snowflake.connector.cursor: query: [SELECT * FROM STORE_DATA WHERE CATEGORY = 'Supplies' LIMIT 1]\n",
      "2023-04-07 21:39:59.480 INFO    snowflake.connector.cursor: query execution done\n",
      "2023-04-07 21:39:59.481 INFO    snowflake.connector.cursor: Number of results in first chunk: 1\n",
      "2023-04-07 21:39:59.489 INFO    snowflake.connector.cursor: query: [SELECT * FROM STORE_DATA WHERE CATEGORY = 'Tables' LIMIT 1]\n",
      "2023-04-07 21:39:59.672 INFO    snowflake.connector.cursor: query execution done\n",
      "2023-04-07 21:39:59.673 INFO    snowflake.connector.cursor: Number of results in first chunk: 1\n",
      "2023-04-07 21:39:59.677 INFO    snowflake.connector.cursor: query: [SELECT * FROM STORE_DATA WHERE CATEGORY = 'Chairs' LIMIT 1]\n",
      "2023-04-07 21:39:59.831 INFO    snowflake.connector.cursor: query execution done\n",
      "2023-04-07 21:39:59.833 INFO    snowflake.connector.cursor: Number of results in first chunk: 1\n",
      "2023-04-07 21:39:59.837 INFO    snowflake.connector.cursor: query: [SELECT * FROM STORE_DATA WHERE CATEGORY = 'Furnishings' LIMIT 1]\n",
      "2023-04-07 21:39:59.993 INFO    snowflake.connector.cursor: query execution done\n",
      "2023-04-07 21:39:59.994 INFO    snowflake.connector.cursor: Number of results in first chunk: 1\n",
      "2023-04-07 21:39:59.998 INFO    snowflake.connector.cursor: query: [SELECT * FROM STORE_DATA WHERE CATEGORY = 'Envelopes' LIMIT 1]\n",
      "2023-04-07 21:40:00.160 INFO    snowflake.connector.cursor: query execution done\n",
      "2023-04-07 21:40:00.161 INFO    snowflake.connector.cursor: Number of results in first chunk: 1\n"
     ]
    },
    {
     "data": {
      "text/html": [
       "<div>\n",
       "<style scoped>\n",
       "    .dataframe tbody tr th:only-of-type {\n",
       "        vertical-align: middle;\n",
       "    }\n",
       "\n",
       "    .dataframe tbody tr th {\n",
       "        vertical-align: top;\n",
       "    }\n",
       "\n",
       "    .dataframe thead th {\n",
       "        text-align: right;\n",
       "    }\n",
       "</style>\n",
       "<table border=\"1\" class=\"dataframe\">\n",
       "  <thead>\n",
       "    <tr style=\"text-align: right;\">\n",
       "      <th></th>\n",
       "      <th>DATE</th>\n",
       "      <th>MONTH</th>\n",
       "      <th>YEAR</th>\n",
       "      <th>PRODUCT_ID</th>\n",
       "      <th>PRODUCT_NAME</th>\n",
       "      <th>CATEGORY</th>\n",
       "      <th>BUY_PRICE</th>\n",
       "      <th>SELL_PRICE</th>\n",
       "      <th>QUANTITY</th>\n",
       "      <th>SALES</th>\n",
       "      <th>PROFIT_PER_ITEM</th>\n",
       "      <th>PROFIT</th>\n",
       "    </tr>\n",
       "  </thead>\n",
       "  <tbody>\n",
       "    <tr>\n",
       "      <th>0</th>\n",
       "      <td>2022-10-02</td>\n",
       "      <td>October</td>\n",
       "      <td>2022</td>\n",
       "      <td>OFF-ST-10000988</td>\n",
       "      <td>Fellowes Folders, Blue</td>\n",
       "      <td>Storage</td>\n",
       "      <td>25.99</td>\n",
       "      <td>28.59</td>\n",
       "      <td>3</td>\n",
       "      <td>77.97</td>\n",
       "      <td>2.60</td>\n",
       "      <td>7.80</td>\n",
       "    </tr>\n",
       "    <tr>\n",
       "      <th>0</th>\n",
       "      <td>2022-10-02</td>\n",
       "      <td>October</td>\n",
       "      <td>2022</td>\n",
       "      <td>TEC-AC-10004144</td>\n",
       "      <td>SanDisk Numeric Keypad, Bluetooth</td>\n",
       "      <td>Accessories</td>\n",
       "      <td>55.99</td>\n",
       "      <td>68.87</td>\n",
       "      <td>7</td>\n",
       "      <td>391.93</td>\n",
       "      <td>12.88</td>\n",
       "      <td>90.16</td>\n",
       "    </tr>\n",
       "    <tr>\n",
       "      <th>0</th>\n",
       "      <td>2022-10-02</td>\n",
       "      <td>October</td>\n",
       "      <td>2022</td>\n",
       "      <td>OFF-LA-10001915</td>\n",
       "      <td>Avery Legal Exhibit Labels, 5000 Label Set</td>\n",
       "      <td>Labels</td>\n",
       "      <td>11.99</td>\n",
       "      <td>14.75</td>\n",
       "      <td>3</td>\n",
       "      <td>35.97</td>\n",
       "      <td>2.76</td>\n",
       "      <td>8.28</td>\n",
       "    </tr>\n",
       "    <tr>\n",
       "      <th>0</th>\n",
       "      <td>2022-10-02</td>\n",
       "      <td>October</td>\n",
       "      <td>2022</td>\n",
       "      <td>TEC-PH-10003963</td>\n",
       "      <td>Apple Signal Booster, Full Size</td>\n",
       "      <td>Phones</td>\n",
       "      <td>137.99</td>\n",
       "      <td>157.31</td>\n",
       "      <td>3</td>\n",
       "      <td>413.97</td>\n",
       "      <td>19.32</td>\n",
       "      <td>57.96</td>\n",
       "    </tr>\n",
       "    <tr>\n",
       "      <th>0</th>\n",
       "      <td>2020-05-08</td>\n",
       "      <td>May</td>\n",
       "      <td>2020</td>\n",
       "      <td>TEC-CO-10004325</td>\n",
       "      <td>Canon Personal Copier, Laser</td>\n",
       "      <td>Copiers</td>\n",
       "      <td>142.99</td>\n",
       "      <td>174.45</td>\n",
       "      <td>3</td>\n",
       "      <td>428.97</td>\n",
       "      <td>31.46</td>\n",
       "      <td>94.38</td>\n",
       "    </tr>\n",
       "  </tbody>\n",
       "</table>\n",
       "</div>"
      ],
      "text/plain": [
       "         DATE    MONTH  YEAR       PRODUCT_ID  \\\n",
       "0  2022-10-02  October  2022  OFF-ST-10000988   \n",
       "0  2022-10-02  October  2022  TEC-AC-10004144   \n",
       "0  2022-10-02  October  2022  OFF-LA-10001915   \n",
       "0  2022-10-02  October  2022  TEC-PH-10003963   \n",
       "0  2020-05-08      May  2020  TEC-CO-10004325   \n",
       "\n",
       "                                 PRODUCT_NAME     CATEGORY  BUY_PRICE  \\\n",
       "0                      Fellowes Folders, Blue      Storage      25.99   \n",
       "0           SanDisk Numeric Keypad, Bluetooth  Accessories      55.99   \n",
       "0  Avery Legal Exhibit Labels, 5000 Label Set       Labels      11.99   \n",
       "0             Apple Signal Booster, Full Size       Phones     137.99   \n",
       "0                Canon Personal Copier, Laser      Copiers     142.99   \n",
       "\n",
       "   SELL_PRICE  QUANTITY   SALES  PROFIT_PER_ITEM  PROFIT  \n",
       "0       28.59         3   77.97             2.60    7.80  \n",
       "0       68.87         7  391.93            12.88   90.16  \n",
       "0       14.75         3   35.97             2.76    8.28  \n",
       "0      157.31         3  413.97            19.32   57.96  \n",
       "0      174.45         3  428.97            31.46   94.38  "
      ]
     },
     "execution_count": 38,
     "metadata": {},
     "output_type": "execute_result"
    }
   ],
   "source": [
    "conn = snowflake.connector.connect(user = \"mdimasaac\", password = \"Qaz1234.\", account = \"vliobpf-yr09142\",\n",
    "                                    database = \"store_it\", schema = \"store_schema\")\n",
    "cur = conn.cursor()\n",
    "qdf = pd.DataFrame()\n",
    "for name in dfcopy[\"CATEGORY\"].unique().tolist():\n",
    "# name = 'Fellowes Folders, Blue'\n",
    "    q_df = \"SELECT * FROM STORE_DATA WHERE CATEGORY = '\"+name+\"' LIMIT 1\"\n",
    "    cur.execute(q_df)\n",
    "    qdf1 = cur.fetch_pandas_all()\n",
    "    qdf = pd.concat([qdf,qdf1], axis = 0)\n",
    "qdf.head()"
   ]
  },
  {
   "attachments": {},
   "cell_type": "markdown",
   "metadata": {},
   "source": [
    "----------"
   ]
  },
  {
   "attachments": {},
   "cell_type": "markdown",
   "metadata": {},
   "source": [
    "### and start from this"
   ]
  },
  {
   "cell_type": "code",
   "execution_count": 7,
   "metadata": {},
   "outputs": [],
   "source": [
    "import plotly.express as px\n",
    "df.to_csv(\"store_data_snowflake.csv\")"
   ]
  },
  {
   "cell_type": "code",
   "execution_count": 8,
   "metadata": {},
   "outputs": [
    {
     "data": {
      "text/html": [
       "<div>\n",
       "<style scoped>\n",
       "    .dataframe tbody tr th:only-of-type {\n",
       "        vertical-align: middle;\n",
       "    }\n",
       "\n",
       "    .dataframe tbody tr th {\n",
       "        vertical-align: top;\n",
       "    }\n",
       "\n",
       "    .dataframe thead th {\n",
       "        text-align: right;\n",
       "    }\n",
       "</style>\n",
       "<table border=\"1\" class=\"dataframe\">\n",
       "  <thead>\n",
       "    <tr style=\"text-align: right;\">\n",
       "      <th></th>\n",
       "      <th>DATE</th>\n",
       "      <th>MONTH</th>\n",
       "      <th>YEAR</th>\n",
       "      <th>PRODUCT_ID</th>\n",
       "      <th>PRODUCT_NAME</th>\n",
       "      <th>CATEGORY</th>\n",
       "      <th>BUY_PRICE</th>\n",
       "      <th>SELL_PRICE</th>\n",
       "      <th>QUANTITY</th>\n",
       "      <th>SALES</th>\n",
       "      <th>PROFIT_PER_ITEM</th>\n",
       "      <th>PROFIT</th>\n",
       "    </tr>\n",
       "  </thead>\n",
       "  <tbody>\n",
       "    <tr>\n",
       "      <th>0</th>\n",
       "      <td>2019-04-01</td>\n",
       "      <td>4</td>\n",
       "      <td>2019</td>\n",
       "      <td>OFF-ST-10003835</td>\n",
       "      <td>Rogers Folders, Single Width</td>\n",
       "      <td>Storage</td>\n",
       "      <td>27.99</td>\n",
       "      <td>30.79</td>\n",
       "      <td>1</td>\n",
       "      <td>27.99</td>\n",
       "      <td>2.8</td>\n",
       "      <td>2.8</td>\n",
       "    </tr>\n",
       "  </tbody>\n",
       "</table>\n",
       "</div>"
      ],
      "text/plain": [
       "        DATE MONTH  YEAR       PRODUCT_ID                  PRODUCT_NAME  \\\n",
       "0 2019-04-01     4  2019  OFF-ST-10003835  Rogers Folders, Single Width   \n",
       "\n",
       "  CATEGORY  BUY_PRICE  SELL_PRICE  QUANTITY  SALES  PROFIT_PER_ITEM  PROFIT  \n",
       "0  Storage      27.99       30.79         1  27.99              2.8     2.8  "
      ]
     },
     "execution_count": 8,
     "metadata": {},
     "output_type": "execute_result"
    }
   ],
   "source": [
    "# df[\"Y-M\"] = pd.to_datetime(df.YEAR.astype(str) + '-' + df.MONTH.astype(str))\n",
    "# df['MONTH'] = pd.to_datetime(df['MONTH'], format='%m').dt.strftime('%B')\n",
    "\n",
    "df['DATE'] = pd.to_datetime(df['DATE']).dt.strftime('%b %Y')\n",
    "df = df.sort_values(by=\"DATE\")\n",
    "df['DATE'] = pd.to_datetime(df['DATE'], format='%b %Y')\n",
    "df = df.reset_index(drop=True)\n",
    "df.head(1)"
   ]
  },
  {
   "cell_type": "code",
   "execution_count": null,
   "metadata": {},
   "outputs": [],
   "source": [
    "# profit sum, quantity sum, sales sum"
   ]
  },
  {
   "cell_type": "code",
   "execution_count": 20,
   "metadata": {},
   "outputs": [
    {
     "data": {
      "text/plain": [
       "CATEGORY\n",
       "Accessories     104.94\n",
       "Appliances       27.70\n",
       "Art             404.87\n",
       "Binders         294.68\n",
       "Bookcases      1096.42\n",
       "Chairs          254.00\n",
       "Copiers        1192.20\n",
       "Envelopes        23.79\n",
       "Fasteners        32.88\n",
       "Furnishings      89.92\n",
       "Labels           38.08\n",
       "Machines        107.64\n",
       "Paper            79.06\n",
       "Phones           66.20\n",
       "Storage         979.42\n",
       "Supplies        150.01\n",
       "Name: PROFIT, dtype: float64"
      ]
     },
     "execution_count": 20,
     "metadata": {},
     "output_type": "execute_result"
    }
   ],
   "source": [
    "df[[\"CATEGORY\",\"PROFIT\"]][(df[\"MONTH\"] == \"4\") & (df[\"YEAR\"] == 2019)].groupby([\"CATEGORY\"]).sum()[\"PROFIT\"]"
   ]
  },
  {
   "cell_type": "code",
   "execution_count": 9,
   "metadata": {},
   "outputs": [
    {
     "data": {
      "application/vnd.plotly.v1+json": {
       "config": {
        "plotlyServerURL": "https://plot.ly"
       },
       "data": [
        {
         "name": "Apr 2019",
         "type": "bar",
         "x": [
          "Accessories",
          "Appliances",
          "Art",
          "Binders",
          "Bookcases",
          "Chairs",
          "Copiers",
          "Envelopes",
          "Fasteners",
          "Furnishings",
          "Labels",
          "Machines",
          "Paper",
          "Phones",
          "Storage",
          "Supplies",
          "Tables"
         ],
         "y": [
          104.94,
          27.7,
          404.87,
          294.68,
          1096.42,
          254,
          1192.2,
          23.79,
          32.88,
          89.92,
          38.08,
          107.64,
          79.06,
          66.2,
          979.4200000000001,
          150.01
         ]
        },
        {
         "name": "May 2019",
         "type": "bar",
         "x": [
          "Accessories",
          "Appliances",
          "Art",
          "Binders",
          "Bookcases",
          "Chairs",
          "Copiers",
          "Envelopes",
          "Fasteners",
          "Furnishings",
          "Labels",
          "Machines",
          "Paper",
          "Phones",
          "Storage",
          "Supplies",
          "Tables"
         ],
         "y": [
          904.45,
          159.3,
          297.41,
          297.83000000000004,
          1526.78,
          1453.44,
          1167.84,
          68.22,
          59.46000000000001,
          191.51999999999998,
          10.17,
          313.75,
          63.120000000000005,
          678.48,
          950.39,
          26.32,
          135.89000000000001
         ]
        },
        {
         "name": "Jun 2019",
         "type": "bar",
         "x": [
          "Accessories",
          "Appliances",
          "Art",
          "Binders",
          "Bookcases",
          "Chairs",
          "Copiers",
          "Envelopes",
          "Fasteners",
          "Furnishings",
          "Labels",
          "Machines",
          "Paper",
          "Phones",
          "Storage",
          "Supplies",
          "Tables"
         ],
         "y": [
          177.24,
          1597.69,
          169.54,
          321.92,
          161.57999999999998,
          1105.87,
          339.94,
          80.32,
          74.81,
          164.72,
          28.77,
          416.12,
          113.76,
          496.23,
          313.78999999999996,
          110.66
         ]
        }
       ],
       "layout": {
        "barmode": "group",
        "template": {
         "data": {
          "bar": [
           {
            "error_x": {
             "color": "#f2f5fa"
            },
            "error_y": {
             "color": "#f2f5fa"
            },
            "marker": {
             "line": {
              "color": "rgb(17,17,17)",
              "width": 0.5
             },
             "pattern": {
              "fillmode": "overlay",
              "size": 10,
              "solidity": 0.2
             }
            },
            "type": "bar"
           }
          ],
          "barpolar": [
           {
            "marker": {
             "line": {
              "color": "rgb(17,17,17)",
              "width": 0.5
             },
             "pattern": {
              "fillmode": "overlay",
              "size": 10,
              "solidity": 0.2
             }
            },
            "type": "barpolar"
           }
          ],
          "carpet": [
           {
            "aaxis": {
             "endlinecolor": "#A2B1C6",
             "gridcolor": "#506784",
             "linecolor": "#506784",
             "minorgridcolor": "#506784",
             "startlinecolor": "#A2B1C6"
            },
            "baxis": {
             "endlinecolor": "#A2B1C6",
             "gridcolor": "#506784",
             "linecolor": "#506784",
             "minorgridcolor": "#506784",
             "startlinecolor": "#A2B1C6"
            },
            "type": "carpet"
           }
          ],
          "choropleth": [
           {
            "colorbar": {
             "outlinewidth": 0,
             "ticks": ""
            },
            "type": "choropleth"
           }
          ],
          "contour": [
           {
            "colorbar": {
             "outlinewidth": 0,
             "ticks": ""
            },
            "colorscale": [
             [
              0,
              "#0d0887"
             ],
             [
              0.1111111111111111,
              "#46039f"
             ],
             [
              0.2222222222222222,
              "#7201a8"
             ],
             [
              0.3333333333333333,
              "#9c179e"
             ],
             [
              0.4444444444444444,
              "#bd3786"
             ],
             [
              0.5555555555555556,
              "#d8576b"
             ],
             [
              0.6666666666666666,
              "#ed7953"
             ],
             [
              0.7777777777777778,
              "#fb9f3a"
             ],
             [
              0.8888888888888888,
              "#fdca26"
             ],
             [
              1,
              "#f0f921"
             ]
            ],
            "type": "contour"
           }
          ],
          "contourcarpet": [
           {
            "colorbar": {
             "outlinewidth": 0,
             "ticks": ""
            },
            "type": "contourcarpet"
           }
          ],
          "heatmap": [
           {
            "colorbar": {
             "outlinewidth": 0,
             "ticks": ""
            },
            "colorscale": [
             [
              0,
              "#0d0887"
             ],
             [
              0.1111111111111111,
              "#46039f"
             ],
             [
              0.2222222222222222,
              "#7201a8"
             ],
             [
              0.3333333333333333,
              "#9c179e"
             ],
             [
              0.4444444444444444,
              "#bd3786"
             ],
             [
              0.5555555555555556,
              "#d8576b"
             ],
             [
              0.6666666666666666,
              "#ed7953"
             ],
             [
              0.7777777777777778,
              "#fb9f3a"
             ],
             [
              0.8888888888888888,
              "#fdca26"
             ],
             [
              1,
              "#f0f921"
             ]
            ],
            "type": "heatmap"
           }
          ],
          "heatmapgl": [
           {
            "colorbar": {
             "outlinewidth": 0,
             "ticks": ""
            },
            "colorscale": [
             [
              0,
              "#0d0887"
             ],
             [
              0.1111111111111111,
              "#46039f"
             ],
             [
              0.2222222222222222,
              "#7201a8"
             ],
             [
              0.3333333333333333,
              "#9c179e"
             ],
             [
              0.4444444444444444,
              "#bd3786"
             ],
             [
              0.5555555555555556,
              "#d8576b"
             ],
             [
              0.6666666666666666,
              "#ed7953"
             ],
             [
              0.7777777777777778,
              "#fb9f3a"
             ],
             [
              0.8888888888888888,
              "#fdca26"
             ],
             [
              1,
              "#f0f921"
             ]
            ],
            "type": "heatmapgl"
           }
          ],
          "histogram": [
           {
            "marker": {
             "pattern": {
              "fillmode": "overlay",
              "size": 10,
              "solidity": 0.2
             }
            },
            "type": "histogram"
           }
          ],
          "histogram2d": [
           {
            "colorbar": {
             "outlinewidth": 0,
             "ticks": ""
            },
            "colorscale": [
             [
              0,
              "#0d0887"
             ],
             [
              0.1111111111111111,
              "#46039f"
             ],
             [
              0.2222222222222222,
              "#7201a8"
             ],
             [
              0.3333333333333333,
              "#9c179e"
             ],
             [
              0.4444444444444444,
              "#bd3786"
             ],
             [
              0.5555555555555556,
              "#d8576b"
             ],
             [
              0.6666666666666666,
              "#ed7953"
             ],
             [
              0.7777777777777778,
              "#fb9f3a"
             ],
             [
              0.8888888888888888,
              "#fdca26"
             ],
             [
              1,
              "#f0f921"
             ]
            ],
            "type": "histogram2d"
           }
          ],
          "histogram2dcontour": [
           {
            "colorbar": {
             "outlinewidth": 0,
             "ticks": ""
            },
            "colorscale": [
             [
              0,
              "#0d0887"
             ],
             [
              0.1111111111111111,
              "#46039f"
             ],
             [
              0.2222222222222222,
              "#7201a8"
             ],
             [
              0.3333333333333333,
              "#9c179e"
             ],
             [
              0.4444444444444444,
              "#bd3786"
             ],
             [
              0.5555555555555556,
              "#d8576b"
             ],
             [
              0.6666666666666666,
              "#ed7953"
             ],
             [
              0.7777777777777778,
              "#fb9f3a"
             ],
             [
              0.8888888888888888,
              "#fdca26"
             ],
             [
              1,
              "#f0f921"
             ]
            ],
            "type": "histogram2dcontour"
           }
          ],
          "mesh3d": [
           {
            "colorbar": {
             "outlinewidth": 0,
             "ticks": ""
            },
            "type": "mesh3d"
           }
          ],
          "parcoords": [
           {
            "line": {
             "colorbar": {
              "outlinewidth": 0,
              "ticks": ""
             }
            },
            "type": "parcoords"
           }
          ],
          "pie": [
           {
            "automargin": true,
            "type": "pie"
           }
          ],
          "scatter": [
           {
            "marker": {
             "line": {
              "color": "#283442"
             }
            },
            "type": "scatter"
           }
          ],
          "scatter3d": [
           {
            "line": {
             "colorbar": {
              "outlinewidth": 0,
              "ticks": ""
             }
            },
            "marker": {
             "colorbar": {
              "outlinewidth": 0,
              "ticks": ""
             }
            },
            "type": "scatter3d"
           }
          ],
          "scattercarpet": [
           {
            "marker": {
             "colorbar": {
              "outlinewidth": 0,
              "ticks": ""
             }
            },
            "type": "scattercarpet"
           }
          ],
          "scattergeo": [
           {
            "marker": {
             "colorbar": {
              "outlinewidth": 0,
              "ticks": ""
             }
            },
            "type": "scattergeo"
           }
          ],
          "scattergl": [
           {
            "marker": {
             "line": {
              "color": "#283442"
             }
            },
            "type": "scattergl"
           }
          ],
          "scattermapbox": [
           {
            "marker": {
             "colorbar": {
              "outlinewidth": 0,
              "ticks": ""
             }
            },
            "type": "scattermapbox"
           }
          ],
          "scatterpolar": [
           {
            "marker": {
             "colorbar": {
              "outlinewidth": 0,
              "ticks": ""
             }
            },
            "type": "scatterpolar"
           }
          ],
          "scatterpolargl": [
           {
            "marker": {
             "colorbar": {
              "outlinewidth": 0,
              "ticks": ""
             }
            },
            "type": "scatterpolargl"
           }
          ],
          "scatterternary": [
           {
            "marker": {
             "colorbar": {
              "outlinewidth": 0,
              "ticks": ""
             }
            },
            "type": "scatterternary"
           }
          ],
          "surface": [
           {
            "colorbar": {
             "outlinewidth": 0,
             "ticks": ""
            },
            "colorscale": [
             [
              0,
              "#0d0887"
             ],
             [
              0.1111111111111111,
              "#46039f"
             ],
             [
              0.2222222222222222,
              "#7201a8"
             ],
             [
              0.3333333333333333,
              "#9c179e"
             ],
             [
              0.4444444444444444,
              "#bd3786"
             ],
             [
              0.5555555555555556,
              "#d8576b"
             ],
             [
              0.6666666666666666,
              "#ed7953"
             ],
             [
              0.7777777777777778,
              "#fb9f3a"
             ],
             [
              0.8888888888888888,
              "#fdca26"
             ],
             [
              1,
              "#f0f921"
             ]
            ],
            "type": "surface"
           }
          ],
          "table": [
           {
            "cells": {
             "fill": {
              "color": "#506784"
             },
             "line": {
              "color": "rgb(17,17,17)"
             }
            },
            "header": {
             "fill": {
              "color": "#2a3f5f"
             },
             "line": {
              "color": "rgb(17,17,17)"
             }
            },
            "type": "table"
           }
          ]
         },
         "layout": {
          "annotationdefaults": {
           "arrowcolor": "#f2f5fa",
           "arrowhead": 0,
           "arrowwidth": 1
          },
          "autotypenumbers": "strict",
          "coloraxis": {
           "colorbar": {
            "outlinewidth": 0,
            "ticks": ""
           }
          },
          "colorscale": {
           "diverging": [
            [
             0,
             "#8e0152"
            ],
            [
             0.1,
             "#c51b7d"
            ],
            [
             0.2,
             "#de77ae"
            ],
            [
             0.3,
             "#f1b6da"
            ],
            [
             0.4,
             "#fde0ef"
            ],
            [
             0.5,
             "#f7f7f7"
            ],
            [
             0.6,
             "#e6f5d0"
            ],
            [
             0.7,
             "#b8e186"
            ],
            [
             0.8,
             "#7fbc41"
            ],
            [
             0.9,
             "#4d9221"
            ],
            [
             1,
             "#276419"
            ]
           ],
           "sequential": [
            [
             0,
             "#0d0887"
            ],
            [
             0.1111111111111111,
             "#46039f"
            ],
            [
             0.2222222222222222,
             "#7201a8"
            ],
            [
             0.3333333333333333,
             "#9c179e"
            ],
            [
             0.4444444444444444,
             "#bd3786"
            ],
            [
             0.5555555555555556,
             "#d8576b"
            ],
            [
             0.6666666666666666,
             "#ed7953"
            ],
            [
             0.7777777777777778,
             "#fb9f3a"
            ],
            [
             0.8888888888888888,
             "#fdca26"
            ],
            [
             1,
             "#f0f921"
            ]
           ],
           "sequentialminus": [
            [
             0,
             "#0d0887"
            ],
            [
             0.1111111111111111,
             "#46039f"
            ],
            [
             0.2222222222222222,
             "#7201a8"
            ],
            [
             0.3333333333333333,
             "#9c179e"
            ],
            [
             0.4444444444444444,
             "#bd3786"
            ],
            [
             0.5555555555555556,
             "#d8576b"
            ],
            [
             0.6666666666666666,
             "#ed7953"
            ],
            [
             0.7777777777777778,
             "#fb9f3a"
            ],
            [
             0.8888888888888888,
             "#fdca26"
            ],
            [
             1,
             "#f0f921"
            ]
           ]
          },
          "colorway": [
           "#636efa",
           "#EF553B",
           "#00cc96",
           "#ab63fa",
           "#FFA15A",
           "#19d3f3",
           "#FF6692",
           "#B6E880",
           "#FF97FF",
           "#FECB52"
          ],
          "font": {
           "color": "#f2f5fa"
          },
          "geo": {
           "bgcolor": "rgb(17,17,17)",
           "lakecolor": "rgb(17,17,17)",
           "landcolor": "rgb(17,17,17)",
           "showlakes": true,
           "showland": true,
           "subunitcolor": "#506784"
          },
          "hoverlabel": {
           "align": "left"
          },
          "hovermode": "closest",
          "mapbox": {
           "style": "dark"
          },
          "paper_bgcolor": "rgb(17,17,17)",
          "plot_bgcolor": "rgb(17,17,17)",
          "polar": {
           "angularaxis": {
            "gridcolor": "#506784",
            "linecolor": "#506784",
            "ticks": ""
           },
           "bgcolor": "rgb(17,17,17)",
           "radialaxis": {
            "gridcolor": "#506784",
            "linecolor": "#506784",
            "ticks": ""
           }
          },
          "scene": {
           "xaxis": {
            "backgroundcolor": "rgb(17,17,17)",
            "gridcolor": "#506784",
            "gridwidth": 2,
            "linecolor": "#506784",
            "showbackground": true,
            "ticks": "",
            "zerolinecolor": "#C8D4E3"
           },
           "yaxis": {
            "backgroundcolor": "rgb(17,17,17)",
            "gridcolor": "#506784",
            "gridwidth": 2,
            "linecolor": "#506784",
            "showbackground": true,
            "ticks": "",
            "zerolinecolor": "#C8D4E3"
           },
           "zaxis": {
            "backgroundcolor": "rgb(17,17,17)",
            "gridcolor": "#506784",
            "gridwidth": 2,
            "linecolor": "#506784",
            "showbackground": true,
            "ticks": "",
            "zerolinecolor": "#C8D4E3"
           }
          },
          "shapedefaults": {
           "line": {
            "color": "#f2f5fa"
           }
          },
          "sliderdefaults": {
           "bgcolor": "#C8D4E3",
           "bordercolor": "rgb(17,17,17)",
           "borderwidth": 1,
           "tickwidth": 0
          },
          "ternary": {
           "aaxis": {
            "gridcolor": "#506784",
            "linecolor": "#506784",
            "ticks": ""
           },
           "baxis": {
            "gridcolor": "#506784",
            "linecolor": "#506784",
            "ticks": ""
           },
           "bgcolor": "rgb(17,17,17)",
           "caxis": {
            "gridcolor": "#506784",
            "linecolor": "#506784",
            "ticks": ""
           }
          },
          "title": {
           "x": 0.05
          },
          "updatemenudefaults": {
           "bgcolor": "#506784",
           "borderwidth": 0
          },
          "xaxis": {
           "automargin": true,
           "gridcolor": "#283442",
           "linecolor": "#506784",
           "ticks": "",
           "title": {
            "standoff": 15
           },
           "zerolinecolor": "#283442",
           "zerolinewidth": 2
          },
          "yaxis": {
           "automargin": true,
           "gridcolor": "#283442",
           "linecolor": "#506784",
           "ticks": "",
           "title": {
            "standoff": 15
           },
           "zerolinecolor": "#283442",
           "zerolinewidth": 2
          }
         }
        }
       }
      }
     },
     "metadata": {},
     "output_type": "display_data"
    }
   ],
   "source": [
    "import plotly.express as px\n",
    "import plotly.graph_objects as go\n",
    "\n",
    "data = []\n",
    "month = [\"4\",\"5\",\"6\"]\n",
    "year = [2019]\n",
    "m_name = [\"Apr\",\"May\",\"Jun\"]\n",
    "x = df[\"CATEGORY\"].sort_values().unique().tolist()\n",
    "for i in year:\n",
    "    for j,k in list(zip(month,m_name)):\n",
    "        data.append(go.Bar(name=k+\" \"+str(i), x=x,\n",
    "             y=df[[\"CATEGORY\",\"PROFIT\"]][(df[\"MONTH\"] == j) & (df[\"YEAR\"] == i)].groupby([\"CATEGORY\"]).sum()[\"PROFIT\"]))\n",
    "\n",
    "fig = go.Figure(data=data)\n",
    "fig.update_layout(barmode='group', template=\"plotly_dark\")\n",
    "\n",
    "fig.show()"
   ]
  },
  {
   "cell_type": "code",
   "execution_count": 49,
   "metadata": {},
   "outputs": [
    {
     "name": "stderr",
     "output_type": "stream",
     "text": [
      "C:\\Users\\mdima\\AppData\\Local\\Temp\\ipykernel_8612\\1495815780.py:2: FutureWarning:\n",
      "\n",
      "The default value of numeric_only in DataFrameGroupBy.sum is deprecated. In a future version, numeric_only will default to False. Either specify numeric_only or select only columns which should be valid for the function.\n",
      "\n",
      "C:\\Users\\mdima\\AppData\\Local\\Temp\\ipykernel_8612\\1495815780.py:10: FutureWarning:\n",
      "\n",
      "The default value of numeric_only in DataFrameGroupBy.sum is deprecated. In a future version, numeric_only will default to False. Either specify numeric_only or select only columns which should be valid for the function.\n",
      "\n"
     ]
    },
    {
     "data": {
      "text/html": [
       "<div>\n",
       "<style scoped>\n",
       "    .dataframe tbody tr th:only-of-type {\n",
       "        vertical-align: middle;\n",
       "    }\n",
       "\n",
       "    .dataframe tbody tr th {\n",
       "        vertical-align: top;\n",
       "    }\n",
       "\n",
       "    .dataframe thead th {\n",
       "        text-align: right;\n",
       "    }\n",
       "</style>\n",
       "<table border=\"1\" class=\"dataframe\">\n",
       "  <thead>\n",
       "    <tr style=\"text-align: right;\">\n",
       "      <th></th>\n",
       "      <th>YEAR</th>\n",
       "      <th>BUY_PRICE</th>\n",
       "      <th>SELL_PRICE</th>\n",
       "      <th>QUANTITY</th>\n",
       "      <th>SALES</th>\n",
       "      <th>PROFIT_PER_ITEM</th>\n",
       "      <th>PROFIT</th>\n",
       "    </tr>\n",
       "    <tr>\n",
       "      <th>PRODUCT_NAME</th>\n",
       "      <th></th>\n",
       "      <th></th>\n",
       "      <th></th>\n",
       "      <th></th>\n",
       "      <th></th>\n",
       "      <th></th>\n",
       "      <th></th>\n",
       "    </tr>\n",
       "  </thead>\n",
       "  <tbody>\n",
       "    <tr>\n",
       "      <th>Others</th>\n",
       "      <td>68748</td>\n",
       "      <td>962.66</td>\n",
       "      <td>1177.25</td>\n",
       "      <td>110</td>\n",
       "      <td>2830.90</td>\n",
       "      <td>214.59</td>\n",
       "      <td>613.26</td>\n",
       "    </tr>\n",
       "    <tr>\n",
       "      <th>Binney &amp; Smith Canvas, Easy-Erase</th>\n",
       "      <td>4044</td>\n",
       "      <td>103.98</td>\n",
       "      <td>119.58</td>\n",
       "      <td>11</td>\n",
       "      <td>571.89</td>\n",
       "      <td>15.60</td>\n",
       "      <td>85.80</td>\n",
       "    </tr>\n",
       "    <tr>\n",
       "      <th>Binney &amp; Smith Pencil Sharpener, Fluorescent</th>\n",
       "      <td>4044</td>\n",
       "      <td>53.98</td>\n",
       "      <td>68.02</td>\n",
       "      <td>12</td>\n",
       "      <td>323.88</td>\n",
       "      <td>14.04</td>\n",
       "      <td>84.24</td>\n",
       "    </tr>\n",
       "    <tr>\n",
       "      <th>Sanford Pencil Sharpener, Water Color</th>\n",
       "      <td>8088</td>\n",
       "      <td>103.96</td>\n",
       "      <td>132.04</td>\n",
       "      <td>12</td>\n",
       "      <td>311.88</td>\n",
       "      <td>28.08</td>\n",
       "      <td>84.24</td>\n",
       "    </tr>\n",
       "    <tr>\n",
       "      <th>Boston Markers, Water Color</th>\n",
       "      <td>4044</td>\n",
       "      <td>59.98</td>\n",
       "      <td>76.78</td>\n",
       "      <td>10</td>\n",
       "      <td>299.90</td>\n",
       "      <td>16.80</td>\n",
       "      <td>84.00</td>\n",
       "    </tr>\n",
       "    <tr>\n",
       "      <th>BIC Canvas, Easy-Erase</th>\n",
       "      <td>2022</td>\n",
       "      <td>53.99</td>\n",
       "      <td>65.33</td>\n",
       "      <td>7</td>\n",
       "      <td>377.93</td>\n",
       "      <td>11.34</td>\n",
       "      <td>79.38</td>\n",
       "    </tr>\n",
       "    <tr>\n",
       "      <th>Boston Markers, Easy-Erase</th>\n",
       "      <td>6066</td>\n",
       "      <td>71.97</td>\n",
       "      <td>89.25</td>\n",
       "      <td>13</td>\n",
       "      <td>311.87</td>\n",
       "      <td>17.28</td>\n",
       "      <td>74.88</td>\n",
       "    </tr>\n",
       "  </tbody>\n",
       "</table>\n",
       "</div>"
      ],
      "text/plain": [
       "                                               YEAR  BUY_PRICE  SELL_PRICE  \\\n",
       "PRODUCT_NAME                                                                 \n",
       "Others                                        68748     962.66     1177.25   \n",
       "Binney & Smith Canvas, Easy-Erase              4044     103.98      119.58   \n",
       "Binney & Smith Pencil Sharpener, Fluorescent   4044      53.98       68.02   \n",
       "Sanford Pencil Sharpener, Water Color          8088     103.96      132.04   \n",
       "Boston Markers, Water Color                    4044      59.98       76.78   \n",
       "BIC Canvas, Easy-Erase                         2022      53.99       65.33   \n",
       "Boston Markers, Easy-Erase                     6066      71.97       89.25   \n",
       "\n",
       "                                              QUANTITY    SALES  \\\n",
       "PRODUCT_NAME                                                      \n",
       "Others                                             110  2830.90   \n",
       "Binney & Smith Canvas, Easy-Erase                   11   571.89   \n",
       "Binney & Smith Pencil Sharpener, Fluorescent        12   323.88   \n",
       "Sanford Pencil Sharpener, Water Color               12   311.88   \n",
       "Boston Markers, Water Color                         10   299.90   \n",
       "BIC Canvas, Easy-Erase                               7   377.93   \n",
       "Boston Markers, Easy-Erase                          13   311.87   \n",
       "\n",
       "                                              PROFIT_PER_ITEM  PROFIT  \n",
       "PRODUCT_NAME                                                           \n",
       "Others                                                 214.59  613.26  \n",
       "Binney & Smith Canvas, Easy-Erase                       15.60   85.80  \n",
       "Binney & Smith Pencil Sharpener, Fluorescent            14.04   84.24  \n",
       "Sanford Pencil Sharpener, Water Color                   28.08   84.24  \n",
       "Boston Markers, Water Color                             16.80   84.00  \n",
       "BIC Canvas, Easy-Erase                                  11.34   79.38  \n",
       "Boston Markers, Easy-Erase                              17.28   74.88  "
      ]
     },
     "execution_count": 49,
     "metadata": {},
     "output_type": "execute_result"
    }
   ],
   "source": [
    "sel = df[(df[\"CATEGORY\"]==\"Art\") & (df[\"YEAR\"]==2022) & (df[\"MONTH\"]==\"9\")].sort_values(by=\"PROFIT\", ascending = False)\n",
    "top6 = sel.groupby([\"PRODUCT_NAME\"]).sum().sort_values(by=\"PROFIT\", ascending = False).head(6).index.values.tolist()\n",
    "prod = []\n",
    "for i in sel[\"PRODUCT_NAME\"]:\n",
    "    if (i in top6):\n",
    "        prod.append(i)\n",
    "    else:\n",
    "        prod.append(\"Others\")\n",
    "sel[\"PRODUCT_NAME\"] = prod\n",
    "selected = sel.groupby([\"PRODUCT_NAME\"]).sum().sort_values(by=\"PROFIT\", ascending = False)\n",
    "selected"
   ]
  },
  {
   "cell_type": "code",
   "execution_count": 53,
   "metadata": {},
   "outputs": [
    {
     "data": {
      "text/plain": [
       "[613.26, 85.8, 84.24, 84.24, 84.0, 79.38, 74.88]"
      ]
     },
     "execution_count": 53,
     "metadata": {},
     "output_type": "execute_result"
    }
   ],
   "source": [
    "selected.PROFIT.values.round(2).tolist()"
   ]
  },
  {
   "cell_type": "code",
   "execution_count": 77,
   "metadata": {},
   "outputs": [
    {
     "name": "stderr",
     "output_type": "stream",
     "text": [
      "C:\\Users\\mdima\\AppData\\Local\\Temp\\ipykernel_8612\\3978743886.py:5: FutureWarning:\n",
      "\n",
      "The default value of numeric_only in DataFrameGroupBy.sum is deprecated. In a future version, numeric_only will default to False. Either specify numeric_only or select only columns which should be valid for the function.\n",
      "\n",
      "C:\\Users\\mdima\\AppData\\Local\\Temp\\ipykernel_8612\\3978743886.py:13: FutureWarning:\n",
      "\n",
      "The default value of numeric_only in DataFrameGroupBy.sum is deprecated. In a future version, numeric_only will default to False. Either specify numeric_only or select only columns which should be valid for the function.\n",
      "\n"
     ]
    },
    {
     "data": {
      "application/vnd.plotly.v1+json": {
       "config": {
        "plotlyServerURL": "https://plot.ly"
       },
       "data": [
        {
         "hole": 0.7,
         "hovertemplate": "%{label}<br>%{percent} <extra></extra>",
         "labels": [
          "Samsung Smart Phone, VoIP",
          "Cisco Smart Phone, Full Size",
          "Cisco Signal Booster, with Caller ID",
          "Cisco Audio Dock, with Caller ID",
          "Nokia Headset, Full Size",
          "Nokia Audio Dock, VoIP",
          "Cisco Headset, Cordless",
          "Cisco Headset, with Caller ID",
          "Motorola Office Telephone, VoIP",
          "Samsung Audio Dock, VoIP"
         ],
         "marker": {
          "line": {
           "color": "white",
           "width": 1.25
          }
         },
         "pull": [
          0.1,
          0.1,
          0.1,
          0.1,
          0.1,
          0.1,
          0.1,
          0.1,
          0.1,
          0.1
         ],
         "textinfo": "label+percent",
         "type": "pie",
         "values": [
          1526.4,
          188.7,
          118.56,
          91,
          77.7,
          62.48,
          50.05,
          33.6,
          29.28,
          24
         ]
        }
       ],
       "layout": {
        "autosize": true,
        "font": {
         "size": 16
        },
        "margin": {
         "b": 0,
         "l": 0,
         "r": 0,
         "t": 0
        },
        "showlegend": false,
        "template": {
         "data": {
          "bar": [
           {
            "error_x": {
             "color": "#f2f5fa"
            },
            "error_y": {
             "color": "#f2f5fa"
            },
            "marker": {
             "line": {
              "color": "rgb(17,17,17)",
              "width": 0.5
             },
             "pattern": {
              "fillmode": "overlay",
              "size": 10,
              "solidity": 0.2
             }
            },
            "type": "bar"
           }
          ],
          "barpolar": [
           {
            "marker": {
             "line": {
              "color": "rgb(17,17,17)",
              "width": 0.5
             },
             "pattern": {
              "fillmode": "overlay",
              "size": 10,
              "solidity": 0.2
             }
            },
            "type": "barpolar"
           }
          ],
          "carpet": [
           {
            "aaxis": {
             "endlinecolor": "#A2B1C6",
             "gridcolor": "#506784",
             "linecolor": "#506784",
             "minorgridcolor": "#506784",
             "startlinecolor": "#A2B1C6"
            },
            "baxis": {
             "endlinecolor": "#A2B1C6",
             "gridcolor": "#506784",
             "linecolor": "#506784",
             "minorgridcolor": "#506784",
             "startlinecolor": "#A2B1C6"
            },
            "type": "carpet"
           }
          ],
          "choropleth": [
           {
            "colorbar": {
             "outlinewidth": 0,
             "ticks": ""
            },
            "type": "choropleth"
           }
          ],
          "contour": [
           {
            "colorbar": {
             "outlinewidth": 0,
             "ticks": ""
            },
            "colorscale": [
             [
              0,
              "#0d0887"
             ],
             [
              0.1111111111111111,
              "#46039f"
             ],
             [
              0.2222222222222222,
              "#7201a8"
             ],
             [
              0.3333333333333333,
              "#9c179e"
             ],
             [
              0.4444444444444444,
              "#bd3786"
             ],
             [
              0.5555555555555556,
              "#d8576b"
             ],
             [
              0.6666666666666666,
              "#ed7953"
             ],
             [
              0.7777777777777778,
              "#fb9f3a"
             ],
             [
              0.8888888888888888,
              "#fdca26"
             ],
             [
              1,
              "#f0f921"
             ]
            ],
            "type": "contour"
           }
          ],
          "contourcarpet": [
           {
            "colorbar": {
             "outlinewidth": 0,
             "ticks": ""
            },
            "type": "contourcarpet"
           }
          ],
          "heatmap": [
           {
            "colorbar": {
             "outlinewidth": 0,
             "ticks": ""
            },
            "colorscale": [
             [
              0,
              "#0d0887"
             ],
             [
              0.1111111111111111,
              "#46039f"
             ],
             [
              0.2222222222222222,
              "#7201a8"
             ],
             [
              0.3333333333333333,
              "#9c179e"
             ],
             [
              0.4444444444444444,
              "#bd3786"
             ],
             [
              0.5555555555555556,
              "#d8576b"
             ],
             [
              0.6666666666666666,
              "#ed7953"
             ],
             [
              0.7777777777777778,
              "#fb9f3a"
             ],
             [
              0.8888888888888888,
              "#fdca26"
             ],
             [
              1,
              "#f0f921"
             ]
            ],
            "type": "heatmap"
           }
          ],
          "heatmapgl": [
           {
            "colorbar": {
             "outlinewidth": 0,
             "ticks": ""
            },
            "colorscale": [
             [
              0,
              "#0d0887"
             ],
             [
              0.1111111111111111,
              "#46039f"
             ],
             [
              0.2222222222222222,
              "#7201a8"
             ],
             [
              0.3333333333333333,
              "#9c179e"
             ],
             [
              0.4444444444444444,
              "#bd3786"
             ],
             [
              0.5555555555555556,
              "#d8576b"
             ],
             [
              0.6666666666666666,
              "#ed7953"
             ],
             [
              0.7777777777777778,
              "#fb9f3a"
             ],
             [
              0.8888888888888888,
              "#fdca26"
             ],
             [
              1,
              "#f0f921"
             ]
            ],
            "type": "heatmapgl"
           }
          ],
          "histogram": [
           {
            "marker": {
             "pattern": {
              "fillmode": "overlay",
              "size": 10,
              "solidity": 0.2
             }
            },
            "type": "histogram"
           }
          ],
          "histogram2d": [
           {
            "colorbar": {
             "outlinewidth": 0,
             "ticks": ""
            },
            "colorscale": [
             [
              0,
              "#0d0887"
             ],
             [
              0.1111111111111111,
              "#46039f"
             ],
             [
              0.2222222222222222,
              "#7201a8"
             ],
             [
              0.3333333333333333,
              "#9c179e"
             ],
             [
              0.4444444444444444,
              "#bd3786"
             ],
             [
              0.5555555555555556,
              "#d8576b"
             ],
             [
              0.6666666666666666,
              "#ed7953"
             ],
             [
              0.7777777777777778,
              "#fb9f3a"
             ],
             [
              0.8888888888888888,
              "#fdca26"
             ],
             [
              1,
              "#f0f921"
             ]
            ],
            "type": "histogram2d"
           }
          ],
          "histogram2dcontour": [
           {
            "colorbar": {
             "outlinewidth": 0,
             "ticks": ""
            },
            "colorscale": [
             [
              0,
              "#0d0887"
             ],
             [
              0.1111111111111111,
              "#46039f"
             ],
             [
              0.2222222222222222,
              "#7201a8"
             ],
             [
              0.3333333333333333,
              "#9c179e"
             ],
             [
              0.4444444444444444,
              "#bd3786"
             ],
             [
              0.5555555555555556,
              "#d8576b"
             ],
             [
              0.6666666666666666,
              "#ed7953"
             ],
             [
              0.7777777777777778,
              "#fb9f3a"
             ],
             [
              0.8888888888888888,
              "#fdca26"
             ],
             [
              1,
              "#f0f921"
             ]
            ],
            "type": "histogram2dcontour"
           }
          ],
          "mesh3d": [
           {
            "colorbar": {
             "outlinewidth": 0,
             "ticks": ""
            },
            "type": "mesh3d"
           }
          ],
          "parcoords": [
           {
            "line": {
             "colorbar": {
              "outlinewidth": 0,
              "ticks": ""
             }
            },
            "type": "parcoords"
           }
          ],
          "pie": [
           {
            "automargin": true,
            "type": "pie"
           }
          ],
          "scatter": [
           {
            "marker": {
             "line": {
              "color": "#283442"
             }
            },
            "type": "scatter"
           }
          ],
          "scatter3d": [
           {
            "line": {
             "colorbar": {
              "outlinewidth": 0,
              "ticks": ""
             }
            },
            "marker": {
             "colorbar": {
              "outlinewidth": 0,
              "ticks": ""
             }
            },
            "type": "scatter3d"
           }
          ],
          "scattercarpet": [
           {
            "marker": {
             "colorbar": {
              "outlinewidth": 0,
              "ticks": ""
             }
            },
            "type": "scattercarpet"
           }
          ],
          "scattergeo": [
           {
            "marker": {
             "colorbar": {
              "outlinewidth": 0,
              "ticks": ""
             }
            },
            "type": "scattergeo"
           }
          ],
          "scattergl": [
           {
            "marker": {
             "line": {
              "color": "#283442"
             }
            },
            "type": "scattergl"
           }
          ],
          "scattermapbox": [
           {
            "marker": {
             "colorbar": {
              "outlinewidth": 0,
              "ticks": ""
             }
            },
            "type": "scattermapbox"
           }
          ],
          "scatterpolar": [
           {
            "marker": {
             "colorbar": {
              "outlinewidth": 0,
              "ticks": ""
             }
            },
            "type": "scatterpolar"
           }
          ],
          "scatterpolargl": [
           {
            "marker": {
             "colorbar": {
              "outlinewidth": 0,
              "ticks": ""
             }
            },
            "type": "scatterpolargl"
           }
          ],
          "scatterternary": [
           {
            "marker": {
             "colorbar": {
              "outlinewidth": 0,
              "ticks": ""
             }
            },
            "type": "scatterternary"
           }
          ],
          "surface": [
           {
            "colorbar": {
             "outlinewidth": 0,
             "ticks": ""
            },
            "colorscale": [
             [
              0,
              "#0d0887"
             ],
             [
              0.1111111111111111,
              "#46039f"
             ],
             [
              0.2222222222222222,
              "#7201a8"
             ],
             [
              0.3333333333333333,
              "#9c179e"
             ],
             [
              0.4444444444444444,
              "#bd3786"
             ],
             [
              0.5555555555555556,
              "#d8576b"
             ],
             [
              0.6666666666666666,
              "#ed7953"
             ],
             [
              0.7777777777777778,
              "#fb9f3a"
             ],
             [
              0.8888888888888888,
              "#fdca26"
             ],
             [
              1,
              "#f0f921"
             ]
            ],
            "type": "surface"
           }
          ],
          "table": [
           {
            "cells": {
             "fill": {
              "color": "#506784"
             },
             "line": {
              "color": "rgb(17,17,17)"
             }
            },
            "header": {
             "fill": {
              "color": "#2a3f5f"
             },
             "line": {
              "color": "rgb(17,17,17)"
             }
            },
            "type": "table"
           }
          ]
         },
         "layout": {
          "annotationdefaults": {
           "arrowcolor": "#f2f5fa",
           "arrowhead": 0,
           "arrowwidth": 1
          },
          "autotypenumbers": "strict",
          "coloraxis": {
           "colorbar": {
            "outlinewidth": 0,
            "ticks": ""
           }
          },
          "colorscale": {
           "diverging": [
            [
             0,
             "#8e0152"
            ],
            [
             0.1,
             "#c51b7d"
            ],
            [
             0.2,
             "#de77ae"
            ],
            [
             0.3,
             "#f1b6da"
            ],
            [
             0.4,
             "#fde0ef"
            ],
            [
             0.5,
             "#f7f7f7"
            ],
            [
             0.6,
             "#e6f5d0"
            ],
            [
             0.7,
             "#b8e186"
            ],
            [
             0.8,
             "#7fbc41"
            ],
            [
             0.9,
             "#4d9221"
            ],
            [
             1,
             "#276419"
            ]
           ],
           "sequential": [
            [
             0,
             "#0d0887"
            ],
            [
             0.1111111111111111,
             "#46039f"
            ],
            [
             0.2222222222222222,
             "#7201a8"
            ],
            [
             0.3333333333333333,
             "#9c179e"
            ],
            [
             0.4444444444444444,
             "#bd3786"
            ],
            [
             0.5555555555555556,
             "#d8576b"
            ],
            [
             0.6666666666666666,
             "#ed7953"
            ],
            [
             0.7777777777777778,
             "#fb9f3a"
            ],
            [
             0.8888888888888888,
             "#fdca26"
            ],
            [
             1,
             "#f0f921"
            ]
           ],
           "sequentialminus": [
            [
             0,
             "#0d0887"
            ],
            [
             0.1111111111111111,
             "#46039f"
            ],
            [
             0.2222222222222222,
             "#7201a8"
            ],
            [
             0.3333333333333333,
             "#9c179e"
            ],
            [
             0.4444444444444444,
             "#bd3786"
            ],
            [
             0.5555555555555556,
             "#d8576b"
            ],
            [
             0.6666666666666666,
             "#ed7953"
            ],
            [
             0.7777777777777778,
             "#fb9f3a"
            ],
            [
             0.8888888888888888,
             "#fdca26"
            ],
            [
             1,
             "#f0f921"
            ]
           ]
          },
          "colorway": [
           "#636efa",
           "#EF553B",
           "#00cc96",
           "#ab63fa",
           "#FFA15A",
           "#19d3f3",
           "#FF6692",
           "#B6E880",
           "#FF97FF",
           "#FECB52"
          ],
          "font": {
           "color": "#f2f5fa"
          },
          "geo": {
           "bgcolor": "rgb(17,17,17)",
           "lakecolor": "rgb(17,17,17)",
           "landcolor": "rgb(17,17,17)",
           "showlakes": true,
           "showland": true,
           "subunitcolor": "#506784"
          },
          "hoverlabel": {
           "align": "left"
          },
          "hovermode": "closest",
          "mapbox": {
           "style": "dark"
          },
          "paper_bgcolor": "rgb(17,17,17)",
          "plot_bgcolor": "rgb(17,17,17)",
          "polar": {
           "angularaxis": {
            "gridcolor": "#506784",
            "linecolor": "#506784",
            "ticks": ""
           },
           "bgcolor": "rgb(17,17,17)",
           "radialaxis": {
            "gridcolor": "#506784",
            "linecolor": "#506784",
            "ticks": ""
           }
          },
          "scene": {
           "xaxis": {
            "backgroundcolor": "rgb(17,17,17)",
            "gridcolor": "#506784",
            "gridwidth": 2,
            "linecolor": "#506784",
            "showbackground": true,
            "ticks": "",
            "zerolinecolor": "#C8D4E3"
           },
           "yaxis": {
            "backgroundcolor": "rgb(17,17,17)",
            "gridcolor": "#506784",
            "gridwidth": 2,
            "linecolor": "#506784",
            "showbackground": true,
            "ticks": "",
            "zerolinecolor": "#C8D4E3"
           },
           "zaxis": {
            "backgroundcolor": "rgb(17,17,17)",
            "gridcolor": "#506784",
            "gridwidth": 2,
            "linecolor": "#506784",
            "showbackground": true,
            "ticks": "",
            "zerolinecolor": "#C8D4E3"
           }
          },
          "shapedefaults": {
           "line": {
            "color": "#f2f5fa"
           }
          },
          "sliderdefaults": {
           "bgcolor": "#C8D4E3",
           "bordercolor": "rgb(17,17,17)",
           "borderwidth": 1,
           "tickwidth": 0
          },
          "ternary": {
           "aaxis": {
            "gridcolor": "#506784",
            "linecolor": "#506784",
            "ticks": ""
           },
           "baxis": {
            "gridcolor": "#506784",
            "linecolor": "#506784",
            "ticks": ""
           },
           "bgcolor": "rgb(17,17,17)",
           "caxis": {
            "gridcolor": "#506784",
            "linecolor": "#506784",
            "ticks": ""
           }
          },
          "title": {
           "x": 0.05
          },
          "updatemenudefaults": {
           "bgcolor": "#506784",
           "borderwidth": 0
          },
          "xaxis": {
           "automargin": true,
           "gridcolor": "#283442",
           "linecolor": "#506784",
           "ticks": "",
           "title": {
            "standoff": 15
           },
           "zerolinecolor": "#283442",
           "zerolinewidth": 2
          },
          "yaxis": {
           "automargin": true,
           "gridcolor": "#283442",
           "linecolor": "#506784",
           "ticks": "",
           "title": {
            "standoff": 15
           },
           "zerolinecolor": "#283442",
           "zerolinewidth": 2
          }
         }
        }
       }
      }
     },
     "metadata": {},
     "output_type": "display_data"
    }
   ],
   "source": [
    "import plotly.express as px\n",
    "import plotly.graph_objects as go\n",
    "\n",
    "sel = df[(df[\"CATEGORY\"]==\"Phones\") & (df[\"YEAR\"]==2021) & (df[\"MONTH\"]==\"7\")].sort_values(by=\"PROFIT\", ascending = False)\n",
    "top = sel.groupby([\"PRODUCT_NAME\"]).sum().sort_values(by=\"PROFIT\", ascending = False).head(10).index.values.tolist()\n",
    "prod = []\n",
    "for i in sel[\"PRODUCT_NAME\"]:\n",
    "    if (i in top):\n",
    "        prod.append(i)\n",
    "    else:\n",
    "        prod.append(\"Others\")\n",
    "sel[\"PRODUCT_NAME\"] = prod\n",
    "selected = sel.groupby([\"PRODUCT_NAME\"]).sum().sort_values(by=\"PROFIT\", ascending = False)\n",
    "labels = selected.index.values.tolist()\n",
    "pull = []\n",
    "for i in range(len(labels)):\n",
    "    pull.append(0.1)\n",
    "fig2 = go.Figure(go.Pie(\n",
    "                    labels = labels,\n",
    "                    values = selected.PROFIT.values.round(2).tolist(),hovertemplate = \"%{label}<br>%{percent} <extra></extra>\",\n",
    "                    hole=.7,\n",
    "                    marker_line_color='white',\n",
    "                    marker_line_width=1.25,\n",
    "                    pull= pull,\n",
    "                    textinfo=\"label+percent\"\n",
    "                ))\n",
    "fig2.update_layout(\n",
    "                    autosize=True,  # Automatically adjust size to fit entire layout\n",
    "                    margin=dict(l=0, r=0, t=0, b=0),)  # Remove margin around chart\n",
    "fig2.update_layout(showlegend=False, template=\"plotly_dark\")\n",
    "fig2.update_layout(\n",
    "font=dict(\n",
    "size=16,))\n",
    "\n",
    "fig2.show()\n",
    "# selected = plotly_events(fig)"
   ]
  },
  {
   "cell_type": "code",
   "execution_count": 82,
   "metadata": {},
   "outputs": [
    {
     "data": {
      "text/plain": [
       "152.64"
      ]
     },
     "execution_count": 82,
     "metadata": {},
     "output_type": "execute_result"
    }
   ],
   "source": [
    "selected[\"PROFIT_PER_ITEM\"][selected.index.values == \"Samsung Smart Phone, VoIP\"].values.tolist()[0]"
   ]
  },
  {
   "cell_type": "code",
   "execution_count": 90,
   "metadata": {},
   "outputs": [
    {
     "data": {
      "text/html": [
       "<div>\n",
       "<style scoped>\n",
       "    .dataframe tbody tr th:only-of-type {\n",
       "        vertical-align: middle;\n",
       "    }\n",
       "\n",
       "    .dataframe tbody tr th {\n",
       "        vertical-align: top;\n",
       "    }\n",
       "\n",
       "    .dataframe thead th {\n",
       "        text-align: right;\n",
       "    }\n",
       "</style>\n",
       "<table border=\"1\" class=\"dataframe\">\n",
       "  <thead>\n",
       "    <tr style=\"text-align: right;\">\n",
       "      <th></th>\n",
       "      <th>DATE</th>\n",
       "      <th>MONTH</th>\n",
       "      <th>YEAR</th>\n",
       "      <th>PRODUCT_ID</th>\n",
       "      <th>PRODUCT_NAME</th>\n",
       "      <th>CATEGORY</th>\n",
       "      <th>BUY_PRICE</th>\n",
       "      <th>SELL_PRICE</th>\n",
       "      <th>QUANTITY</th>\n",
       "      <th>SALES</th>\n",
       "      <th>PROFIT_PER_ITEM</th>\n",
       "      <th>PROFIT</th>\n",
       "    </tr>\n",
       "  </thead>\n",
       "  <tbody>\n",
       "    <tr>\n",
       "      <th>8376</th>\n",
       "      <td>2019-10-01</td>\n",
       "      <td>10</td>\n",
       "      <td>2019</td>\n",
       "      <td>OFF-AR-10003633</td>\n",
       "      <td>Binney &amp; Smith Canvas, Easy-Erase</td>\n",
       "      <td>Art</td>\n",
       "      <td>51.99</td>\n",
       "      <td>59.79</td>\n",
       "      <td>2</td>\n",
       "      <td>103.98</td>\n",
       "      <td>7.8</td>\n",
       "      <td>15.6</td>\n",
       "    </tr>\n",
       "    <tr>\n",
       "      <th>5746</th>\n",
       "      <td>2021-03-01</td>\n",
       "      <td>3</td>\n",
       "      <td>2021</td>\n",
       "      <td>OFF-AR-10003633</td>\n",
       "      <td>Binney &amp; Smith Canvas, Easy-Erase</td>\n",
       "      <td>Art</td>\n",
       "      <td>51.99</td>\n",
       "      <td>59.79</td>\n",
       "      <td>2</td>\n",
       "      <td>103.98</td>\n",
       "      <td>7.8</td>\n",
       "      <td>15.6</td>\n",
       "    </tr>\n",
       "    <tr>\n",
       "      <th>5797</th>\n",
       "      <td>2021-03-01</td>\n",
       "      <td>3</td>\n",
       "      <td>2021</td>\n",
       "      <td>OFF-AR-10003633</td>\n",
       "      <td>Binney &amp; Smith Canvas, Easy-Erase</td>\n",
       "      <td>Art</td>\n",
       "      <td>51.99</td>\n",
       "      <td>59.79</td>\n",
       "      <td>3</td>\n",
       "      <td>155.97</td>\n",
       "      <td>7.8</td>\n",
       "      <td>23.4</td>\n",
       "    </tr>\n",
       "    <tr>\n",
       "      <th>283</th>\n",
       "      <td>2021-04-01</td>\n",
       "      <td>4</td>\n",
       "      <td>2021</td>\n",
       "      <td>OFF-AR-10003633</td>\n",
       "      <td>Binney &amp; Smith Canvas, Easy-Erase</td>\n",
       "      <td>Art</td>\n",
       "      <td>51.99</td>\n",
       "      <td>59.79</td>\n",
       "      <td>3</td>\n",
       "      <td>155.97</td>\n",
       "      <td>7.8</td>\n",
       "      <td>23.4</td>\n",
       "    </tr>\n",
       "    <tr>\n",
       "      <th>954</th>\n",
       "      <td>2021-08-01</td>\n",
       "      <td>8</td>\n",
       "      <td>2021</td>\n",
       "      <td>OFF-AR-10003633</td>\n",
       "      <td>Binney &amp; Smith Canvas, Easy-Erase</td>\n",
       "      <td>Art</td>\n",
       "      <td>51.99</td>\n",
       "      <td>59.79</td>\n",
       "      <td>4</td>\n",
       "      <td>207.96</td>\n",
       "      <td>7.8</td>\n",
       "      <td>31.2</td>\n",
       "    </tr>\n",
       "    <tr>\n",
       "      <th>1896</th>\n",
       "      <td>2021-12-01</td>\n",
       "      <td>12</td>\n",
       "      <td>2021</td>\n",
       "      <td>OFF-AR-10003633</td>\n",
       "      <td>Binney &amp; Smith Canvas, Easy-Erase</td>\n",
       "      <td>Art</td>\n",
       "      <td>51.99</td>\n",
       "      <td>59.79</td>\n",
       "      <td>5</td>\n",
       "      <td>259.95</td>\n",
       "      <td>7.8</td>\n",
       "      <td>39.0</td>\n",
       "    </tr>\n",
       "    <tr>\n",
       "      <th>7133</th>\n",
       "      <td>2022-05-01</td>\n",
       "      <td>5</td>\n",
       "      <td>2022</td>\n",
       "      <td>OFF-AR-10003633</td>\n",
       "      <td>Binney &amp; Smith Canvas, Easy-Erase</td>\n",
       "      <td>Art</td>\n",
       "      <td>51.99</td>\n",
       "      <td>59.79</td>\n",
       "      <td>3</td>\n",
       "      <td>155.97</td>\n",
       "      <td>7.8</td>\n",
       "      <td>23.4</td>\n",
       "    </tr>\n",
       "    <tr>\n",
       "      <th>9706</th>\n",
       "      <td>2022-09-01</td>\n",
       "      <td>9</td>\n",
       "      <td>2022</td>\n",
       "      <td>OFF-AR-10003633</td>\n",
       "      <td>Binney &amp; Smith Canvas, Easy-Erase</td>\n",
       "      <td>Art</td>\n",
       "      <td>51.99</td>\n",
       "      <td>59.79</td>\n",
       "      <td>9</td>\n",
       "      <td>467.91</td>\n",
       "      <td>7.8</td>\n",
       "      <td>70.2</td>\n",
       "    </tr>\n",
       "    <tr>\n",
       "      <th>9984</th>\n",
       "      <td>2022-09-01</td>\n",
       "      <td>9</td>\n",
       "      <td>2022</td>\n",
       "      <td>OFF-AR-10003633</td>\n",
       "      <td>Binney &amp; Smith Canvas, Easy-Erase</td>\n",
       "      <td>Art</td>\n",
       "      <td>51.99</td>\n",
       "      <td>59.79</td>\n",
       "      <td>2</td>\n",
       "      <td>103.98</td>\n",
       "      <td>7.8</td>\n",
       "      <td>15.6</td>\n",
       "    </tr>\n",
       "    <tr>\n",
       "      <th>3861</th>\n",
       "      <td>2023-01-01</td>\n",
       "      <td>1</td>\n",
       "      <td>2023</td>\n",
       "      <td>OFF-AR-10003633</td>\n",
       "      <td>Binney &amp; Smith Canvas, Easy-Erase</td>\n",
       "      <td>Art</td>\n",
       "      <td>51.99</td>\n",
       "      <td>59.79</td>\n",
       "      <td>1</td>\n",
       "      <td>51.99</td>\n",
       "      <td>7.8</td>\n",
       "      <td>7.8</td>\n",
       "    </tr>\n",
       "    <tr>\n",
       "      <th>3262</th>\n",
       "      <td>2023-02-01</td>\n",
       "      <td>2</td>\n",
       "      <td>2023</td>\n",
       "      <td>OFF-AR-10003633</td>\n",
       "      <td>Binney &amp; Smith Canvas, Easy-Erase</td>\n",
       "      <td>Art</td>\n",
       "      <td>51.99</td>\n",
       "      <td>59.79</td>\n",
       "      <td>1</td>\n",
       "      <td>51.99</td>\n",
       "      <td>7.8</td>\n",
       "      <td>7.8</td>\n",
       "    </tr>\n",
       "    <tr>\n",
       "      <th>6430</th>\n",
       "      <td>2023-03-01</td>\n",
       "      <td>3</td>\n",
       "      <td>2023</td>\n",
       "      <td>OFF-AR-10003633</td>\n",
       "      <td>Binney &amp; Smith Canvas, Easy-Erase</td>\n",
       "      <td>Art</td>\n",
       "      <td>51.99</td>\n",
       "      <td>59.79</td>\n",
       "      <td>3</td>\n",
       "      <td>155.97</td>\n",
       "      <td>7.8</td>\n",
       "      <td>23.4</td>\n",
       "    </tr>\n",
       "  </tbody>\n",
       "</table>\n",
       "</div>"
      ],
      "text/plain": [
       "           DATE MONTH  YEAR       PRODUCT_ID  \\\n",
       "8376 2019-10-01    10  2019  OFF-AR-10003633   \n",
       "5746 2021-03-01     3  2021  OFF-AR-10003633   \n",
       "5797 2021-03-01     3  2021  OFF-AR-10003633   \n",
       "283  2021-04-01     4  2021  OFF-AR-10003633   \n",
       "954  2021-08-01     8  2021  OFF-AR-10003633   \n",
       "1896 2021-12-01    12  2021  OFF-AR-10003633   \n",
       "7133 2022-05-01     5  2022  OFF-AR-10003633   \n",
       "9706 2022-09-01     9  2022  OFF-AR-10003633   \n",
       "9984 2022-09-01     9  2022  OFF-AR-10003633   \n",
       "3861 2023-01-01     1  2023  OFF-AR-10003633   \n",
       "3262 2023-02-01     2  2023  OFF-AR-10003633   \n",
       "6430 2023-03-01     3  2023  OFF-AR-10003633   \n",
       "\n",
       "                           PRODUCT_NAME CATEGORY  BUY_PRICE  SELL_PRICE  \\\n",
       "8376  Binney & Smith Canvas, Easy-Erase      Art      51.99       59.79   \n",
       "5746  Binney & Smith Canvas, Easy-Erase      Art      51.99       59.79   \n",
       "5797  Binney & Smith Canvas, Easy-Erase      Art      51.99       59.79   \n",
       "283   Binney & Smith Canvas, Easy-Erase      Art      51.99       59.79   \n",
       "954   Binney & Smith Canvas, Easy-Erase      Art      51.99       59.79   \n",
       "1896  Binney & Smith Canvas, Easy-Erase      Art      51.99       59.79   \n",
       "7133  Binney & Smith Canvas, Easy-Erase      Art      51.99       59.79   \n",
       "9706  Binney & Smith Canvas, Easy-Erase      Art      51.99       59.79   \n",
       "9984  Binney & Smith Canvas, Easy-Erase      Art      51.99       59.79   \n",
       "3861  Binney & Smith Canvas, Easy-Erase      Art      51.99       59.79   \n",
       "3262  Binney & Smith Canvas, Easy-Erase      Art      51.99       59.79   \n",
       "6430  Binney & Smith Canvas, Easy-Erase      Art      51.99       59.79   \n",
       "\n",
       "      QUANTITY   SALES  PROFIT_PER_ITEM  PROFIT  \n",
       "8376         2  103.98              7.8    15.6  \n",
       "5746         2  103.98              7.8    15.6  \n",
       "5797         3  155.97              7.8    23.4  \n",
       "283          3  155.97              7.8    23.4  \n",
       "954          4  207.96              7.8    31.2  \n",
       "1896         5  259.95              7.8    39.0  \n",
       "7133         3  155.97              7.8    23.4  \n",
       "9706         9  467.91              7.8    70.2  \n",
       "9984         2  103.98              7.8    15.6  \n",
       "3861         1   51.99              7.8     7.8  \n",
       "3262         1   51.99              7.8     7.8  \n",
       "6430         3  155.97              7.8    23.4  "
      ]
     },
     "execution_count": 90,
     "metadata": {},
     "output_type": "execute_result"
    }
   ],
   "source": [
    "dfline = df[df[\"PRODUCT_NAME\"] == \"Binney & Smith Canvas, Easy-Erase\"].sort_values(by=\"DATE\", ascending = True)\n",
    "dfline"
   ]
  },
  {
   "cell_type": "code",
   "execution_count": 92,
   "metadata": {},
   "outputs": [
    {
     "data": {
      "application/vnd.plotly.v1+json": {
       "config": {
        "plotlyServerURL": "https://plot.ly"
       },
       "data": [
        {
         "hovertemplate": "DATE=%{x}<br>PROFIT=%{y}<extra></extra>",
         "legendgroup": "",
         "line": {
          "color": "#636efa",
          "dash": "solid"
         },
         "marker": {
          "symbol": "circle"
         },
         "mode": "lines",
         "name": "",
         "orientation": "v",
         "showlegend": false,
         "type": "scatter",
         "x": [
          "2019-10-01T00:00:00",
          "2021-03-01T00:00:00",
          "2021-03-01T00:00:00",
          "2021-04-01T00:00:00",
          "2021-08-01T00:00:00",
          "2021-12-01T00:00:00",
          "2022-05-01T00:00:00",
          "2022-09-01T00:00:00",
          "2022-09-01T00:00:00",
          "2023-01-01T00:00:00",
          "2023-02-01T00:00:00",
          "2023-03-01T00:00:00"
         ],
         "xaxis": "x",
         "y": [
          15.6,
          15.6,
          23.4,
          23.4,
          31.2,
          39,
          23.4,
          70.2,
          15.6,
          7.8,
          7.8,
          23.4
         ],
         "yaxis": "y"
        }
       ],
       "layout": {
        "legend": {
         "tracegroupgap": 0
        },
        "template": {
         "data": {
          "bar": [
           {
            "error_x": {
             "color": "#f2f5fa"
            },
            "error_y": {
             "color": "#f2f5fa"
            },
            "marker": {
             "line": {
              "color": "rgb(17,17,17)",
              "width": 0.5
             },
             "pattern": {
              "fillmode": "overlay",
              "size": 10,
              "solidity": 0.2
             }
            },
            "type": "bar"
           }
          ],
          "barpolar": [
           {
            "marker": {
             "line": {
              "color": "rgb(17,17,17)",
              "width": 0.5
             },
             "pattern": {
              "fillmode": "overlay",
              "size": 10,
              "solidity": 0.2
             }
            },
            "type": "barpolar"
           }
          ],
          "carpet": [
           {
            "aaxis": {
             "endlinecolor": "#A2B1C6",
             "gridcolor": "#506784",
             "linecolor": "#506784",
             "minorgridcolor": "#506784",
             "startlinecolor": "#A2B1C6"
            },
            "baxis": {
             "endlinecolor": "#A2B1C6",
             "gridcolor": "#506784",
             "linecolor": "#506784",
             "minorgridcolor": "#506784",
             "startlinecolor": "#A2B1C6"
            },
            "type": "carpet"
           }
          ],
          "choropleth": [
           {
            "colorbar": {
             "outlinewidth": 0,
             "ticks": ""
            },
            "type": "choropleth"
           }
          ],
          "contour": [
           {
            "colorbar": {
             "outlinewidth": 0,
             "ticks": ""
            },
            "colorscale": [
             [
              0,
              "#0d0887"
             ],
             [
              0.1111111111111111,
              "#46039f"
             ],
             [
              0.2222222222222222,
              "#7201a8"
             ],
             [
              0.3333333333333333,
              "#9c179e"
             ],
             [
              0.4444444444444444,
              "#bd3786"
             ],
             [
              0.5555555555555556,
              "#d8576b"
             ],
             [
              0.6666666666666666,
              "#ed7953"
             ],
             [
              0.7777777777777778,
              "#fb9f3a"
             ],
             [
              0.8888888888888888,
              "#fdca26"
             ],
             [
              1,
              "#f0f921"
             ]
            ],
            "type": "contour"
           }
          ],
          "contourcarpet": [
           {
            "colorbar": {
             "outlinewidth": 0,
             "ticks": ""
            },
            "type": "contourcarpet"
           }
          ],
          "heatmap": [
           {
            "colorbar": {
             "outlinewidth": 0,
             "ticks": ""
            },
            "colorscale": [
             [
              0,
              "#0d0887"
             ],
             [
              0.1111111111111111,
              "#46039f"
             ],
             [
              0.2222222222222222,
              "#7201a8"
             ],
             [
              0.3333333333333333,
              "#9c179e"
             ],
             [
              0.4444444444444444,
              "#bd3786"
             ],
             [
              0.5555555555555556,
              "#d8576b"
             ],
             [
              0.6666666666666666,
              "#ed7953"
             ],
             [
              0.7777777777777778,
              "#fb9f3a"
             ],
             [
              0.8888888888888888,
              "#fdca26"
             ],
             [
              1,
              "#f0f921"
             ]
            ],
            "type": "heatmap"
           }
          ],
          "heatmapgl": [
           {
            "colorbar": {
             "outlinewidth": 0,
             "ticks": ""
            },
            "colorscale": [
             [
              0,
              "#0d0887"
             ],
             [
              0.1111111111111111,
              "#46039f"
             ],
             [
              0.2222222222222222,
              "#7201a8"
             ],
             [
              0.3333333333333333,
              "#9c179e"
             ],
             [
              0.4444444444444444,
              "#bd3786"
             ],
             [
              0.5555555555555556,
              "#d8576b"
             ],
             [
              0.6666666666666666,
              "#ed7953"
             ],
             [
              0.7777777777777778,
              "#fb9f3a"
             ],
             [
              0.8888888888888888,
              "#fdca26"
             ],
             [
              1,
              "#f0f921"
             ]
            ],
            "type": "heatmapgl"
           }
          ],
          "histogram": [
           {
            "marker": {
             "pattern": {
              "fillmode": "overlay",
              "size": 10,
              "solidity": 0.2
             }
            },
            "type": "histogram"
           }
          ],
          "histogram2d": [
           {
            "colorbar": {
             "outlinewidth": 0,
             "ticks": ""
            },
            "colorscale": [
             [
              0,
              "#0d0887"
             ],
             [
              0.1111111111111111,
              "#46039f"
             ],
             [
              0.2222222222222222,
              "#7201a8"
             ],
             [
              0.3333333333333333,
              "#9c179e"
             ],
             [
              0.4444444444444444,
              "#bd3786"
             ],
             [
              0.5555555555555556,
              "#d8576b"
             ],
             [
              0.6666666666666666,
              "#ed7953"
             ],
             [
              0.7777777777777778,
              "#fb9f3a"
             ],
             [
              0.8888888888888888,
              "#fdca26"
             ],
             [
              1,
              "#f0f921"
             ]
            ],
            "type": "histogram2d"
           }
          ],
          "histogram2dcontour": [
           {
            "colorbar": {
             "outlinewidth": 0,
             "ticks": ""
            },
            "colorscale": [
             [
              0,
              "#0d0887"
             ],
             [
              0.1111111111111111,
              "#46039f"
             ],
             [
              0.2222222222222222,
              "#7201a8"
             ],
             [
              0.3333333333333333,
              "#9c179e"
             ],
             [
              0.4444444444444444,
              "#bd3786"
             ],
             [
              0.5555555555555556,
              "#d8576b"
             ],
             [
              0.6666666666666666,
              "#ed7953"
             ],
             [
              0.7777777777777778,
              "#fb9f3a"
             ],
             [
              0.8888888888888888,
              "#fdca26"
             ],
             [
              1,
              "#f0f921"
             ]
            ],
            "type": "histogram2dcontour"
           }
          ],
          "mesh3d": [
           {
            "colorbar": {
             "outlinewidth": 0,
             "ticks": ""
            },
            "type": "mesh3d"
           }
          ],
          "parcoords": [
           {
            "line": {
             "colorbar": {
              "outlinewidth": 0,
              "ticks": ""
             }
            },
            "type": "parcoords"
           }
          ],
          "pie": [
           {
            "automargin": true,
            "type": "pie"
           }
          ],
          "scatter": [
           {
            "marker": {
             "line": {
              "color": "#283442"
             }
            },
            "type": "scatter"
           }
          ],
          "scatter3d": [
           {
            "line": {
             "colorbar": {
              "outlinewidth": 0,
              "ticks": ""
             }
            },
            "marker": {
             "colorbar": {
              "outlinewidth": 0,
              "ticks": ""
             }
            },
            "type": "scatter3d"
           }
          ],
          "scattercarpet": [
           {
            "marker": {
             "colorbar": {
              "outlinewidth": 0,
              "ticks": ""
             }
            },
            "type": "scattercarpet"
           }
          ],
          "scattergeo": [
           {
            "marker": {
             "colorbar": {
              "outlinewidth": 0,
              "ticks": ""
             }
            },
            "type": "scattergeo"
           }
          ],
          "scattergl": [
           {
            "marker": {
             "line": {
              "color": "#283442"
             }
            },
            "type": "scattergl"
           }
          ],
          "scattermapbox": [
           {
            "marker": {
             "colorbar": {
              "outlinewidth": 0,
              "ticks": ""
             }
            },
            "type": "scattermapbox"
           }
          ],
          "scatterpolar": [
           {
            "marker": {
             "colorbar": {
              "outlinewidth": 0,
              "ticks": ""
             }
            },
            "type": "scatterpolar"
           }
          ],
          "scatterpolargl": [
           {
            "marker": {
             "colorbar": {
              "outlinewidth": 0,
              "ticks": ""
             }
            },
            "type": "scatterpolargl"
           }
          ],
          "scatterternary": [
           {
            "marker": {
             "colorbar": {
              "outlinewidth": 0,
              "ticks": ""
             }
            },
            "type": "scatterternary"
           }
          ],
          "surface": [
           {
            "colorbar": {
             "outlinewidth": 0,
             "ticks": ""
            },
            "colorscale": [
             [
              0,
              "#0d0887"
             ],
             [
              0.1111111111111111,
              "#46039f"
             ],
             [
              0.2222222222222222,
              "#7201a8"
             ],
             [
              0.3333333333333333,
              "#9c179e"
             ],
             [
              0.4444444444444444,
              "#bd3786"
             ],
             [
              0.5555555555555556,
              "#d8576b"
             ],
             [
              0.6666666666666666,
              "#ed7953"
             ],
             [
              0.7777777777777778,
              "#fb9f3a"
             ],
             [
              0.8888888888888888,
              "#fdca26"
             ],
             [
              1,
              "#f0f921"
             ]
            ],
            "type": "surface"
           }
          ],
          "table": [
           {
            "cells": {
             "fill": {
              "color": "#506784"
             },
             "line": {
              "color": "rgb(17,17,17)"
             }
            },
            "header": {
             "fill": {
              "color": "#2a3f5f"
             },
             "line": {
              "color": "rgb(17,17,17)"
             }
            },
            "type": "table"
           }
          ]
         },
         "layout": {
          "annotationdefaults": {
           "arrowcolor": "#f2f5fa",
           "arrowhead": 0,
           "arrowwidth": 1
          },
          "autotypenumbers": "strict",
          "coloraxis": {
           "colorbar": {
            "outlinewidth": 0,
            "ticks": ""
           }
          },
          "colorscale": {
           "diverging": [
            [
             0,
             "#8e0152"
            ],
            [
             0.1,
             "#c51b7d"
            ],
            [
             0.2,
             "#de77ae"
            ],
            [
             0.3,
             "#f1b6da"
            ],
            [
             0.4,
             "#fde0ef"
            ],
            [
             0.5,
             "#f7f7f7"
            ],
            [
             0.6,
             "#e6f5d0"
            ],
            [
             0.7,
             "#b8e186"
            ],
            [
             0.8,
             "#7fbc41"
            ],
            [
             0.9,
             "#4d9221"
            ],
            [
             1,
             "#276419"
            ]
           ],
           "sequential": [
            [
             0,
             "#0d0887"
            ],
            [
             0.1111111111111111,
             "#46039f"
            ],
            [
             0.2222222222222222,
             "#7201a8"
            ],
            [
             0.3333333333333333,
             "#9c179e"
            ],
            [
             0.4444444444444444,
             "#bd3786"
            ],
            [
             0.5555555555555556,
             "#d8576b"
            ],
            [
             0.6666666666666666,
             "#ed7953"
            ],
            [
             0.7777777777777778,
             "#fb9f3a"
            ],
            [
             0.8888888888888888,
             "#fdca26"
            ],
            [
             1,
             "#f0f921"
            ]
           ],
           "sequentialminus": [
            [
             0,
             "#0d0887"
            ],
            [
             0.1111111111111111,
             "#46039f"
            ],
            [
             0.2222222222222222,
             "#7201a8"
            ],
            [
             0.3333333333333333,
             "#9c179e"
            ],
            [
             0.4444444444444444,
             "#bd3786"
            ],
            [
             0.5555555555555556,
             "#d8576b"
            ],
            [
             0.6666666666666666,
             "#ed7953"
            ],
            [
             0.7777777777777778,
             "#fb9f3a"
            ],
            [
             0.8888888888888888,
             "#fdca26"
            ],
            [
             1,
             "#f0f921"
            ]
           ]
          },
          "colorway": [
           "#636efa",
           "#EF553B",
           "#00cc96",
           "#ab63fa",
           "#FFA15A",
           "#19d3f3",
           "#FF6692",
           "#B6E880",
           "#FF97FF",
           "#FECB52"
          ],
          "font": {
           "color": "#f2f5fa"
          },
          "geo": {
           "bgcolor": "rgb(17,17,17)",
           "lakecolor": "rgb(17,17,17)",
           "landcolor": "rgb(17,17,17)",
           "showlakes": true,
           "showland": true,
           "subunitcolor": "#506784"
          },
          "hoverlabel": {
           "align": "left"
          },
          "hovermode": "closest",
          "mapbox": {
           "style": "dark"
          },
          "paper_bgcolor": "rgb(17,17,17)",
          "plot_bgcolor": "rgb(17,17,17)",
          "polar": {
           "angularaxis": {
            "gridcolor": "#506784",
            "linecolor": "#506784",
            "ticks": ""
           },
           "bgcolor": "rgb(17,17,17)",
           "radialaxis": {
            "gridcolor": "#506784",
            "linecolor": "#506784",
            "ticks": ""
           }
          },
          "scene": {
           "xaxis": {
            "backgroundcolor": "rgb(17,17,17)",
            "gridcolor": "#506784",
            "gridwidth": 2,
            "linecolor": "#506784",
            "showbackground": true,
            "ticks": "",
            "zerolinecolor": "#C8D4E3"
           },
           "yaxis": {
            "backgroundcolor": "rgb(17,17,17)",
            "gridcolor": "#506784",
            "gridwidth": 2,
            "linecolor": "#506784",
            "showbackground": true,
            "ticks": "",
            "zerolinecolor": "#C8D4E3"
           },
           "zaxis": {
            "backgroundcolor": "rgb(17,17,17)",
            "gridcolor": "#506784",
            "gridwidth": 2,
            "linecolor": "#506784",
            "showbackground": true,
            "ticks": "",
            "zerolinecolor": "#C8D4E3"
           }
          },
          "shapedefaults": {
           "line": {
            "color": "#f2f5fa"
           }
          },
          "sliderdefaults": {
           "bgcolor": "#C8D4E3",
           "bordercolor": "rgb(17,17,17)",
           "borderwidth": 1,
           "tickwidth": 0
          },
          "ternary": {
           "aaxis": {
            "gridcolor": "#506784",
            "linecolor": "#506784",
            "ticks": ""
           },
           "baxis": {
            "gridcolor": "#506784",
            "linecolor": "#506784",
            "ticks": ""
           },
           "bgcolor": "rgb(17,17,17)",
           "caxis": {
            "gridcolor": "#506784",
            "linecolor": "#506784",
            "ticks": ""
           }
          },
          "title": {
           "x": 0.05
          },
          "updatemenudefaults": {
           "bgcolor": "#506784",
           "borderwidth": 0
          },
          "xaxis": {
           "automargin": true,
           "gridcolor": "#283442",
           "linecolor": "#506784",
           "ticks": "",
           "title": {
            "standoff": 15
           },
           "zerolinecolor": "#283442",
           "zerolinewidth": 2
          },
          "yaxis": {
           "automargin": true,
           "gridcolor": "#283442",
           "linecolor": "#506784",
           "ticks": "",
           "title": {
            "standoff": 15
           },
           "zerolinecolor": "#283442",
           "zerolinewidth": 2
          }
         }
        },
        "title": {
         "text": "Life expectancy in Canada"
        },
        "xaxis": {
         "anchor": "y",
         "domain": [
          0,
          1
         ],
         "title": {
          "text": "DATE"
         }
        },
        "yaxis": {
         "anchor": "x",
         "domain": [
          0,
          1
         ],
         "title": {
          "text": "PROFIT"
         }
        }
       }
      }
     },
     "metadata": {},
     "output_type": "display_data"
    }
   ],
   "source": [
    "fig = px.line(dfline, x=\"DATE\", y=\"PROFIT\", title='Life expectancy in Canada')\n",
    "fig.update_layout(template = \"plotly_dark\")\n",
    "fig.show()"
   ]
  },
  {
   "cell_type": "code",
   "execution_count": 93,
   "metadata": {},
   "outputs": [
    {
     "data": {
      "text/plain": [
       "[15.6, 15.6, 23.4, 23.4, 31.2, 39.0, 23.4, 70.2, 15.6, 7.8, 7.8, 23.4]"
      ]
     },
     "execution_count": 93,
     "metadata": {},
     "output_type": "execute_result"
    }
   ],
   "source": [
    "dfline[\"PROFIT\"].tolist()"
   ]
  },
  {
   "attachments": {},
   "cell_type": "markdown",
   "metadata": {},
   "source": [
    "______"
   ]
  },
  {
   "cell_type": "code",
   "execution_count": null,
   "metadata": {},
   "outputs": [],
   "source": [
    "import warnings\n",
    "warnings.simplefilter(action='ignore', category=FutureWarning)\n",
    "from warnings import simplefilter\n",
    "from sklearn.exceptions import ConvergenceWarning\n",
    "simplefilter(\"ignore\", category=ConvergenceWarning)"
   ]
  },
  {
   "cell_type": "code",
   "execution_count": 129,
   "metadata": {},
   "outputs": [
    {
     "data": {
      "text/html": [
       "<div>\n",
       "<style scoped>\n",
       "    .dataframe tbody tr th:only-of-type {\n",
       "        vertical-align: middle;\n",
       "    }\n",
       "\n",
       "    .dataframe tbody tr th {\n",
       "        vertical-align: top;\n",
       "    }\n",
       "\n",
       "    .dataframe thead th {\n",
       "        text-align: right;\n",
       "    }\n",
       "</style>\n",
       "<table border=\"1\" class=\"dataframe\">\n",
       "  <thead>\n",
       "    <tr style=\"text-align: right;\">\n",
       "      <th></th>\n",
       "      <th>DATE</th>\n",
       "      <th>PRODUCT_NAME</th>\n",
       "      <th>CATEGORY</th>\n",
       "      <th>QUANTITY</th>\n",
       "      <th>PROFIT</th>\n",
       "    </tr>\n",
       "  </thead>\n",
       "  <tbody>\n",
       "    <tr>\n",
       "      <th>0</th>\n",
       "      <td>2019-04-01</td>\n",
       "      <td>Rogers Folders, Single Width</td>\n",
       "      <td>Storage</td>\n",
       "      <td>1</td>\n",
       "      <td>2.80</td>\n",
       "    </tr>\n",
       "    <tr>\n",
       "      <th>1</th>\n",
       "      <td>2019-04-01</td>\n",
       "      <td>Green Bar Computer Printout Paper, 8.5 x 11</td>\n",
       "      <td>Paper</td>\n",
       "      <td>5</td>\n",
       "      <td>18.70</td>\n",
       "    </tr>\n",
       "    <tr>\n",
       "      <th>2</th>\n",
       "      <td>2019-04-01</td>\n",
       "      <td>Ibico Binder Covers, Durable</td>\n",
       "      <td>Binders</td>\n",
       "      <td>9</td>\n",
       "      <td>27.00</td>\n",
       "    </tr>\n",
       "    <tr>\n",
       "      <th>3</th>\n",
       "      <td>2019-04-01</td>\n",
       "      <td>Hon Shipping Labels, Laser Printer Compatible</td>\n",
       "      <td>Labels</td>\n",
       "      <td>3</td>\n",
       "      <td>6.27</td>\n",
       "    </tr>\n",
       "    <tr>\n",
       "      <th>4</th>\n",
       "      <td>2019-04-01</td>\n",
       "      <td>Hewlett Copy Machine, Laser</td>\n",
       "      <td>Copiers</td>\n",
       "      <td>2</td>\n",
       "      <td>115.72</td>\n",
       "    </tr>\n",
       "    <tr>\n",
       "      <th>...</th>\n",
       "      <td>...</td>\n",
       "      <td>...</td>\n",
       "      <td>...</td>\n",
       "      <td>...</td>\n",
       "      <td>...</td>\n",
       "    </tr>\n",
       "    <tr>\n",
       "      <th>9995</th>\n",
       "      <td>2022-09-01</td>\n",
       "      <td>Enermax Keyboard, Programmable</td>\n",
       "      <td>Accessories</td>\n",
       "      <td>2</td>\n",
       "      <td>18.70</td>\n",
       "    </tr>\n",
       "    <tr>\n",
       "      <th>9996</th>\n",
       "      <td>2022-09-01</td>\n",
       "      <td>Hon Removable Labels, Laser Printer Compatible</td>\n",
       "      <td>Labels</td>\n",
       "      <td>4</td>\n",
       "      <td>12.00</td>\n",
       "    </tr>\n",
       "    <tr>\n",
       "      <th>9997</th>\n",
       "      <td>2022-09-01</td>\n",
       "      <td>Memorex Memory Card, Erganomic</td>\n",
       "      <td>Accessories</td>\n",
       "      <td>8</td>\n",
       "      <td>96.00</td>\n",
       "    </tr>\n",
       "    <tr>\n",
       "      <th>9998</th>\n",
       "      <td>2022-09-01</td>\n",
       "      <td>GlobeWeis Business Envelopes, Recycled</td>\n",
       "      <td>Envelopes</td>\n",
       "      <td>5</td>\n",
       "      <td>18.75</td>\n",
       "    </tr>\n",
       "    <tr>\n",
       "      <th>9999</th>\n",
       "      <td>2022-09-01</td>\n",
       "      <td>Sharp Fax and Copier, Digital</td>\n",
       "      <td>Copiers</td>\n",
       "      <td>2</td>\n",
       "      <td>33.60</td>\n",
       "    </tr>\n",
       "  </tbody>\n",
       "</table>\n",
       "<p>10000 rows × 5 columns</p>\n",
       "</div>"
      ],
      "text/plain": [
       "           DATE                                    PRODUCT_NAME     CATEGORY  \\\n",
       "0    2019-04-01                    Rogers Folders, Single Width      Storage   \n",
       "1    2019-04-01     Green Bar Computer Printout Paper, 8.5 x 11        Paper   \n",
       "2    2019-04-01                    Ibico Binder Covers, Durable      Binders   \n",
       "3    2019-04-01   Hon Shipping Labels, Laser Printer Compatible       Labels   \n",
       "4    2019-04-01                     Hewlett Copy Machine, Laser      Copiers   \n",
       "...         ...                                             ...          ...   \n",
       "9995 2022-09-01                  Enermax Keyboard, Programmable  Accessories   \n",
       "9996 2022-09-01  Hon Removable Labels, Laser Printer Compatible       Labels   \n",
       "9997 2022-09-01                  Memorex Memory Card, Erganomic  Accessories   \n",
       "9998 2022-09-01          GlobeWeis Business Envelopes, Recycled    Envelopes   \n",
       "9999 2022-09-01                   Sharp Fax and Copier, Digital      Copiers   \n",
       "\n",
       "      QUANTITY  PROFIT  \n",
       "0            1    2.80  \n",
       "1            5   18.70  \n",
       "2            9   27.00  \n",
       "3            3    6.27  \n",
       "4            2  115.72  \n",
       "...        ...     ...  \n",
       "9995         2   18.70  \n",
       "9996         4   12.00  \n",
       "9997         8   96.00  \n",
       "9998         5   18.75  \n",
       "9999         2   33.60  \n",
       "\n",
       "[10000 rows x 5 columns]"
      ]
     },
     "execution_count": 129,
     "metadata": {},
     "output_type": "execute_result"
    }
   ],
   "source": [
    "ml = df[[\"DATE\",\"PRODUCT_NAME\",\"CATEGORY\",\"QUANTITY\",\"PROFIT\"]]\n",
    "ml"
   ]
  },
  {
   "cell_type": "code",
   "execution_count": null,
   "metadata": {},
   "outputs": [],
   "source": [
    "# index = product_name, category"
   ]
  },
  {
   "cell_type": "code",
   "execution_count": 131,
   "metadata": {},
   "outputs": [
    {
     "data": {
      "text/html": [
       "<div>\n",
       "<style scoped>\n",
       "    .dataframe tbody tr th:only-of-type {\n",
       "        vertical-align: middle;\n",
       "    }\n",
       "\n",
       "    .dataframe tbody tr th {\n",
       "        vertical-align: top;\n",
       "    }\n",
       "\n",
       "    .dataframe thead th {\n",
       "        text-align: right;\n",
       "    }\n",
       "</style>\n",
       "<table border=\"1\" class=\"dataframe\">\n",
       "  <thead>\n",
       "    <tr style=\"text-align: right;\">\n",
       "      <th></th>\n",
       "      <th>DATE</th>\n",
       "      <th>PRODUCT_NAME</th>\n",
       "      <th>CATEGORY</th>\n",
       "      <th>QUANTITY</th>\n",
       "      <th>PROFIT</th>\n",
       "    </tr>\n",
       "  </thead>\n",
       "  <tbody>\n",
       "    <tr>\n",
       "      <th>61</th>\n",
       "      <td>2019-04-01</td>\n",
       "      <td>Memorex Router, Programmable</td>\n",
       "      <td>Accessories</td>\n",
       "      <td>2</td>\n",
       "      <td>89.28</td>\n",
       "    </tr>\n",
       "    <tr>\n",
       "      <th>95</th>\n",
       "      <td>2019-04-01</td>\n",
       "      <td>Memorex Flash Drive, Bluetooth</td>\n",
       "      <td>Accessories</td>\n",
       "      <td>3</td>\n",
       "      <td>15.66</td>\n",
       "    </tr>\n",
       "    <tr>\n",
       "      <th>121</th>\n",
       "      <td>2020-04-01</td>\n",
       "      <td>SanDisk Router, Bluetooth</td>\n",
       "      <td>Accessories</td>\n",
       "      <td>5</td>\n",
       "      <td>294.40</td>\n",
       "    </tr>\n",
       "    <tr>\n",
       "      <th>130</th>\n",
       "      <td>2020-04-01</td>\n",
       "      <td>SanDisk Router, Programmable</td>\n",
       "      <td>Accessories</td>\n",
       "      <td>1</td>\n",
       "      <td>67.08</td>\n",
       "    </tr>\n",
       "    <tr>\n",
       "      <th>136</th>\n",
       "      <td>2020-04-01</td>\n",
       "      <td>Enermax Keyboard, Erganomic</td>\n",
       "      <td>Accessories</td>\n",
       "      <td>3</td>\n",
       "      <td>31.59</td>\n",
       "    </tr>\n",
       "    <tr>\n",
       "      <th>...</th>\n",
       "      <td>...</td>\n",
       "      <td>...</td>\n",
       "      <td>...</td>\n",
       "      <td>...</td>\n",
       "      <td>...</td>\n",
       "    </tr>\n",
       "    <tr>\n",
       "      <th>9941</th>\n",
       "      <td>2022-09-01</td>\n",
       "      <td>Memorex Router, Bluetooth</td>\n",
       "      <td>Accessories</td>\n",
       "      <td>13</td>\n",
       "      <td>415.74</td>\n",
       "    </tr>\n",
       "    <tr>\n",
       "      <th>9962</th>\n",
       "      <td>2022-09-01</td>\n",
       "      <td>Enermax Flash Drive, Erganomic</td>\n",
       "      <td>Accessories</td>\n",
       "      <td>1</td>\n",
       "      <td>10.53</td>\n",
       "    </tr>\n",
       "    <tr>\n",
       "      <th>9972</th>\n",
       "      <td>2022-09-01</td>\n",
       "      <td>Belkin Router, USB</td>\n",
       "      <td>Accessories</td>\n",
       "      <td>2</td>\n",
       "      <td>103.60</td>\n",
       "    </tr>\n",
       "    <tr>\n",
       "      <th>9995</th>\n",
       "      <td>2022-09-01</td>\n",
       "      <td>Enermax Keyboard, Programmable</td>\n",
       "      <td>Accessories</td>\n",
       "      <td>2</td>\n",
       "      <td>18.70</td>\n",
       "    </tr>\n",
       "    <tr>\n",
       "      <th>9997</th>\n",
       "      <td>2022-09-01</td>\n",
       "      <td>Memorex Memory Card, Erganomic</td>\n",
       "      <td>Accessories</td>\n",
       "      <td>8</td>\n",
       "      <td>96.00</td>\n",
       "    </tr>\n",
       "  </tbody>\n",
       "</table>\n",
       "<p>452 rows × 5 columns</p>\n",
       "</div>"
      ],
      "text/plain": [
       "           DATE                    PRODUCT_NAME     CATEGORY  QUANTITY  PROFIT\n",
       "61   2019-04-01    Memorex Router, Programmable  Accessories         2   89.28\n",
       "95   2019-04-01  Memorex Flash Drive, Bluetooth  Accessories         3   15.66\n",
       "121  2020-04-01       SanDisk Router, Bluetooth  Accessories         5  294.40\n",
       "130  2020-04-01    SanDisk Router, Programmable  Accessories         1   67.08\n",
       "136  2020-04-01     Enermax Keyboard, Erganomic  Accessories         3   31.59\n",
       "...         ...                             ...          ...       ...     ...\n",
       "9941 2022-09-01       Memorex Router, Bluetooth  Accessories        13  415.74\n",
       "9962 2022-09-01  Enermax Flash Drive, Erganomic  Accessories         1   10.53\n",
       "9972 2022-09-01              Belkin Router, USB  Accessories         2  103.60\n",
       "9995 2022-09-01  Enermax Keyboard, Programmable  Accessories         2   18.70\n",
       "9997 2022-09-01  Memorex Memory Card, Erganomic  Accessories         8   96.00\n",
       "\n",
       "[452 rows x 5 columns]"
      ]
     },
     "execution_count": 131,
     "metadata": {},
     "output_type": "execute_result"
    }
   ],
   "source": [
    "ml_sel = ml[ml[\"CATEGORY\"]==\"Accessories\"]\n",
    "ml_sel"
   ]
  },
  {
   "cell_type": "code",
   "execution_count": 132,
   "metadata": {},
   "outputs": [
    {
     "data": {
      "text/html": [
       "<div>\n",
       "<style scoped>\n",
       "    .dataframe tbody tr th:only-of-type {\n",
       "        vertical-align: middle;\n",
       "    }\n",
       "\n",
       "    .dataframe tbody tr th {\n",
       "        vertical-align: top;\n",
       "    }\n",
       "\n",
       "    .dataframe thead th {\n",
       "        text-align: right;\n",
       "    }\n",
       "</style>\n",
       "<table border=\"1\" class=\"dataframe\">\n",
       "  <thead>\n",
       "    <tr style=\"text-align: right;\">\n",
       "      <th>DATE</th>\n",
       "      <th>2019-04-01</th>\n",
       "      <th>2019-05-01</th>\n",
       "      <th>2019-06-01</th>\n",
       "      <th>2019-07-01</th>\n",
       "      <th>2019-08-01</th>\n",
       "      <th>2019-09-01</th>\n",
       "      <th>2019-10-01</th>\n",
       "      <th>2019-11-01</th>\n",
       "      <th>2019-12-01</th>\n",
       "      <th>2020-02-01</th>\n",
       "      <th>...</th>\n",
       "      <th>2022-06-01</th>\n",
       "      <th>2022-07-01</th>\n",
       "      <th>2022-08-01</th>\n",
       "      <th>2022-09-01</th>\n",
       "      <th>2022-10-01</th>\n",
       "      <th>2022-11-01</th>\n",
       "      <th>2022-12-01</th>\n",
       "      <th>2023-01-01</th>\n",
       "      <th>2023-02-01</th>\n",
       "      <th>2023-03-01</th>\n",
       "    </tr>\n",
       "    <tr>\n",
       "      <th>PRODUCT_NAME</th>\n",
       "      <th></th>\n",
       "      <th></th>\n",
       "      <th></th>\n",
       "      <th></th>\n",
       "      <th></th>\n",
       "      <th></th>\n",
       "      <th></th>\n",
       "      <th></th>\n",
       "      <th></th>\n",
       "      <th></th>\n",
       "      <th></th>\n",
       "      <th></th>\n",
       "      <th></th>\n",
       "      <th></th>\n",
       "      <th></th>\n",
       "      <th></th>\n",
       "      <th></th>\n",
       "      <th></th>\n",
       "      <th></th>\n",
       "      <th></th>\n",
       "      <th></th>\n",
       "    </tr>\n",
       "  </thead>\n",
       "  <tbody>\n",
       "    <tr>\n",
       "      <th>Belkin Flash Drive, Bluetooth</th>\n",
       "      <td>0.0</td>\n",
       "      <td>0.0</td>\n",
       "      <td>0.0</td>\n",
       "      <td>0.0</td>\n",
       "      <td>0.00</td>\n",
       "      <td>0.0</td>\n",
       "      <td>0.0</td>\n",
       "      <td>0.0</td>\n",
       "      <td>0.00</td>\n",
       "      <td>0.0</td>\n",
       "      <td>...</td>\n",
       "      <td>0.0</td>\n",
       "      <td>0.0</td>\n",
       "      <td>0.00</td>\n",
       "      <td>0.00</td>\n",
       "      <td>0.0</td>\n",
       "      <td>0.00</td>\n",
       "      <td>0.00</td>\n",
       "      <td>0.00</td>\n",
       "      <td>0.00</td>\n",
       "      <td>16.80</td>\n",
       "    </tr>\n",
       "    <tr>\n",
       "      <th>Belkin Flash Drive, Erganomic</th>\n",
       "      <td>0.0</td>\n",
       "      <td>0.0</td>\n",
       "      <td>0.0</td>\n",
       "      <td>0.0</td>\n",
       "      <td>0.00</td>\n",
       "      <td>0.0</td>\n",
       "      <td>0.0</td>\n",
       "      <td>0.0</td>\n",
       "      <td>0.00</td>\n",
       "      <td>0.0</td>\n",
       "      <td>...</td>\n",
       "      <td>0.0</td>\n",
       "      <td>0.0</td>\n",
       "      <td>0.00</td>\n",
       "      <td>0.00</td>\n",
       "      <td>0.0</td>\n",
       "      <td>0.00</td>\n",
       "      <td>0.00</td>\n",
       "      <td>26.40</td>\n",
       "      <td>0.00</td>\n",
       "      <td>0.00</td>\n",
       "    </tr>\n",
       "    <tr>\n",
       "      <th>Belkin Flash Drive, Programmable</th>\n",
       "      <td>0.0</td>\n",
       "      <td>47.3</td>\n",
       "      <td>0.0</td>\n",
       "      <td>0.0</td>\n",
       "      <td>0.00</td>\n",
       "      <td>0.0</td>\n",
       "      <td>0.0</td>\n",
       "      <td>0.0</td>\n",
       "      <td>0.00</td>\n",
       "      <td>0.0</td>\n",
       "      <td>...</td>\n",
       "      <td>0.0</td>\n",
       "      <td>0.0</td>\n",
       "      <td>0.00</td>\n",
       "      <td>0.00</td>\n",
       "      <td>0.0</td>\n",
       "      <td>28.38</td>\n",
       "      <td>0.00</td>\n",
       "      <td>28.38</td>\n",
       "      <td>0.00</td>\n",
       "      <td>0.00</td>\n",
       "    </tr>\n",
       "    <tr>\n",
       "      <th>Belkin Flash Drive, USB</th>\n",
       "      <td>0.0</td>\n",
       "      <td>0.0</td>\n",
       "      <td>0.0</td>\n",
       "      <td>0.0</td>\n",
       "      <td>0.00</td>\n",
       "      <td>0.0</td>\n",
       "      <td>0.0</td>\n",
       "      <td>0.0</td>\n",
       "      <td>0.00</td>\n",
       "      <td>0.0</td>\n",
       "      <td>...</td>\n",
       "      <td>0.0</td>\n",
       "      <td>0.0</td>\n",
       "      <td>0.00</td>\n",
       "      <td>0.00</td>\n",
       "      <td>0.0</td>\n",
       "      <td>0.00</td>\n",
       "      <td>0.00</td>\n",
       "      <td>10.08</td>\n",
       "      <td>0.00</td>\n",
       "      <td>0.00</td>\n",
       "    </tr>\n",
       "    <tr>\n",
       "      <th>Belkin Keyboard, Bluetooth</th>\n",
       "      <td>0.0</td>\n",
       "      <td>0.0</td>\n",
       "      <td>0.0</td>\n",
       "      <td>0.0</td>\n",
       "      <td>0.00</td>\n",
       "      <td>0.0</td>\n",
       "      <td>0.0</td>\n",
       "      <td>0.0</td>\n",
       "      <td>0.00</td>\n",
       "      <td>0.0</td>\n",
       "      <td>...</td>\n",
       "      <td>0.0</td>\n",
       "      <td>0.0</td>\n",
       "      <td>0.00</td>\n",
       "      <td>0.00</td>\n",
       "      <td>0.0</td>\n",
       "      <td>21.00</td>\n",
       "      <td>0.00</td>\n",
       "      <td>0.00</td>\n",
       "      <td>31.50</td>\n",
       "      <td>0.00</td>\n",
       "    </tr>\n",
       "    <tr>\n",
       "      <th>...</th>\n",
       "      <td>...</td>\n",
       "      <td>...</td>\n",
       "      <td>...</td>\n",
       "      <td>...</td>\n",
       "      <td>...</td>\n",
       "      <td>...</td>\n",
       "      <td>...</td>\n",
       "      <td>...</td>\n",
       "      <td>...</td>\n",
       "      <td>...</td>\n",
       "      <td>...</td>\n",
       "      <td>...</td>\n",
       "      <td>...</td>\n",
       "      <td>...</td>\n",
       "      <td>...</td>\n",
       "      <td>...</td>\n",
       "      <td>...</td>\n",
       "      <td>...</td>\n",
       "      <td>...</td>\n",
       "      <td>...</td>\n",
       "      <td>...</td>\n",
       "    </tr>\n",
       "    <tr>\n",
       "      <th>SanDisk Numeric Keypad, USB</th>\n",
       "      <td>0.0</td>\n",
       "      <td>0.0</td>\n",
       "      <td>0.0</td>\n",
       "      <td>0.0</td>\n",
       "      <td>0.00</td>\n",
       "      <td>0.0</td>\n",
       "      <td>0.0</td>\n",
       "      <td>0.0</td>\n",
       "      <td>0.00</td>\n",
       "      <td>0.0</td>\n",
       "      <td>...</td>\n",
       "      <td>0.0</td>\n",
       "      <td>0.0</td>\n",
       "      <td>0.00</td>\n",
       "      <td>41.34</td>\n",
       "      <td>0.0</td>\n",
       "      <td>0.00</td>\n",
       "      <td>0.00</td>\n",
       "      <td>0.00</td>\n",
       "      <td>0.00</td>\n",
       "      <td>13.78</td>\n",
       "    </tr>\n",
       "    <tr>\n",
       "      <th>SanDisk Router, Bluetooth</th>\n",
       "      <td>0.0</td>\n",
       "      <td>0.0</td>\n",
       "      <td>0.0</td>\n",
       "      <td>0.0</td>\n",
       "      <td>235.52</td>\n",
       "      <td>0.0</td>\n",
       "      <td>0.0</td>\n",
       "      <td>0.0</td>\n",
       "      <td>0.00</td>\n",
       "      <td>0.0</td>\n",
       "      <td>...</td>\n",
       "      <td>0.0</td>\n",
       "      <td>0.0</td>\n",
       "      <td>0.00</td>\n",
       "      <td>0.00</td>\n",
       "      <td>0.0</td>\n",
       "      <td>0.00</td>\n",
       "      <td>0.00</td>\n",
       "      <td>0.00</td>\n",
       "      <td>0.00</td>\n",
       "      <td>0.00</td>\n",
       "    </tr>\n",
       "    <tr>\n",
       "      <th>SanDisk Router, Erganomic</th>\n",
       "      <td>0.0</td>\n",
       "      <td>0.0</td>\n",
       "      <td>0.0</td>\n",
       "      <td>0.0</td>\n",
       "      <td>0.00</td>\n",
       "      <td>0.0</td>\n",
       "      <td>0.0</td>\n",
       "      <td>0.0</td>\n",
       "      <td>0.00</td>\n",
       "      <td>0.0</td>\n",
       "      <td>...</td>\n",
       "      <td>0.0</td>\n",
       "      <td>0.0</td>\n",
       "      <td>0.00</td>\n",
       "      <td>0.00</td>\n",
       "      <td>0.0</td>\n",
       "      <td>0.00</td>\n",
       "      <td>0.00</td>\n",
       "      <td>0.00</td>\n",
       "      <td>0.00</td>\n",
       "      <td>76.20</td>\n",
       "    </tr>\n",
       "    <tr>\n",
       "      <th>SanDisk Router, Programmable</th>\n",
       "      <td>0.0</td>\n",
       "      <td>0.0</td>\n",
       "      <td>0.0</td>\n",
       "      <td>0.0</td>\n",
       "      <td>0.00</td>\n",
       "      <td>0.0</td>\n",
       "      <td>0.0</td>\n",
       "      <td>0.0</td>\n",
       "      <td>0.00</td>\n",
       "      <td>0.0</td>\n",
       "      <td>...</td>\n",
       "      <td>0.0</td>\n",
       "      <td>0.0</td>\n",
       "      <td>201.24</td>\n",
       "      <td>402.48</td>\n",
       "      <td>0.0</td>\n",
       "      <td>201.24</td>\n",
       "      <td>0.00</td>\n",
       "      <td>0.00</td>\n",
       "      <td>0.00</td>\n",
       "      <td>0.00</td>\n",
       "    </tr>\n",
       "    <tr>\n",
       "      <th>SanDisk Router, USB</th>\n",
       "      <td>0.0</td>\n",
       "      <td>0.0</td>\n",
       "      <td>0.0</td>\n",
       "      <td>0.0</td>\n",
       "      <td>0.00</td>\n",
       "      <td>0.0</td>\n",
       "      <td>0.0</td>\n",
       "      <td>0.0</td>\n",
       "      <td>35.98</td>\n",
       "      <td>0.0</td>\n",
       "      <td>...</td>\n",
       "      <td>0.0</td>\n",
       "      <td>0.0</td>\n",
       "      <td>0.00</td>\n",
       "      <td>0.00</td>\n",
       "      <td>0.0</td>\n",
       "      <td>0.00</td>\n",
       "      <td>107.94</td>\n",
       "      <td>0.00</td>\n",
       "      <td>71.96</td>\n",
       "      <td>0.00</td>\n",
       "    </tr>\n",
       "  </tbody>\n",
       "</table>\n",
       "<p>116 rows × 47 columns</p>\n",
       "</div>"
      ],
      "text/plain": [
       "DATE                              2019-04-01  2019-05-01  2019-06-01  \\\n",
       "PRODUCT_NAME                                                           \n",
       "Belkin Flash Drive, Bluetooth            0.0         0.0         0.0   \n",
       "Belkin Flash Drive, Erganomic            0.0         0.0         0.0   \n",
       "Belkin Flash Drive, Programmable         0.0        47.3         0.0   \n",
       "Belkin Flash Drive, USB                  0.0         0.0         0.0   \n",
       "Belkin Keyboard, Bluetooth               0.0         0.0         0.0   \n",
       "...                                      ...         ...         ...   \n",
       "SanDisk Numeric Keypad, USB              0.0         0.0         0.0   \n",
       "SanDisk Router, Bluetooth                0.0         0.0         0.0   \n",
       "SanDisk Router, Erganomic                0.0         0.0         0.0   \n",
       "SanDisk Router, Programmable             0.0         0.0         0.0   \n",
       "SanDisk Router, USB                      0.0         0.0         0.0   \n",
       "\n",
       "DATE                              2019-07-01  2019-08-01  2019-09-01  \\\n",
       "PRODUCT_NAME                                                           \n",
       "Belkin Flash Drive, Bluetooth            0.0        0.00         0.0   \n",
       "Belkin Flash Drive, Erganomic            0.0        0.00         0.0   \n",
       "Belkin Flash Drive, Programmable         0.0        0.00         0.0   \n",
       "Belkin Flash Drive, USB                  0.0        0.00         0.0   \n",
       "Belkin Keyboard, Bluetooth               0.0        0.00         0.0   \n",
       "...                                      ...         ...         ...   \n",
       "SanDisk Numeric Keypad, USB              0.0        0.00         0.0   \n",
       "SanDisk Router, Bluetooth                0.0      235.52         0.0   \n",
       "SanDisk Router, Erganomic                0.0        0.00         0.0   \n",
       "SanDisk Router, Programmable             0.0        0.00         0.0   \n",
       "SanDisk Router, USB                      0.0        0.00         0.0   \n",
       "\n",
       "DATE                              2019-10-01  2019-11-01  2019-12-01  \\\n",
       "PRODUCT_NAME                                                           \n",
       "Belkin Flash Drive, Bluetooth            0.0         0.0        0.00   \n",
       "Belkin Flash Drive, Erganomic            0.0         0.0        0.00   \n",
       "Belkin Flash Drive, Programmable         0.0         0.0        0.00   \n",
       "Belkin Flash Drive, USB                  0.0         0.0        0.00   \n",
       "Belkin Keyboard, Bluetooth               0.0         0.0        0.00   \n",
       "...                                      ...         ...         ...   \n",
       "SanDisk Numeric Keypad, USB              0.0         0.0        0.00   \n",
       "SanDisk Router, Bluetooth                0.0         0.0        0.00   \n",
       "SanDisk Router, Erganomic                0.0         0.0        0.00   \n",
       "SanDisk Router, Programmable             0.0         0.0        0.00   \n",
       "SanDisk Router, USB                      0.0         0.0       35.98   \n",
       "\n",
       "DATE                              2020-02-01  ...  2022-06-01  2022-07-01  \\\n",
       "PRODUCT_NAME                                  ...                           \n",
       "Belkin Flash Drive, Bluetooth            0.0  ...         0.0         0.0   \n",
       "Belkin Flash Drive, Erganomic            0.0  ...         0.0         0.0   \n",
       "Belkin Flash Drive, Programmable         0.0  ...         0.0         0.0   \n",
       "Belkin Flash Drive, USB                  0.0  ...         0.0         0.0   \n",
       "Belkin Keyboard, Bluetooth               0.0  ...         0.0         0.0   \n",
       "...                                      ...  ...         ...         ...   \n",
       "SanDisk Numeric Keypad, USB              0.0  ...         0.0         0.0   \n",
       "SanDisk Router, Bluetooth                0.0  ...         0.0         0.0   \n",
       "SanDisk Router, Erganomic                0.0  ...         0.0         0.0   \n",
       "SanDisk Router, Programmable             0.0  ...         0.0         0.0   \n",
       "SanDisk Router, USB                      0.0  ...         0.0         0.0   \n",
       "\n",
       "DATE                              2022-08-01  2022-09-01  2022-10-01  \\\n",
       "PRODUCT_NAME                                                           \n",
       "Belkin Flash Drive, Bluetooth           0.00        0.00         0.0   \n",
       "Belkin Flash Drive, Erganomic           0.00        0.00         0.0   \n",
       "Belkin Flash Drive, Programmable        0.00        0.00         0.0   \n",
       "Belkin Flash Drive, USB                 0.00        0.00         0.0   \n",
       "Belkin Keyboard, Bluetooth              0.00        0.00         0.0   \n",
       "...                                      ...         ...         ...   \n",
       "SanDisk Numeric Keypad, USB             0.00       41.34         0.0   \n",
       "SanDisk Router, Bluetooth               0.00        0.00         0.0   \n",
       "SanDisk Router, Erganomic               0.00        0.00         0.0   \n",
       "SanDisk Router, Programmable          201.24      402.48         0.0   \n",
       "SanDisk Router, USB                     0.00        0.00         0.0   \n",
       "\n",
       "DATE                              2022-11-01  2022-12-01  2023-01-01  \\\n",
       "PRODUCT_NAME                                                           \n",
       "Belkin Flash Drive, Bluetooth           0.00        0.00        0.00   \n",
       "Belkin Flash Drive, Erganomic           0.00        0.00       26.40   \n",
       "Belkin Flash Drive, Programmable       28.38        0.00       28.38   \n",
       "Belkin Flash Drive, USB                 0.00        0.00       10.08   \n",
       "Belkin Keyboard, Bluetooth             21.00        0.00        0.00   \n",
       "...                                      ...         ...         ...   \n",
       "SanDisk Numeric Keypad, USB             0.00        0.00        0.00   \n",
       "SanDisk Router, Bluetooth               0.00        0.00        0.00   \n",
       "SanDisk Router, Erganomic               0.00        0.00        0.00   \n",
       "SanDisk Router, Programmable          201.24        0.00        0.00   \n",
       "SanDisk Router, USB                     0.00      107.94        0.00   \n",
       "\n",
       "DATE                              2023-02-01  2023-03-01  \n",
       "PRODUCT_NAME                                              \n",
       "Belkin Flash Drive, Bluetooth           0.00       16.80  \n",
       "Belkin Flash Drive, Erganomic           0.00        0.00  \n",
       "Belkin Flash Drive, Programmable        0.00        0.00  \n",
       "Belkin Flash Drive, USB                 0.00        0.00  \n",
       "Belkin Keyboard, Bluetooth             31.50        0.00  \n",
       "...                                      ...         ...  \n",
       "SanDisk Numeric Keypad, USB             0.00       13.78  \n",
       "SanDisk Router, Bluetooth               0.00        0.00  \n",
       "SanDisk Router, Erganomic               0.00       76.20  \n",
       "SanDisk Router, Programmable            0.00        0.00  \n",
       "SanDisk Router, USB                    71.96        0.00  \n",
       "\n",
       "[116 rows x 47 columns]"
      ]
     },
     "execution_count": 132,
     "metadata": {},
     "output_type": "execute_result"
    }
   ],
   "source": [
    "ml_timely = ml_sel.pivot_table(columns=\"DATE\", values=\"PROFIT\", aggfunc=\"sum\", index=[\"PRODUCT_NAME\"]).fillna(0)\n",
    "ml_timely"
   ]
  },
  {
   "cell_type": "code",
   "execution_count": 133,
   "metadata": {},
   "outputs": [
    {
     "data": {
      "text/plain": [
       "['Belkin Flash Drive, Bluetooth',\n",
       " 'Belkin Flash Drive, Erganomic',\n",
       " 'Belkin Flash Drive, Programmable',\n",
       " 'Belkin Flash Drive, USB',\n",
       " 'Belkin Keyboard, Bluetooth']"
      ]
     },
     "execution_count": 133,
     "metadata": {},
     "output_type": "execute_result"
    }
   ],
   "source": [
    "ml_timely.index.values.tolist()[:5]"
   ]
  },
  {
   "cell_type": "code",
   "execution_count": 121,
   "metadata": {},
   "outputs": [],
   "source": [
    "X = ml_timely.drop(columns = \"2023-03-01\")\n",
    "y = ml_timely[\"2023-03-01\"]\n",
    "from sklearn.model_selection import train_test_split\n",
    "from sklearn.preprocessing import MinMaxScaler\n",
    "from sklearn.linear_model import LinearRegression\n",
    "from sklearn.model_selection import cross_val_score\n",
    "import numpy as np\n",
    "X_train, X_test, y_train, y_test = train_test_split(X,y, test_size = 0.4, random_state = 43)\n",
    "num_train = X_train.select_dtypes(np.number)\n",
    "num_test = X_test.select_dtypes(np.number)\n",
    "scaler = MinMaxScaler().fit(num_train)\n",
    "cols = scaler.get_feature_names_out(input_features = num_train.columns)\n",
    "num_train_scaled = scaler.transform(num_train)\n",
    "num_test_scaled = scaler.transform(num_test)\n",
    "num_train_scaled = pd.DataFrame(num_train_scaled, columns = cols)\n",
    "num_test_scaled = pd.DataFrame(num_test_scaled, columns = cols)\n",
    "X_train_processed = num_train_scaled.copy()\n",
    "X_test_processed = num_test_scaled.copy()\n",
    "import plotly.graph_objs as go\n",
    "xvalues = ml_name.index.values.tolist()\n",
    "yvalues = y_test\n",
    "trace1 = go.Scatter(x=xvalues,y=yvalues,\n",
    "                    mode = \"lines\", name = \"actual profit\")\n",
    "regr = LinearRegression()\n",
    "regr.fit(X_train_processed, y_train)\n",
    "pred_test = regr.predict(X_test_processed)\n",
    "mean_score_test = np.mean(cross_val_score(regr_left, X_test_processed, y_test, cv = 5))\n"
   ]
  }
 ],
 "metadata": {
  "kernelspec": {
   "display_name": "Python 3",
   "language": "python",
   "name": "python3"
  },
  "language_info": {
   "codemirror_mode": {
    "name": "ipython",
    "version": 3
   },
   "file_extension": ".py",
   "mimetype": "text/x-python",
   "name": "python",
   "nbconvert_exporter": "python",
   "pygments_lexer": "ipython3",
   "version": "3.8.0"
  },
  "orig_nbformat": 4
 },
 "nbformat": 4,
 "nbformat_minor": 2
}
