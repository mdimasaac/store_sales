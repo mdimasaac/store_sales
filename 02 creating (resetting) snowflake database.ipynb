{
 "cells": [
  {
   "cell_type": "code",
   "execution_count": 1,
   "metadata": {},
   "outputs": [],
   "source": [
    "import pandas as pd"
   ]
  },
  {
   "cell_type": "code",
   "execution_count": 2,
   "metadata": {},
   "outputs": [
    {
     "data": {
      "text/html": [
       "<div>\n",
       "<style scoped>\n",
       "    .dataframe tbody tr th:only-of-type {\n",
       "        vertical-align: middle;\n",
       "    }\n",
       "\n",
       "    .dataframe tbody tr th {\n",
       "        vertical-align: top;\n",
       "    }\n",
       "\n",
       "    .dataframe thead th {\n",
       "        text-align: right;\n",
       "    }\n",
       "</style>\n",
       "<table border=\"1\" class=\"dataframe\">\n",
       "  <thead>\n",
       "    <tr style=\"text-align: right;\">\n",
       "      <th></th>\n",
       "      <th>date</th>\n",
       "      <th>month</th>\n",
       "      <th>year</th>\n",
       "      <th>product_id</th>\n",
       "      <th>product_name</th>\n",
       "      <th>category</th>\n",
       "      <th>buy_price</th>\n",
       "      <th>sell_price</th>\n",
       "      <th>quantity</th>\n",
       "      <th>sales</th>\n",
       "      <th>profit_per_item</th>\n",
       "      <th>profit</th>\n",
       "    </tr>\n",
       "  </thead>\n",
       "  <tbody>\n",
       "    <tr>\n",
       "      <th>0</th>\n",
       "      <td>2022-10-02</td>\n",
       "      <td>10</td>\n",
       "      <td>2022</td>\n",
       "      <td>OFF-ST-10000988</td>\n",
       "      <td>Fellowes Folders, Blue</td>\n",
       "      <td>Storage</td>\n",
       "      <td>25.99</td>\n",
       "      <td>31.97</td>\n",
       "      <td>3</td>\n",
       "      <td>77.97</td>\n",
       "      <td>5.98</td>\n",
       "      <td>17.94</td>\n",
       "    </tr>\n",
       "    <tr>\n",
       "      <th>1</th>\n",
       "      <td>2022-10-02</td>\n",
       "      <td>10</td>\n",
       "      <td>2022</td>\n",
       "      <td>TEC-AC-10004144</td>\n",
       "      <td>SanDisk Numeric Keypad, Bluetooth</td>\n",
       "      <td>Accessories</td>\n",
       "      <td>55.99</td>\n",
       "      <td>72.23</td>\n",
       "      <td>7</td>\n",
       "      <td>391.93</td>\n",
       "      <td>16.24</td>\n",
       "      <td>113.68</td>\n",
       "    </tr>\n",
       "  </tbody>\n",
       "</table>\n",
       "</div>"
      ],
      "text/plain": [
       "         date  month  year       product_id  \\\n",
       "0  2022-10-02     10  2022  OFF-ST-10000988   \n",
       "1  2022-10-02     10  2022  TEC-AC-10004144   \n",
       "\n",
       "                        product_name     category  buy_price  sell_price  \\\n",
       "0             Fellowes Folders, Blue      Storage      25.99       31.97   \n",
       "1  SanDisk Numeric Keypad, Bluetooth  Accessories      55.99       72.23   \n",
       "\n",
       "   quantity   sales  profit_per_item  profit  \n",
       "0         3   77.97             5.98   17.94  \n",
       "1         7  391.93            16.24  113.68  "
      ]
     },
     "metadata": {},
     "output_type": "display_data"
    },
    {
     "data": {
      "text/plain": [
       "(10000, 12)"
      ]
     },
     "metadata": {},
     "output_type": "display_data"
    }
   ],
   "source": [
    "df = pd.read_csv(\"store_data.csv\")\n",
    "display(df.head(2))\n",
    "display(df.shape)"
   ]
  },
  {
   "cell_type": "code",
   "execution_count": 3,
   "metadata": {},
   "outputs": [
    {
     "data": {
      "text/html": [
       "<div>\n",
       "<style scoped>\n",
       "    .dataframe tbody tr th:only-of-type {\n",
       "        vertical-align: middle;\n",
       "    }\n",
       "\n",
       "    .dataframe tbody tr th {\n",
       "        vertical-align: top;\n",
       "    }\n",
       "\n",
       "    .dataframe thead th {\n",
       "        text-align: right;\n",
       "    }\n",
       "</style>\n",
       "<table border=\"1\" class=\"dataframe\">\n",
       "  <thead>\n",
       "    <tr style=\"text-align: right;\">\n",
       "      <th></th>\n",
       "      <th>product_name</th>\n",
       "      <th>product_id</th>\n",
       "      <th>category</th>\n",
       "      <th>buy_price</th>\n",
       "      <th>sell_price</th>\n",
       "      <th>stock</th>\n",
       "      <th>profit_per_item</th>\n",
       "    </tr>\n",
       "  </thead>\n",
       "  <tbody>\n",
       "    <tr>\n",
       "      <th>0</th>\n",
       "      <td>Fellowes Folders, Blue</td>\n",
       "      <td>OFF-ST-10000988</td>\n",
       "      <td>Storage</td>\n",
       "      <td>25.99</td>\n",
       "      <td>31.97</td>\n",
       "      <td>2</td>\n",
       "      <td>5.98</td>\n",
       "    </tr>\n",
       "    <tr>\n",
       "      <th>1</th>\n",
       "      <td>SanDisk Numeric Keypad, Bluetooth</td>\n",
       "      <td>TEC-AC-10004144</td>\n",
       "      <td>Accessories</td>\n",
       "      <td>55.99</td>\n",
       "      <td>72.23</td>\n",
       "      <td>18</td>\n",
       "      <td>16.24</td>\n",
       "    </tr>\n",
       "  </tbody>\n",
       "</table>\n",
       "</div>"
      ],
      "text/plain": [
       "                        product_name       product_id     category  buy_price  \\\n",
       "0             Fellowes Folders, Blue  OFF-ST-10000988      Storage      25.99   \n",
       "1  SanDisk Numeric Keypad, Bluetooth  TEC-AC-10004144  Accessories      55.99   \n",
       "\n",
       "   sell_price  stock  profit_per_item  \n",
       "0       31.97      2             5.98  \n",
       "1       72.23     18            16.24  "
      ]
     },
     "metadata": {},
     "output_type": "display_data"
    },
    {
     "data": {
      "text/plain": [
       "(1856, 7)"
      ]
     },
     "metadata": {},
     "output_type": "display_data"
    }
   ],
   "source": [
    "dflog = pd.read_csv(\"logistics.csv\")\n",
    "display(dflog.head(2))\n",
    "display(dflog.shape)"
   ]
  },
  {
   "cell_type": "code",
   "execution_count": 4,
   "metadata": {},
   "outputs": [],
   "source": [
    "import streamlit as st\n",
    "import snowflake.connector\n"
   ]
  },
  {
   "attachments": {},
   "cell_type": "markdown",
   "metadata": {},
   "source": [
    "### defining/resetting databases"
   ]
  },
  {
   "cell_type": "code",
   "execution_count": 5,
   "metadata": {},
   "outputs": [
    {
     "name": "stderr",
     "output_type": "stream",
     "text": [
      "2023-04-08 06:46:44.971 INFO    snowflake.connector.connection: Snowflake Connector for Python Version: 3.0.2, Python Version: 3.8.0, Platform: Windows-10-10.0.19041-SP0\n",
      "2023-04-08 06:46:44.973 INFO    snowflake.connector.connection: This connection is in OCSP Fail Open Mode. TLS Certificates would be checked for validity and revocation status. Any other Certificate Revocation related exceptions or OCSP Responder failures would be disregarded in favor of connectivity.\n",
      "2023-04-08 06:46:44.974 INFO    snowflake.connector.connection: Setting use_openssl_only mode to False\n",
      "2023-04-08 06:46:46.698 INFO    snowflake.connector.cursor: query: [CREATE OR REPLACE DATABASE store_it]\n",
      "2023-04-08 06:46:47.022 INFO    snowflake.connector.cursor: query execution done\n",
      "2023-04-08 06:46:47.023 INFO    snowflake.connector.cursor: Number of results in first chunk: 1\n",
      "2023-04-08 06:46:47.024 INFO    snowflake.connector.cursor: query: [USE DATABASE store_it]\n",
      "2023-04-08 06:46:47.209 INFO    snowflake.connector.cursor: query execution done\n",
      "2023-04-08 06:46:47.211 INFO    snowflake.connector.cursor: Number of results in first chunk: 1\n",
      "2023-04-08 06:46:47.212 INFO    snowflake.connector.cursor: query: [CREATE OR REPLACE SCHEMA store_schema]\n",
      "2023-04-08 06:46:47.450 INFO    snowflake.connector.cursor: query execution done\n",
      "2023-04-08 06:46:47.451 INFO    snowflake.connector.cursor: Number of results in first chunk: 1\n",
      "2023-04-08 06:46:47.452 INFO    snowflake.connector.cursor: query: [USE SCHEMA store_schema]\n",
      "2023-04-08 06:46:47.609 INFO    snowflake.connector.cursor: query execution done\n",
      "2023-04-08 06:46:47.609 INFO    snowflake.connector.cursor: Number of results in first chunk: 1\n",
      "2023-04-08 06:46:47.610 INFO    snowflake.connector.cursor: query: [CREATE OR REPLACE TABLE store_data (date VARCHAR, month VARCHAR, year INTEGER, p...]\n",
      "2023-04-08 06:46:47.929 INFO    snowflake.connector.cursor: query execution done\n",
      "2023-04-08 06:46:47.930 INFO    snowflake.connector.cursor: Number of results in first chunk: 1\n",
      "2023-04-08 06:46:48.375 INFO    snowflake.connector.cursor: query: [INSERT INTO store_data (date, month, year, product_id, product_name, category, b...]\n",
      "2023-04-08 06:46:54.209 INFO    snowflake.connector.cursor: query execution done\n",
      "2023-04-08 06:46:54.223 INFO    snowflake.connector.cursor: query: [CREATE OR REPLACE TABLE logistics (product_name VARCHAR, product_id VARCHAR, cat...]\n",
      "2023-04-08 06:46:54.448 INFO    snowflake.connector.cursor: query execution done\n",
      "2023-04-08 06:46:54.449 INFO    snowflake.connector.cursor: Number of results in first chunk: 1\n",
      "2023-04-08 06:46:54.500 INFO    snowflake.connector.cursor: query: [INSERT INTO logistics (product_name, product_id, category, buy_price, sell_price...]\n",
      "2023-04-08 06:46:55.706 INFO    snowflake.connector.cursor: query execution done\n",
      "2023-04-08 06:46:55.709 INFO    snowflake.connector.cursor: query: [COMMIT]\n",
      "2023-04-08 06:46:55.889 INFO    snowflake.connector.cursor: query execution done\n",
      "2023-04-08 06:46:55.890 INFO    snowflake.connector.cursor: Number of results in first chunk: 1\n",
      "2023-04-08 06:46:55.890 INFO    snowflake.connector.connection: closed\n",
      "2023-04-08 06:46:56.008 INFO    snowflake.connector.connection: No async queries seem to be running, deleting session\n"
     ]
    }
   ],
   "source": [
    "# establishing the connection to snowflake\n",
    "conn = snowflake.connector.connect(user = \"mdimasaac\", password = \"Qaz1234.\", account = \"vliobpf-yr09142\")\n",
    "# always begins with defining the cursor\n",
    "cur = conn.cursor()\n",
    "# create a new database\n",
    "cur.execute(\"CREATE OR REPLACE DATABASE store_it\")\n",
    "# use that database\n",
    "cur.execute(\"USE DATABASE store_it\")\n",
    "# create a new schema\n",
    "cur.execute(\"CREATE OR REPLACE SCHEMA store_schema\")\n",
    "# use that schema\n",
    "cur.execute(\"USE SCHEMA store_schema\")\n",
    "# create table 1: store_data\n",
    "cur.execute('''CREATE OR REPLACE TABLE store_data (date VARCHAR, month VARCHAR, year INTEGER, product_id VARCHAR,\n",
    "                product_name VARCHAR, category VARCHAR, buy_price FLOAT, sell_price FLOAT, quantity INTEGER,\n",
    "                sales FLOAT, profit_per_item FLOAT, profit FLOAT)''')\n",
    "data = df.values.tolist()\n",
    "cur.executemany('''INSERT INTO store_data (date, month, year, product_id, product_name, category, buy_price, sell_price,\n",
    "                    quantity, sales, profit_per_item, profit) VALUES (%s, %s, %s, %s, %s, %s, %s, %s, %s, %s, %s, %s)''', data)\n",
    "# create table 2: logistics\n",
    "cur.execute('''CREATE OR REPLACE TABLE logistics (product_name VARCHAR, product_id VARCHAR, category VARCHAR, buy_price FLOAT,\n",
    "                sell_price FLOAT, stock INTEGER, profit_per_item FLOAT)''')\n",
    "datalog = dflog.values.tolist()\n",
    "cur.executemany('''INSERT INTO logistics (product_name, product_id, category, buy_price, sell_price, stock, profit_per_item)\n",
    "                VALUES (%s, %s, %s, %s, %s, %s, %s)''', datalog)\n",
    "# apply changes (?)\n",
    "conn.commit()\n",
    "# ends the action(s)\n",
    "cur.close()\n",
    "conn.close()"
   ]
  }
 ],
 "metadata": {
  "kernelspec": {
   "display_name": "Python 3",
   "language": "python",
   "name": "python3"
  },
  "language_info": {
   "codemirror_mode": {
    "name": "ipython",
    "version": 3
   },
   "file_extension": ".py",
   "mimetype": "text/x-python",
   "name": "python",
   "nbconvert_exporter": "python",
   "pygments_lexer": "ipython3",
   "version": "3.8.0"
  },
  "orig_nbformat": 4,
  "vscode": {
   "interpreter": {
    "hash": "1acc24bd1901f9ae8c29efb6830fcc1ca9fe0219dd00f8f1dc1b91856def15a9"
   }
  }
 },
 "nbformat": 4,
 "nbformat_minor": 2
}
