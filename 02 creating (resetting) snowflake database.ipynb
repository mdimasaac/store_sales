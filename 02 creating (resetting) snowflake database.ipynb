{
 "cells": [
  {
   "cell_type": "code",
   "execution_count": 20,
   "metadata": {},
   "outputs": [],
   "source": [
    "import pandas as pd"
   ]
  },
  {
   "cell_type": "code",
   "execution_count": 21,
   "metadata": {},
   "outputs": [
    {
     "data": {
      "text/html": [
       "<div>\n",
       "<style scoped>\n",
       "    .dataframe tbody tr th:only-of-type {\n",
       "        vertical-align: middle;\n",
       "    }\n",
       "\n",
       "    .dataframe tbody tr th {\n",
       "        vertical-align: top;\n",
       "    }\n",
       "\n",
       "    .dataframe thead th {\n",
       "        text-align: right;\n",
       "    }\n",
       "</style>\n",
       "<table border=\"1\" class=\"dataframe\">\n",
       "  <thead>\n",
       "    <tr style=\"text-align: right;\">\n",
       "      <th></th>\n",
       "      <th>date</th>\n",
       "      <th>month</th>\n",
       "      <th>year</th>\n",
       "      <th>product_id</th>\n",
       "      <th>product_name</th>\n",
       "      <th>category</th>\n",
       "      <th>buy_price</th>\n",
       "      <th>sell_price</th>\n",
       "      <th>quantity</th>\n",
       "      <th>sales</th>\n",
       "      <th>profit_per_item</th>\n",
       "      <th>profit</th>\n",
       "    </tr>\n",
       "  </thead>\n",
       "  <tbody>\n",
       "    <tr>\n",
       "      <th>0</th>\n",
       "      <td>2022-11-02</td>\n",
       "      <td>11</td>\n",
       "      <td>2022</td>\n",
       "      <td>OFF-ST-10000988</td>\n",
       "      <td>Fellowes Folders, Blue</td>\n",
       "      <td>Storage</td>\n",
       "      <td>25.99</td>\n",
       "      <td>33.53</td>\n",
       "      <td>3</td>\n",
       "      <td>77.97</td>\n",
       "      <td>7.54</td>\n",
       "      <td>22.62</td>\n",
       "    </tr>\n",
       "    <tr>\n",
       "      <th>1</th>\n",
       "      <td>2022-11-02</td>\n",
       "      <td>11</td>\n",
       "      <td>2022</td>\n",
       "      <td>TEC-AC-10004144</td>\n",
       "      <td>SanDisk Numeric Keypad, Bluetooth</td>\n",
       "      <td>Accessories</td>\n",
       "      <td>55.99</td>\n",
       "      <td>64.95</td>\n",
       "      <td>7</td>\n",
       "      <td>391.93</td>\n",
       "      <td>8.96</td>\n",
       "      <td>62.72</td>\n",
       "    </tr>\n",
       "  </tbody>\n",
       "</table>\n",
       "</div>"
      ],
      "text/plain": [
       "         date  month  year       product_id  \\\n",
       "0  2022-11-02     11  2022  OFF-ST-10000988   \n",
       "1  2022-11-02     11  2022  TEC-AC-10004144   \n",
       "\n",
       "                        product_name     category  buy_price  sell_price  \\\n",
       "0             Fellowes Folders, Blue      Storage      25.99       33.53   \n",
       "1  SanDisk Numeric Keypad, Bluetooth  Accessories      55.99       64.95   \n",
       "\n",
       "   quantity   sales  profit_per_item  profit  \n",
       "0         3   77.97             7.54   22.62  \n",
       "1         7  391.93             8.96   62.72  "
      ]
     },
     "metadata": {},
     "output_type": "display_data"
    },
    {
     "data": {
      "text/plain": [
       "(10000, 12)"
      ]
     },
     "metadata": {},
     "output_type": "display_data"
    }
   ],
   "source": [
    "df = pd.read_csv(\"store_data.csv\")\n",
    "display(df.head(2))\n",
    "display(df.shape)"
   ]
  },
  {
   "cell_type": "code",
   "execution_count": 22,
   "metadata": {},
   "outputs": [
    {
     "data": {
      "text/html": [
       "<div>\n",
       "<style scoped>\n",
       "    .dataframe tbody tr th:only-of-type {\n",
       "        vertical-align: middle;\n",
       "    }\n",
       "\n",
       "    .dataframe tbody tr th {\n",
       "        vertical-align: top;\n",
       "    }\n",
       "\n",
       "    .dataframe thead th {\n",
       "        text-align: right;\n",
       "    }\n",
       "</style>\n",
       "<table border=\"1\" class=\"dataframe\">\n",
       "  <thead>\n",
       "    <tr style=\"text-align: right;\">\n",
       "      <th></th>\n",
       "      <th>product_name</th>\n",
       "      <th>product_id</th>\n",
       "      <th>category</th>\n",
       "      <th>buy_price</th>\n",
       "      <th>sell_price</th>\n",
       "      <th>stock</th>\n",
       "      <th>profit_per_item</th>\n",
       "    </tr>\n",
       "  </thead>\n",
       "  <tbody>\n",
       "    <tr>\n",
       "      <th>0</th>\n",
       "      <td>Fellowes Folders, Blue</td>\n",
       "      <td>OFF-ST-10000988</td>\n",
       "      <td>Storage</td>\n",
       "      <td>25.99</td>\n",
       "      <td>33.53</td>\n",
       "      <td>16</td>\n",
       "      <td>7.54</td>\n",
       "    </tr>\n",
       "    <tr>\n",
       "      <th>1</th>\n",
       "      <td>SanDisk Numeric Keypad, Bluetooth</td>\n",
       "      <td>TEC-AC-10004144</td>\n",
       "      <td>Accessories</td>\n",
       "      <td>55.99</td>\n",
       "      <td>64.95</td>\n",
       "      <td>10</td>\n",
       "      <td>8.96</td>\n",
       "    </tr>\n",
       "  </tbody>\n",
       "</table>\n",
       "</div>"
      ],
      "text/plain": [
       "                        product_name       product_id     category  buy_price  \\\n",
       "0             Fellowes Folders, Blue  OFF-ST-10000988      Storage      25.99   \n",
       "1  SanDisk Numeric Keypad, Bluetooth  TEC-AC-10004144  Accessories      55.99   \n",
       "\n",
       "   sell_price  stock  profit_per_item  \n",
       "0       33.53     16             7.54  \n",
       "1       64.95     10             8.96  "
      ]
     },
     "metadata": {},
     "output_type": "display_data"
    },
    {
     "data": {
      "text/plain": [
       "(1856, 7)"
      ]
     },
     "metadata": {},
     "output_type": "display_data"
    }
   ],
   "source": [
    "dflog = pd.read_csv(\"logistics.csv\")\n",
    "display(dflog.head(2))\n",
    "display(dflog.shape)"
   ]
  },
  {
   "cell_type": "code",
   "execution_count": 23,
   "metadata": {},
   "outputs": [
    {
     "data": {
      "text/html": [
       "<div>\n",
       "<style scoped>\n",
       "    .dataframe tbody tr th:only-of-type {\n",
       "        vertical-align: middle;\n",
       "    }\n",
       "\n",
       "    .dataframe tbody tr th {\n",
       "        vertical-align: top;\n",
       "    }\n",
       "\n",
       "    .dataframe thead th {\n",
       "        text-align: right;\n",
       "    }\n",
       "</style>\n",
       "<table border=\"1\" class=\"dataframe\">\n",
       "  <thead>\n",
       "    <tr style=\"text-align: right;\">\n",
       "      <th></th>\n",
       "      <th>product_name</th>\n",
       "      <th>category</th>\n",
       "      <th>stock</th>\n",
       "    </tr>\n",
       "  </thead>\n",
       "  <tbody>\n",
       "  </tbody>\n",
       "</table>\n",
       "</div>"
      ],
      "text/plain": [
       "Empty DataFrame\n",
       "Columns: [product_name, category, stock]\n",
       "Index: []"
      ]
     },
     "execution_count": 23,
     "metadata": {},
     "output_type": "execute_result"
    }
   ],
   "source": [
    "dforder = dflog[[\"product_name\",\"category\",\"stock\"]].head(0)\n",
    "dforder"
   ]
  },
  {
   "cell_type": "code",
   "execution_count": 24,
   "metadata": {},
   "outputs": [],
   "source": [
    "import streamlit as st\n",
    "import snowflake.connector\n"
   ]
  },
  {
   "attachments": {},
   "cell_type": "markdown",
   "metadata": {},
   "source": [
    "### defining/resetting databases"
   ]
  },
  {
   "cell_type": "code",
   "execution_count": 25,
   "metadata": {},
   "outputs": [
    {
     "name": "stderr",
     "output_type": "stream",
     "text": [
      "2023-05-05 23:42:08.679 INFO    snowflake.connector.connection: Snowflake Connector for Python Version: 3.0.2, Python Version: 3.8.0, Platform: Windows-10-10.0.19041-SP0\n",
      "2023-05-05 23:42:08.680 INFO    snowflake.connector.connection: This connection is in OCSP Fail Open Mode. TLS Certificates would be checked for validity and revocation status. Any other Certificate Revocation related exceptions or OCSP Responder failures would be disregarded in favor of connectivity.\n",
      "2023-05-05 23:42:09.458 INFO    snowflake.connector.cursor: query: [CREATE OR REPLACE DATABASE store_it]\n",
      "2023-05-05 23:42:09.682 INFO    snowflake.connector.cursor: query execution done\n",
      "2023-05-05 23:42:09.683 INFO    snowflake.connector.cursor: Number of results in first chunk: 1\n",
      "2023-05-05 23:42:09.684 INFO    snowflake.connector.cursor: query: [USE DATABASE store_it]\n",
      "2023-05-05 23:42:09.768 INFO    snowflake.connector.cursor: query execution done\n",
      "2023-05-05 23:42:09.769 INFO    snowflake.connector.cursor: Number of results in first chunk: 1\n",
      "2023-05-05 23:42:09.770 INFO    snowflake.connector.cursor: query: [CREATE OR REPLACE SCHEMA store_schema]\n",
      "2023-05-05 23:42:09.866 INFO    snowflake.connector.cursor: query execution done\n",
      "2023-05-05 23:42:09.867 INFO    snowflake.connector.cursor: Number of results in first chunk: 1\n",
      "2023-05-05 23:42:09.868 INFO    snowflake.connector.cursor: query: [USE SCHEMA store_schema]\n",
      "2023-05-05 23:42:09.942 INFO    snowflake.connector.cursor: query execution done\n",
      "2023-05-05 23:42:09.943 INFO    snowflake.connector.cursor: Number of results in first chunk: 1\n",
      "2023-05-05 23:42:09.944 INFO    snowflake.connector.cursor: query: [CREATE OR REPLACE TABLE store_data (date VARCHAR, month VARCHAR, year INTEGER, p...]\n",
      "2023-05-05 23:42:10.133 INFO    snowflake.connector.cursor: query execution done\n",
      "2023-05-05 23:42:10.133 INFO    snowflake.connector.cursor: Number of results in first chunk: 1\n",
      "2023-05-05 23:42:10.752 INFO    snowflake.connector.cursor: query: [INSERT INTO store_data (date, month, year, product_id, product_name, category, b...]\n",
      "2023-05-05 23:42:16.042 INFO    snowflake.connector.cursor: query execution done\n",
      "2023-05-05 23:42:16.057 INFO    snowflake.connector.cursor: query: [CREATE OR REPLACE TABLE logistics (product_name VARCHAR, product_id VARCHAR, cat...]\n",
      "2023-05-05 23:42:16.203 INFO    snowflake.connector.cursor: query execution done\n",
      "2023-05-05 23:42:16.204 INFO    snowflake.connector.cursor: Number of results in first chunk: 1\n",
      "2023-05-05 23:42:16.256 INFO    snowflake.connector.cursor: query: [INSERT INTO logistics (product_name, product_id, category, buy_price, sell_price...]\n",
      "2023-05-05 23:42:17.295 INFO    snowflake.connector.cursor: query execution done\n",
      "2023-05-05 23:42:17.299 INFO    snowflake.connector.cursor: query: [CREATE OR REPLACE TABLE place_order (date VARCHAR, product_name VARCHAR, categor...]\n",
      "2023-05-05 23:42:17.442 INFO    snowflake.connector.cursor: query execution done\n",
      "2023-05-05 23:42:17.443 INFO    snowflake.connector.cursor: Number of results in first chunk: 1\n",
      "2023-05-05 23:42:17.444 INFO    snowflake.connector.cursor: query: [COMMIT]\n",
      "2023-05-05 23:42:17.502 INFO    snowflake.connector.cursor: query execution done\n",
      "2023-05-05 23:42:17.503 INFO    snowflake.connector.cursor: Number of results in first chunk: 1\n",
      "2023-05-05 23:42:17.504 INFO    snowflake.connector.connection: closed\n",
      "2023-05-05 23:42:17.537 INFO    snowflake.connector.connection: No async queries seem to be running, deleting session\n"
     ]
    }
   ],
   "source": [
    "# establishing the connection to snowflake\n",
    "conn = snowflake.connector.connect(user = \"mdimasaac\", password = \"Snowflake123\", account = \"vliobpf-yr09142\")\n",
    "# always begins with defining the cursor\n",
    "cur = conn.cursor()\n",
    "# create a new database\n",
    "cur.execute(\"CREATE OR REPLACE DATABASE store_it\")\n",
    "# use that database\n",
    "cur.execute(\"USE DATABASE store_it\")\n",
    "# create a new schema\n",
    "cur.execute(\"CREATE OR REPLACE SCHEMA store_schema\")\n",
    "# use that schema\n",
    "cur.execute(\"USE SCHEMA store_schema\")\n",
    "# create table 1: store_data\n",
    "cur.execute('''CREATE OR REPLACE TABLE store_data (date VARCHAR, month VARCHAR, year INTEGER, product_id VARCHAR,\n",
    "                product_name VARCHAR, category VARCHAR, buy_price FLOAT, sell_price FLOAT, quantity INTEGER,\n",
    "                sales FLOAT, profit_per_item FLOAT, profit FLOAT)''')\n",
    "data = df.values.tolist()\n",
    "cur.executemany('''INSERT INTO store_data (date, month, year, product_id, product_name, category, buy_price, sell_price,\n",
    "                    quantity, sales, profit_per_item, profit) VALUES (%s, %s, %s, %s, %s, %s, %s, %s, %s, %s, %s, %s)''', data)\n",
    "# create table 2: logistics\n",
    "cur.execute('''CREATE OR REPLACE TABLE logistics (product_name VARCHAR, product_id VARCHAR, category VARCHAR, buy_price FLOAT,\n",
    "                sell_price FLOAT, stock INTEGER, profit_per_item FLOAT)''')\n",
    "datalog = dflog.values.tolist()\n",
    "cur.executemany('''INSERT INTO logistics (product_name, product_id, category, buy_price, sell_price, stock, profit_per_item)\n",
    "                VALUES (%s, %s, %s, %s, %s, %s, %s)''', datalog)\n",
    "# create table 3: place order\n",
    "cur.execute('''CREATE OR REPLACE TABLE place_order (date VARCHAR, product_name VARCHAR, category VARCHAR,\n",
    "                stock INTEGER)''')\n",
    "# datalog = dflog.values.tolist()\n",
    "# cur.executemany('''INSERT INTO logistics (product_name, product_id, category, buy_price, sell_price, stock, profit_per_item)\n",
    "#                 VALUES (%s, %s, %s, %s, %s, %s, %s)''', datalog)\n",
    "# apply changes (?)\n",
    "conn.commit()\n",
    "# ends the action(s)\n",
    "cur.close()\n",
    "conn.close()"
   ]
  }
 ],
 "metadata": {
  "kernelspec": {
   "display_name": "Python 3",
   "language": "python",
   "name": "python3"
  },
  "language_info": {
   "codemirror_mode": {
    "name": "ipython",
    "version": 3
   },
   "file_extension": ".py",
   "mimetype": "text/x-python",
   "name": "python",
   "nbconvert_exporter": "python",
   "pygments_lexer": "ipython3",
   "version": "3.8.0"
  },
  "orig_nbformat": 4,
  "vscode": {
   "interpreter": {
    "hash": "1acc24bd1901f9ae8c29efb6830fcc1ca9fe0219dd00f8f1dc1b91856def15a9"
   }
  }
 },
 "nbformat": 4,
 "nbformat_minor": 2
}
